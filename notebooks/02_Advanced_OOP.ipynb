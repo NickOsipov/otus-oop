{
 "cells": [
  {
   "cell_type": "markdown",
   "id": "4c4deb9d",
   "metadata": {},
   "source": [
    "# Продвинутый ООП. Продолжение"
   ]
  },
  {
   "cell_type": "markdown",
   "id": "d246a7e8",
   "metadata": {},
   "source": [
    "## 0. План занятия\n",
    "* Познакомиться с основными магическими (dunder) методами Python.\n",
    "* Узнать, как переопределять арифметические операции (`__add__`, `__sub__`, …).\n",
    "* Узнать, как переопределять операции сравнения (`__eq__`, `__lt__`, …).\n",
    "* Познакомиться с декоратором `functools.total_ordering` для упрощённого сравнения объектов.\n",
    "* Освоить магические методы итераций (`__iter__`, `__next__`).\n",
    "* Научиться писать контекстные менеджеры через `__enter__` / `__exit__`."
   ]
  },
  {
   "cell_type": "markdown",
   "id": "044de0ff",
   "metadata": {},
   "source": [
    "## 1. Введение в магические методы"
   ]
  },
  {
   "cell_type": "markdown",
   "id": "00bbf51a",
   "metadata": {},
   "source": [
    "### 1.1 Что такое *dunder*-методы"
   ]
  },
  {
   "cell_type": "markdown",
   "id": "58aa5bd8",
   "metadata": {},
   "source": [
    "**Dunder-методы** (от *dou*ble **under**score) — специальные методы классов Python, чьи имена **начинаются и заканчиваются двумя подчёркиваниями**.  \n",
    "Они определяют, как ваш объект должен вести себя в стандартных конструкциях языка: арифметика, сравнения, `len()`, цикл `for`, контекстный менеджер и т.д.\n"
   ]
  },
  {
   "cell_type": "markdown",
   "id": "cd272167",
   "metadata": {},
   "source": [
    "\n",
    "| Синтаксис Python | Какой метод вызывается | Что настраивается |\n",
    "|------------------|-----------------------|-------------------|\n",
    "| `obj + other`    | `obj.__add__(other)`  | Арифметические операции |\n",
    "| `len(seq)`       | `seq.__len__()`       | Размер/длина объекта |\n",
    "| `for x in seq:`  | `iter(seq)` → `seq.__iter__()` | Итерации |\n",
    "| `a == b`         | `a.__eq__(b)`         | Проверка равенства |\n",
    "| `with res:`      | `res.__enter__()` / `res.__exit__()` | Контекстный менеджер |\n"
   ]
  },
  {
   "cell_type": "markdown",
   "id": "b135f584",
   "metadata": {},
   "source": [
    "> 💡 **Мы почти никогда не вызываем эти методы напрямую**.  \n",
    "> Вместо этого мы *переопределяем* их, чтобы встроенный синтаксис Python «сам» выполнял нужное действие для наших объектов.\n",
    "\n"
   ]
  },
  {
   "cell_type": "markdown",
   "id": "d45c902f",
   "metadata": {},
   "source": [
    "#### Мини-пример"
   ]
  },
  {
   "cell_type": "code",
   "execution_count": 5,
   "id": "ced80e21",
   "metadata": {},
   "outputs": [],
   "source": [
    "class Vector2D:\n",
    "    def __init__(self, x, y):\n",
    "        self.x = x\n",
    "        self.y = y\n",
    "\n",
    "    def __add__(self, other):\n",
    "        return Vector2D(self.x + other.x, self.y + other.y)\n",
    "\n",
    "    def __repr__(self):\n",
    "        return f\"Vector2D({self.x}, {self.y})\""
   ]
  },
  {
   "cell_type": "code",
   "execution_count": null,
   "id": "2741e2e9",
   "metadata": {},
   "outputs": [],
   "source": [
    "self.__add__(other)"
   ]
  },
  {
   "cell_type": "code",
   "execution_count": 6,
   "id": "87b5946d",
   "metadata": {},
   "outputs": [
    {
     "name": "stdout",
     "output_type": "stream",
     "text": [
      "Vector2D(4, 6)\n"
     ]
    }
   ],
   "source": [
    "v1 = Vector2D(1, 2)\n",
    "v2 = Vector2D(3, 4)\n",
    "print(v1 + v2)        # Vector2D(4, 6)"
   ]
  },
  {
   "cell_type": "markdown",
   "id": "6beb5d37",
   "metadata": {},
   "source": [
    "Перегрузка `__add__` делает код **короче и читабельнее**, что особенно полезно в ML-проекте при работе, к примеру, с векторами градиентов, метриками или конфигурациями моделей."
   ]
  },
  {
   "cell_type": "markdown",
   "id": "fa592cda",
   "metadata": {},
   "source": [
    "### 1.2 Зачем знать о *dunder*-методах разработчику ML-проектов"
   ]
  },
  {
   "cell_type": "markdown",
   "id": "b885e131",
   "metadata": {},
   "source": [
    "| Причина | Короткое объяснение | Один показательный пример |\n",
    "|---------|--------------------|---------------------------|\n",
    "| **Читабельный DSL** | Позволяют писать «формулы» и операции над моделями/тензорами так же естественно, как с числами. | `total_loss = ce_loss + l2_loss * 0.001` — работает, потому что в классах лоссов переопределён `__add__` и `__mul__`. |\n",
    "| **Интеграция с популярными библиотеками** | Многие API (`torch.utils.data.DataLoader`, `sklearn` пайплайны) требуют конкретных *dunder*-методов. | Свой класс `CustomDataset` станет совместим с `DataLoader`, если реализовать `__len__` и `__getitem__`. |\n",
    "| **Меньше «клеевого» кода** | Один переопределённый метод даёт поддержку целой группы операций без дополнительных функций. | Реализовав всего `__iter__` и `__next__`, вы автоматически получаете работу с циклом `for`, list-comprehensions и генераторами. |\n",
    "| **Безопасное управление ресурсами** | Контекстные менеджеры через `__enter__` / `__exit__` гарантируют освобождение памяти или файлов. | `with gpu_session(): train_model()` освобождает GPU-ресурсы даже если обучение упало по исключению. |"
   ]
  },
  {
   "cell_type": "markdown",
   "id": "ee154a05",
   "metadata": {},
   "source": [
    "## 2. Арифметические операции"
   ]
  },
  {
   "cell_type": "markdown",
   "id": "9b8b05b9",
   "metadata": {},
   "source": [
    "### 2.1 Обзор арифметических *dunder*-методов  "
   ]
  },
  {
   "cell_type": "markdown",
   "id": "2a0dae55",
   "metadata": {},
   "source": [
    "\n",
    "| Оператор | Левосторонний метод | Правосторонний метод<sup>1</sup> | Что вернут методы |\n",
    "|----------|--------------------|----------------------------------|-------------------|\n",
    "| `a + b`  | `a.__add__(b)`     | `b.__radd__(a)`                  | Новый объект (желательно неизменяемый) **или** `NotImplemented` |\n",
    "| `a - b`  | `a.__sub__(b)`     | `b.__rsub__(a)`                  | то же |\n",
    "| `a * b`  | `a.__mul__(b)`     | `b.__rmul__(a)`                  | то же |\n",
    "| `a / b`  | `a.__truediv__(b)` | `b.__rtruediv__(a)`              | то же |\n",
    "\n",
    "<sup>1</sup> Python вызывает правостороннюю версию только если левый операнд вернул `NotImplemented` **или** не реализует операцию вовсе.  \n",
    "\n",
    "**Короткие правила реализации**\n",
    "\n",
    "1. **Не стоит изменять** левый и правый операнд - лучше возвращать новый объект.  \n",
    "2. Если тип `other` неподдерживаемый → `return NotImplemented`.  \n",
    "3. Для симметричных операций (`+`, `*`) просто делегируйте работу в `__radd__`, `__rmul__`:\n",
    "\n",
    "```python\n",
    "def __radd__(self, other):\n",
    "    return self.__add__(other)\n",
    "```\n",
    "\n",
    "\n",
    "\n"
   ]
  },
  {
   "cell_type": "markdown",
   "id": "7e4ceba8",
   "metadata": {},
   "source": [
    "#### Пример: минимальный `Vector`"
   ]
  },
  {
   "cell_type": "code",
   "execution_count": 11,
   "id": "01ee868d",
   "metadata": {},
   "outputs": [],
   "source": [
    "class Vector:\n",
    "    def __init__(self, *coords):\n",
    "        self.coords = coords\n",
    "\n",
    "    # v + w\n",
    "    def __add__(self, other):\n",
    "        if not isinstance(other, Vector):\n",
    "            return NotImplemented\n",
    "        \n",
    "        summed = (a + b for a, b in zip(self.coords, other.coords))\n",
    "        return Vector(*summed)\n",
    "\n",
    "    # w + v (если w не знает, как сложить Vector)\n",
    "    __radd__ = __add__\n",
    "\n",
    "    def __repr__(self):\n",
    "        return f\"Vector{self.coords}\""
   ]
  },
  {
   "cell_type": "code",
   "execution_count": null,
   "id": "7618f7c3",
   "metadata": {},
   "outputs": [
    {
     "name": "stdout",
     "output_type": "stream",
     "text": [
      "Vector(5, 7, 9)\n",
      "Vector(5, 7, 9)\n"
     ]
    }
   ],
   "source": [
    "v1 = Vector(1, 2, 3)\n",
    "v2 = Vector(4, 5, 6)\n",
    "\n",
    "print(v1 + v2)   # Vector(5, 7, 9)\n",
    "print(v2 + v1)   # Vector(5, 7, 9) — работает благодаря __radd__"
   ]
  },
  {
   "cell_type": "markdown",
   "id": "f479068d",
   "metadata": {},
   "source": [
    "Такой класс уже поддерживает читаемую арифметику, а добавив `__sub__`, `__mul__`, `__truediv__` (в том же стиле) можно писать выражения наподобие `momentum * grad1 - grad2`."
   ]
  },
  {
   "cell_type": "markdown",
   "id": "a50f4f08",
   "metadata": {},
   "source": [
    "### 2.2 Пример: класс `Vector` для градиентов\n",
    "\n",
    "> **Зачем?** Градиент модели — это просто вектор весовых производных.  \n",
    "> Если такой вектор «умеет» в арифметику, код обучения становится читабельным:\n",
    "\n",
    "```python\n",
    "weights -= lr * grad          # вместо for-loop’ов по координатам\n",
    "```\n"
   ]
  },
  {
   "cell_type": "markdown",
   "id": "f9d53f60",
   "metadata": {},
   "source": [
    "#### Реализация класса `Vector`"
   ]
  },
  {
   "cell_type": "code",
   "execution_count": null,
   "id": "9990b68d",
   "metadata": {},
   "outputs": [],
   "source": [
    "from math import sqrt\n",
    "\n",
    "class Vector:\n",
    "    \"\"\"Вектор произвольной длины\"\"\"\n",
    "    \n",
    "    def __init__(self, *coords: float):\n",
    "        if not coords:\n",
    "            raise ValueError(\"Vector must contain at least one coordinate\")\n",
    "        self._coords = tuple(float(c) for c in coords)\n",
    "\n",
    "    # ——— Представление ———\n",
    "    def __repr__(self):\n",
    "        return f\"Vector{self._coords}\"\n",
    "    \n",
    "    # ——— Итерации и len() ———\n",
    "    def __iter__(self):\n",
    "        return iter(self._coords)\n",
    "    \n",
    "    def __len__(self):\n",
    "        return len(self._coords)\n",
    "    \n",
    "    # ——— Арифметика ———\n",
    "    def _check_other(self, other: \"Vector\"):\n",
    "        if not isinstance(other, Vector) or len(other) != len(self):\n",
    "            return NotImplemented\n",
    "        return other\n",
    "\n",
    "    def __add__(self, other):\n",
    "        other = self._check_other(other)\n",
    "        if other is NotImplemented:\n",
    "            return NotImplemented\n",
    "        return Vector(*(a + b for a, b in zip(self, other)))\n",
    "\n",
    "    __radd__ = __add__\n",
    "\n",
    "    def __sub__(self, other):\n",
    "        other = self._check_other(other)\n",
    "        if other is NotImplemented:\n",
    "            return NotImplemented\n",
    "        return Vector(*(a - b for a, b in zip(self, other)))\n",
    "\n",
    "    def __mul__(self, k: float):\n",
    "        if not isinstance(k, (int, float)):\n",
    "            return NotImplemented\n",
    "        return Vector(*(a * k for a in self))\n",
    "    \n",
    "    __rmul__ = __mul__\n",
    "\n",
    "    def __truediv__(self, k: float):\n",
    "        if not isinstance(k, (int, float)):\n",
    "            return NotImplemented\n",
    "        return Vector(*(a / k for a in self))\n",
    "\n",
    "    # Полезные свойства\n",
    "    @property\n",
    "    def norm(self) -> float:\n",
    "        return sqrt(sum(a * a for a in self))"
   ]
  },
  {
   "cell_type": "markdown",
   "id": "33e6f161",
   "metadata": {},
   "source": [
    "#### Использование в обновлении весов"
   ]
  },
  {
   "cell_type": "code",
   "execution_count": 22,
   "id": "62dc9fc2",
   "metadata": {},
   "outputs": [],
   "source": [
    "# «Сырые» данные\n",
    "grad1 = Vector(0.12, -0.03, 0.20)\n",
    "grad2 = Vector(0.08, -0.04, 0.18)\n",
    "weights = Vector(2.0, -1.5, 0.3)\n",
    "lr = 0.01"
   ]
  },
  {
   "cell_type": "code",
   "execution_count": 23,
   "id": "f4442ac0",
   "metadata": {},
   "outputs": [
    {
     "data": {
      "text/plain": [
       "Vector(0.1, -0.035, 0.19)"
      ]
     },
     "execution_count": 23,
     "metadata": {},
     "output_type": "execute_result"
    }
   ],
   "source": [
    "# Считаем средний градиент по двум батчам\n",
    "avg_grad = (grad1 + grad2) * 0.5          # Vector(0.10, -0.035, 0.19)\n",
    "avg_grad"
   ]
  },
  {
   "cell_type": "code",
   "execution_count": 24,
   "id": "7e13df3d",
   "metadata": {},
   "outputs": [
    {
     "name": "stdout",
     "output_type": "stream",
     "text": [
      "new weights: Vector(1.999, -1.49965, 0.2981)\n"
     ]
    }
   ],
   "source": [
    "# Шаг градиентного спуска\n",
    "new_weights = weights - lr * avg_grad     # Vector(1.999, -1.49965, 0.2981)\n",
    "\n",
    "# print(\"‖avg_grad‖ =\", round(avg_grad.norm, 4))\n",
    "print(\"new weights:\", new_weights)"
   ]
  },
  {
   "cell_type": "markdown",
   "id": "9cdbdb94",
   "metadata": {},
   "source": [
    "*Получаем лаконичный, «математичный» код без ручных циклов — именно за счёт перегрузки `__add__`, `__sub__`, `__mul__`, `__truediv__`, `__rmul__`.*"
   ]
  },
  {
   "cell_type": "markdown",
   "id": "f2b462fe",
   "metadata": {},
   "source": [
    "## 3. Сравнение объектов и `total_ordering`"
   ]
  },
  {
   "cell_type": "markdown",
   "id": "5e529517",
   "metadata": {},
   "source": [
    "### 3.1 Методы для сравнения: `__eq__`, `__lt__`, `__gt__`, `__le__`, `__ge__`"
   ]
  },
  {
   "cell_type": "markdown",
   "id": "9a610c68",
   "metadata": {},
   "source": [
    "| Оператор | Метод, который вызывает Python | Что должен вернуть метод |\n",
    "|----------|--------------------------------|--------------------------|\n",
    "| `a == b` | `a.__eq__(b)`                  | `True` / `False` **или** `NotImplemented` |\n",
    "| `a <  b` | `a.__lt__(b)`                  | то же |\n",
    "| `a >  b` | `a.__gt__(b)`                  | то же |\n",
    "| `a <= b` | `a.__le__(b)`                  | то же |\n",
    "| `a >= b` | `a.__ge__(b)`                  | то же |\n"
   ]
  },
  {
   "cell_type": "markdown",
   "id": "1ae3f00e",
   "metadata": {},
   "source": [
    "**Короткие правила**\n",
    "\n",
    "1. Всегда стоит проверить тип аргумента: если он неподдерживаем, возвращаем `NotImplemented` — это позволит Python попробовать правосторонний метод (`b.__gt__(a)` и т.д.).\n",
    "2. Логика всех пяти операций должна быть **согласованной**; несогласованность ломает сортировки и множества.\n",
    "3. Если объект упорядочивается по одному критерию, достаточно реализовать `__eq__` и **одно** из «строгих» сравнений, а остальные сгенерировать декоратором `functools.total_ordering` (разберём в § 3.2)."
   ]
  },
  {
   "cell_type": "markdown",
   "id": "02761bc7",
   "metadata": {},
   "source": [
    "#### Пример: метрика качества"
   ]
  },
  {
   "cell_type": "code",
   "execution_count": 32,
   "id": "1838b83c",
   "metadata": {},
   "outputs": [],
   "source": [
    "class Metric:\n",
    "    \"\"\"\n",
    "    Обёртка над значением метрики.\n",
    "    «Больше» - значит лучше (accuracy, ROC-AUC и т.п.).\n",
    "    \"\"\"\n",
    "    def __init__(self, name: str, value: float):\n",
    "        self.name = name\n",
    "        self.value = float(value)\n",
    "\n",
    "    def __eq__(self, other):\n",
    "        if not isinstance(other, Metric):\n",
    "            return NotImplemented\n",
    "        \n",
    "        return self.value == other.value\n",
    "\n",
    "    def __lt__(self, other):\n",
    "        if not isinstance(other, Metric):\n",
    "            return NotImplemented\n",
    "        \n",
    "        return self.value < other.value    # «меньше» = хуже\n",
    "\n",
    "    def __repr__(self):\n",
    "        return f\"{self.name}: {self.value:.3f}\""
   ]
  },
  {
   "cell_type": "code",
   "execution_count": 33,
   "id": "5f5b1957",
   "metadata": {},
   "outputs": [
    {
     "name": "stdout",
     "output_type": "stream",
     "text": [
      "False\n",
      "True\n",
      "True\n"
     ]
    }
   ],
   "source": [
    "acc_1 = Metric(\"Accuracy\", 0.88)\n",
    "acc_2 = Metric(\"Accuracy\", 0.89)\n",
    "\n",
    "roc_auc = Metric(\"ROC-AUC\", 0.91)\n",
    "roc_auc_2 = Metric(\"ROC-AUC\", 0.92)\n",
    "\n",
    "print(acc_1 == acc_2)       # False\n",
    "print(acc_1 < acc_2)        # True\n",
    "print(roc_auc < roc_auc_2)  # True"
   ]
  },
  {
   "cell_type": "code",
   "execution_count": 34,
   "id": "36fd3593",
   "metadata": {},
   "outputs": [
    {
     "name": "stdout",
     "output_type": "stream",
     "text": [
      "Accuracy: 0.880\n"
     ]
    }
   ],
   "source": [
    "print(acc_1)       # Accuracy: 0.880"
   ]
  },
  {
   "cell_type": "markdown",
   "id": "a78e2c12",
   "metadata": {},
   "source": [
    "Одних `__eq__` + `__lt__` достаточно — остальные операции (`>`, `>=`, `<=`) сгенерированы `total_ordering`, и объект корректно работает с `max`, `sorted`, `set`."
   ]
  },
  {
   "cell_type": "markdown",
   "id": "9fde3b6b",
   "metadata": {},
   "source": [
    "### 3.2 Декоратор `functools.total_ordering`"
   ]
  },
  {
   "cell_type": "markdown",
   "id": "d73f72f5",
   "metadata": {},
   "source": [
    "`functools.total_ordering` — это «ленивый» способ получить полный набор операций сравнения, написав **только два метода**:\n",
    "\n",
    "* `__eq__(self, other)`  \n",
    "* **и** один из строго-порядковых: `__lt__`, `__le__`, `__gt__` или `__ge__`\n",
    "\n",
    "Декоратор автоматически сгенерирует остальные три.\n",
    "\n"
   ]
  },
  {
   "cell_type": "code",
   "execution_count": 28,
   "id": "a8c4ef52",
   "metadata": {},
   "outputs": [],
   "source": [
    "from functools import total_ordering\n",
    "\n",
    "@total_ordering\n",
    "class Experiment:\n",
    "    \"\"\"\n",
    "    Храним id эксперимента и метрику (чем выше метрика тем лучше).\n",
    "    Реализуем __eq__ и __lt__ - остальное достроит декоратор total_ordering.\n",
    "    \"\"\"\n",
    "    def __init__(self, exp_id: str, score: float):\n",
    "        self.exp_id = exp_id\n",
    "        self.score = score\n",
    "\n",
    "    def __eq__(self, other):\n",
    "        if not isinstance(other, Experiment):\n",
    "            return NotImplemented\n",
    "        return self.score == other.score\n",
    "\n",
    "    def __lt__(self, other):\n",
    "        if not isinstance(other, Experiment):\n",
    "            return NotImplemented\n",
    "        return self.score < other.score      # «меньше» = хуже\n",
    "\n",
    "    def __repr__(self):\n",
    "        return f\"{self.exp_id}: {self.score:.3f}\""
   ]
  },
  {
   "cell_type": "code",
   "execution_count": 29,
   "id": "1257959b",
   "metadata": {},
   "outputs": [
    {
     "name": "stdout",
     "output_type": "stream",
     "text": [
      "True\n",
      "False\n"
     ]
    }
   ],
   "source": [
    "exp_1 = Experiment(\"run-42\", 0.875)\n",
    "exp_2 = Experiment(\"run-43\", 0.891)\n",
    "\n",
    "print(exp_1 < exp_2)      # True   (__lt__)\n",
    "print(exp_1 >= exp_2)     # False  (__ge__ сгенерирован автоматически)\n"
   ]
  },
  {
   "cell_type": "code",
   "execution_count": null,
   "id": "b4ebb6ef",
   "metadata": {},
   "outputs": [
    {
     "name": "stdout",
     "output_type": "stream",
     "text": [
      "run-43: 0.891\n"
     ]
    }
   ],
   "source": [
    "print(max(exp_1, exp_2))"
   ]
  },
  {
   "cell_type": "markdown",
   "id": "7c133999",
   "metadata": {},
   "source": [
    "**Плюсы**\n",
    "\n",
    "* Экономия кода: не пишем дублирующие методы.  \n",
    "* Труднее сделать логическую ошибку — достаточно проверить согласованность `__eq__` и одного «строгого» сравнения.\n",
    "\n",
    "**Минусы / ограничения**\n",
    "\n",
    "1. Декоратор **не проверяет** ваши методы на корректность — ответственность за логику остаётся на вас.  \n",
    "2. Все вычисления, необходимые для сравнения, будут выполняться при каждом вызове сгенерённых методов; если они дорогие, кешируйте результат вручную."
   ]
  },
  {
   "cell_type": "markdown",
   "id": "3e4d8da4",
   "metadata": {},
   "source": [
    "### 3.3 Пример: класс `Metric` с возможностью сортировки по значению\n"
   ]
  },
  {
   "cell_type": "code",
   "execution_count": 36,
   "id": "2cc18a37",
   "metadata": {},
   "outputs": [],
   "source": [
    "from functools import total_ordering\n",
    "\n",
    "@total_ordering\n",
    "class Metric:\n",
    "    \"\"\"\n",
    "    Обёртка над значением метрики ― «чем больше, тем лучше».\n",
    "    Достаточно переопределить __eq__ и __lt__; остальные операции\n",
    "    сгенерирует total_ordering.\n",
    "    \"\"\"\n",
    "    def __init__(self, name: str, value: float):\n",
    "        self.name, self.value = name, float(value)\n",
    "\n",
    "    # равенство - одинаковые значения\n",
    "    def __eq__(self, other):\n",
    "        if not isinstance(other, Metric):\n",
    "            return NotImplemented\n",
    "        return self.value == other.value\n",
    "\n",
    "    # «меньше» - хуже (используем для сортировки/max)\n",
    "    def __lt__(self, other):\n",
    "        if not isinstance(other, Metric):\n",
    "            return NotImplemented\n",
    "        return self.value < other.value\n",
    "\n",
    "    def __repr__(self):\n",
    "        return f\"{self.name}: {self.value:.3f}\"\n"
   ]
  },
  {
   "cell_type": "code",
   "execution_count": 38,
   "id": "48a5a865",
   "metadata": {},
   "outputs": [
    {
     "name": "stdout",
     "output_type": "stream",
     "text": [
      "Best metric - ROC-AUC: 0.910\n",
      "Sorted (asc): [F1: 0.840, Accuracy: 0.880, ROC-AUC: 0.910]\n",
      "Sorted (desc): [ROC-AUC: 0.910, Accuracy: 0.880, F1: 0.840]\n"
     ]
    }
   ],
   "source": [
    "scores = [\n",
    "    Metric(\"Accuracy\", 0.88),\n",
    "    Metric(\"ROC-AUC\", 0.91),\n",
    "    Metric(\"F1\",       0.84),\n",
    "]\n",
    "\n",
    "best = max(scores)          # → ROC-AUC: 0.910\n",
    "print(\"Best metric -\", best)\n",
    "\n",
    "# От худшей к лучшей (ascending)\n",
    "print(\"Sorted (asc):\", sorted(scores))\n",
    "\n",
    "# От лучшей к худшей (descending)\n",
    "print(\"Sorted (desc):\", sorted(scores, reverse=True))"
   ]
  },
  {
   "cell_type": "markdown",
   "id": "caa2a763",
   "metadata": {},
   "source": [
    "\n",
    "*За счёт `total_ordering` объект сразу работает с `max`, `min`, `sorted`, `heapq` и любыми структурами, где важен естественный порядок элементов.*"
   ]
  },
  {
   "cell_type": "markdown",
   "id": "061c7564",
   "metadata": {},
   "source": [
    "## 4. Итерационный протокол"
   ]
  },
  {
   "cell_type": "markdown",
   "id": "f685ce18",
   "metadata": {},
   "source": [
    "### 4.1 `__iter__` и `__next__`"
   ]
  },
  {
   "cell_type": "markdown",
   "id": "495c659a",
   "metadata": {},
   "source": [
    "| Что нужно знать | Коротко |\n",
    "|-----------------|---------|\n",
    "| **`__iter__(self)`** | Должен вернуть **итератор** — объект, у которого есть метод `__next__`. Чаще всего — *самого себя*. |\n",
    "| **`__next__(self)`** | Возвращает следующий элемент последовательности. Когда элементов больше нет, поднимает `StopIteration`. |\n",
    "| **Итератор ≠ Iterable** | *Iterable* — то, что можно передать в `iter()`. *Iterator* — конкретный объект, по которому «ходит» цикл. |\n",
    "| **Цикл `for`** | Внутри превращается в: `it = iter(obj)` → `while True: val = next(it)` … |\n",
    "\n"
   ]
  },
  {
   "cell_type": "markdown",
   "id": "b4092013",
   "metadata": {},
   "source": [
    "### 4.2 Пример: `MiniBatchIterator` для генерации батчей"
   ]
  },
  {
   "cell_type": "code",
   "execution_count": null,
   "id": "0670788d",
   "metadata": {},
   "outputs": [],
   "source": [
    "class MiniBatchIterator:\n",
    "    \"\"\"Итерируем по списку данных кусками фиксированного размера.\"\"\"\n",
    "    def __init__(self, data, batch_size):\n",
    "        self.data, self.batch_size = data, batch_size\n",
    "\n",
    "    def __iter__(self):\n",
    "        # print(\"iter self._idx =\", self._idx)\n",
    "        self._idx = 0          # сбрасываем каждый раз при новом iter()\n",
    "        return self\n",
    "\n",
    "    def __next__(self):\n",
    "        # print(\"next self._idx =\", self._idx)\n",
    "        # print(len(self.data))\n",
    "        if self._idx >= len(self.data):\n",
    "            raise StopIteration\n",
    "        batch = self.data[self._idx : self._idx + self.batch_size]\n",
    "        self._idx += self.batch_size\n",
    "        return batch\n"
   ]
  },
  {
   "cell_type": "code",
   "execution_count": 52,
   "id": "e1a1f45e",
   "metadata": {},
   "outputs": [
    {
     "name": "stdout",
     "output_type": "stream",
     "text": [
      "[0, 1, 2]\n",
      "[3, 4, 5]\n",
      "[6, 7, 8]\n",
      "[9]\n"
     ]
    }
   ],
   "source": [
    "batches = MiniBatchIterator(range(10), batch_size=3)\n",
    "\n",
    "for batch in batches:\n",
    "    print(list(batch))       # [0,1,2]  [3,4,5]  [6,7,8]  [9]"
   ]
  },
  {
   "cell_type": "code",
   "execution_count": 50,
   "id": "fe0b0206",
   "metadata": {},
   "outputs": [
    {
     "data": {
      "text/plain": [
       "[9]"
      ]
     },
     "execution_count": 50,
     "metadata": {},
     "output_type": "execute_result"
    }
   ],
   "source": [
    "lst = [0, 1, 2, 3, 4, 5, 6, 7, 8, 9]\n",
    "lst[9:12]"
   ]
  },
  {
   "cell_type": "markdown",
   "id": "01efd598",
   "metadata": {},
   "source": [
    "Такой объект сразу совместим с любыми функциями, ожидающими iterable: `list(batches)`, `sum(len(b) for b in batches)`, а в ML-коде - с обучающим циклом `for X, y in loader:`."
   ]
  },
  {
   "cell_type": "code",
   "execution_count": 53,
   "id": "b6cfac38",
   "metadata": {},
   "outputs": [
    {
     "data": {
      "text/plain": [
       "10"
      ]
     },
     "execution_count": 53,
     "metadata": {},
     "output_type": "execute_result"
    }
   ],
   "source": [
    "sum(len(b) for b in batches)"
   ]
  },
  {
   "cell_type": "markdown",
   "id": "8e544556",
   "metadata": {},
   "source": [
    "## 5. Контекстные менеджеры"
   ]
  },
  {
   "cell_type": "markdown",
   "id": "b28307f3",
   "metadata": {},
   "source": [
    "### 5.0 Контекстный менеджер: что это и зачем они в ML-коде\n",
    "\n",
    "*Контекстный менеджер* — объект, который реализует пары методов `__enter__ / __exit__`.  \n",
    "Используется через конструкцию `with …:`, чтобы **автоматически и надёжно** управлять ресурсами.\n",
    "\n",
    "| Что делает `with` | Почему это важно |\n",
    "|-------------------|------------------|\n",
    "| Гарантирует, что ресурс будет закрыт, даже если внутри блока возникнет исключение. | Устраняет «утечки» файлов, сокетов, GPU-памяти. |\n",
    "| Сокращает «шум» кода: открытие/закрытие явно сгруппированы и находятся рядом. | Повышает читаемость экспериментов и пайплайнов. |\n",
    "| Позволяет вложенные контексты — удобно комбинировать несколько ресурсов. | Например, файл + `torch.no_grad()` + таймер. |\n"
   ]
  },
  {
   "cell_type": "markdown",
   "id": "f9f4be17",
   "metadata": {},
   "source": [
    "#### Типичные случаи в машинном обучении и анализе данных\n",
    "\n",
    "1. **Работа с БД**\n",
    "\n",
    "   ```python\n",
    "   with sqlite3.connect(\"db.sqlite\") as conn:\n",
    "       cursor = conn.cursor()\n",
    "       cursor.execute(\"SELECT * FROM table\")\n",
    "       # соединение автоматически закрывается\n",
    "   ```\n",
    "\n",
    "2. **Отключение градиентов при инференсе**\n",
    "\n",
    "   ```python\n",
    "   with torch.no_grad():\n",
    "       logits = model(X)        # никакой записи в граф\n",
    "   ```\n",
    "\n",
    "3. **Запись логов / метрик**\n",
    "\n",
    "   ```python\n",
    "   with summary_writer.as_default():       # TensorBoard\n",
    "       tf.summary.scalar(\"loss\", loss, step=step)\n",
    "   # файл события надёжно закрыт\n",
    "   ```\n",
    "\n",
    "Контекстные менеджеры делают ML-код **короче, безопаснее и более декларативным**, избавляя от ручного `try/finally` и случайно забытых `close()`."
   ]
  },
  {
   "cell_type": "markdown",
   "id": "d8b7c6b7",
   "metadata": {},
   "source": [
    "### 5.1 Протокол `with` — `__enter__` / `__exit__`\n",
    "\n",
    "| Шаг внутри `with` | Что вызывает Python | Ваше назначение |\n",
    "|-------------------|--------------------|-----------------|\n",
    "| 1. Создаёт менеджер | `mgr = Context()` | ­ |\n",
    "| 2. Входит в блок | `val = mgr.__enter__()` | Подготовить ресурс. Вернуть объект, который будет доступен как `as val` (часто — сам `mgr`). |\n",
    "| 3. Выполняет тело | код внутри `with …:` | ­ |\n",
    "| 4. Выходит из блока | `mgr.__exit__(exc_type, exc, tb)` | Освободить ресурс. Если вернуть **`True`**, подавить возникшее исключение; иначе оно всплывёт. |\n"
   ]
  },
  {
   "cell_type": "markdown",
   "id": "af9d7e7e",
   "metadata": {},
   "source": [
    "\n",
    "#### Пример: измеряем время обучения c помощью `Timer`"
   ]
  },
  {
   "cell_type": "code",
   "execution_count": 56,
   "id": "749121c9",
   "metadata": {},
   "outputs": [],
   "source": [
    "import time\n",
    "\n",
    "class Timer:\n",
    "    def __enter__(self):\n",
    "        self._start = time.perf_counter()\n",
    "        return self            # передаём в блок `as t`\n",
    "    \n",
    "    def __exit__(self, exc_type, exc, tb):\n",
    "        elapsed = time.perf_counter() - self._start\n",
    "        print(f\"Elapsed: {elapsed:.3f}s\")\n",
    "        # ничего не возвращаем\n",
    "\n",
    "def train_model():\n",
    "    time.sleep(0.3)          # имитация долгой работы\n",
    "    print(\"Model trained\")\n",
    "    return True"
   ]
  },
  {
   "cell_type": "code",
   "execution_count": null,
   "id": "aa57aed3",
   "metadata": {},
   "outputs": [
    {
     "name": "stdout",
     "output_type": "stream",
     "text": [
      "Model trained\n",
      "Elapsed: 0.300s\n"
     ]
    }
   ],
   "source": [
    "# использование\n",
    "with Timer() as t:\n",
    "    train_model()"
   ]
  },
  {
   "cell_type": "markdown",
   "id": "25401f37",
   "metadata": {},
   "source": [
    "*Благодаря `__enter__` / `__exit__` ресурс (здесь — таймер, но это может быть файл, подключение к БД, GPU-сессия) гарантированно и безопасно «закрывается» даже при исключениях.*"
   ]
  },
  {
   "cell_type": "markdown",
   "id": "eba113a3",
   "metadata": {},
   "source": [
    "### 5.3 Альтернатива: `contextlib.contextmanager`"
   ]
  },
  {
   "cell_type": "markdown",
   "id": "24b57906",
   "metadata": {},
   "source": [
    "Иногда писать полноценный класс с `__enter__ / __exit__` избыточно.  \n",
    "`contextlib.contextmanager` позволяет создать **функцию-генератор**, которая превращается в контекстный менеджер «на лету».\n"
   ]
  },
  {
   "cell_type": "code",
   "execution_count": 58,
   "id": "00ef24da",
   "metadata": {},
   "outputs": [],
   "source": [
    "from contextlib import contextmanager\n",
    "import sys\n",
    "import io\n",
    "\n",
    "@contextmanager\n",
    "def suppress_stdout():\n",
    "    \"\"\"Временно перенаправляем stdout в «чёрную дыру».\"\"\"\n",
    "    old_stdout = sys.stdout\n",
    "    sys.stdout = io.StringIO()      # 1 подготовка ресурса\n",
    "    try:\n",
    "        yield                       # <- точка, где выполняется тело with-блока\n",
    "    finally:\n",
    "        sys.stdout = old_stdout     # 2 очистка ресурса"
   ]
  },
  {
   "cell_type": "code",
   "execution_count": 59,
   "id": "74dc195b",
   "metadata": {},
   "outputs": [],
   "source": [
    "def noisy_training_loop():\n",
    "    print(\"Starting training...\")\n",
    "    time.sleep(1)\n",
    "    print(\"Training in progress...\")\n",
    "    time.sleep(1)\n",
    "    print(\"Training finished!\")\n",
    "\n",
    "\n",
    "with suppress_stdout():\n",
    "    noisy_training_loop()  # все print’ы будут скрыты"
   ]
  },
  {
   "cell_type": "markdown",
   "id": "12582f86",
   "metadata": {},
   "source": [
    "**Ключевые моменты**\n",
    "\n",
    "1. **До `yield`** — код, эквивалентный `__enter__`: готовим/выделяем ресурс.  \n",
    "2. **После `yield`** — код, эквивалентный `__exit__`: освобождаем ресурс, даже если внутри было исключение.  \n",
    "3. Всё, что передано в `yield <value>`, попадёт в `as <value>` блока `with`.\n",
    "\n",
    "> ✔ Подходит для «одноразовых» простых менеджеров (таймер, подавление логов, временная смена директории).  \n",
    "> ✖ Для сложных объектов с состоянием, наследованием или повторным использованием удобнее полноценный класс."
   ]
  },
  {
   "cell_type": "markdown",
   "id": "d6bd12f3",
   "metadata": {},
   "source": [
    "## 6. Итоги занятия"
   ]
  },
  {
   "cell_type": "markdown",
   "id": "9464e168",
   "metadata": {},
   "source": [
    "* Мы научились писать и переопределять магические методы для арифметики, сравнения, итераций и контекстного менеджера.\n",
    "* Посмотрели примеры из ML‑контекста (векторы градиентов, метрики, батчи, таймеры)."
   ]
  },
  {
   "cell_type": "markdown",
   "id": "5efe08d8",
   "metadata": {},
   "source": [
    "## 7. Домашнее задание"
   ]
  },
  {
   "cell_type": "markdown",
   "id": "28aa97f7",
   "metadata": {},
   "source": [
    "| № | Тема | Постановка задачи | Ключевые проверки |\n",
    "|---|------|------------------|-------------------|\n",
    "| **1** | **`Point`** | Создайте класс точки `Point(x, y)` с поддержкой `__add__`, `__sub__`, умножения на **скаляр** (`p * k` и `k * p`). | ✔ `Point(1,2) + Point(3,4)` → `(4, 6)`.<br>✔ Работают правосторонние операции `__radd__`, `__rmul__`. |\n",
    "| **2** | **`ModelScore` + `total_ordering`** | Класс `ModelScore` хранит `name` и `score`; «лучше» — **больше**. Реализуйте `__eq__` и `__lt__`, а остальные сравнения пусть сгенерирует `total_ordering`. | ✔ `sorted([...])` упорядочивает модели от худшего к лучшему.<br>✔ `max(models)` возвращает модель с наивысшим `score`. |\n",
    "| **3** | **`EvenSequence`** | Итерабельный класс, представляющий **последовательность** чётных чисел от 0 до `n` (не включая). Должен поддерживать:<br>• цикл `for` (`__iter__`, `__next__`)<br>• функцию `len()`<br>• индексирование `obj[i]`. | ✔ `for x in EvenSequence(9)` выводит `0 2 4 6 8`.<br>✔ `len(EvenSequence(10))` возвращает `5`.<br>✔ `EvenSequence(12)[2]` → `4`; при выходе за пределы — `IndexError`. |\n",
    "| **4** | **`FileStats` (context manager)** | Контекстный менеджер, который открывает текстовый файл и делает две вещи:<br>• предоставляет файл как `as f` внутри блока;<br>• при выходе печатает «Lines: _…_, Words: _…_», где _…_ — количество строк и слов в файле. | ✔ Файл доступен внутри `with` как объект-контекст (`with FileStats(path) as f:`).<br>✔ После выхода печатается корректная статистика.<br>✔ Файл закрывается даже при исключении в блоке. |"
   ]
  },
  {
   "cell_type": "code",
   "execution_count": null,
   "id": "92ecd639",
   "metadata": {},
   "outputs": [],
   "source": [
    "file_txt = \"\"\"Несколько строк текста для примера использования\n",
    "контекстного менеджера.\n",
    "Всё, это сообщение будет записано в файл example.txt.\"\"\"\n",
    "\n",
    "with open(\"example.txt\", \"w\") as f:\n",
    "    f.write(file_txt)      # записываем текст в файл"
   ]
  },
  {
   "cell_type": "markdown",
   "id": "97c4678d",
   "metadata": {},
   "source": [
    "### 5★ SeededBatchLoader\n",
    "\n",
    "| Шаг | Требование | Подсказки для проверки |\n",
    "|-----|------------|------------------------|\n",
    "| **1** | **Сигнатура**<br>`SeededBatchLoader(data: list, batch_size: int, shuffle: bool = True)` | В конструкторе сохраните `data`, `batch_size`, `shuffle`. Никаких сторонних импортов, кроме `import random`. |\n",
    "| **2** | **Итератор-протокол**<br>• `__iter__` должен возвращать **самого себя** и сбрасывать внутренний индекс на 0.<br>• `__next__` отдаёт следующий батч; когда данные кончились — начинает новую «эпоху»: опционально перемешивает данные (если `shuffle=True`) и продолжает выдавать батчи. | Проверка: <br>`list(itertools.islice(loader, k))` выдаёт именно `k` батчей.<br>При `shuffle=False` порядок элементов повторяем. |\n",
    "| **3** | **`__len__`**<br>Возвращает количество батчей в одной эпохе. | `len(SeededBatchLoader(range(10), 4))` → `3` (`[0-3]`, `[4-7]`, `[8-9]`). |\n",
    "| **4** | **Контекст-менеджер**<br>`__enter__(seed)` / `__exit__`<br>• Сохраняет текущее состояние ГПСЧ: `state = random.getstate()`.<br>• Делает `random.seed(seed)`.<br>• Возвращает **самого себя**.<br>• В `__exit__` восстанавливает `random.setstate(state)` и не подавляет исключения. | Проверка: <br>`with SeededBatchLoader(data, 2, True) as l1` и тот же блок с тем же `seed` → одинаковые батчи.<br>После выхода из блока глобальный `random.randint(…)` даёт те же результаты, что и до `with`. |\n",
    "| **5** | **Бесконечная генерация**<br>Итератор никогда не заканчивается: потребитель сам решает, сколько батчей взять (например, через `itertools.islice`). | `for i, batch in enumerate(loader): ... if i == 99: break` — цикл работает без ошибок. |\n",
    "\n",
    "#### Подсказки по реализации\n",
    "\n",
    "* В `__next__` храните индекс текущего элемента; когда он «перепрыгивает» через `len(data)`, сформируйте новую эпоху.\n",
    "* Чтобы перемешать данные без NumPy, используйте:  \n",
    "  ```python\n",
    "  if self.shuffle:\n",
    "      random.shuffle(self._data_copy)\n",
    "  ```\n",
    "  где `_data_copy` — копия исходного списка, чтобы не мутировать `self.data`.\n",
    "* Старайтесь **не дублировать код**: например, вынесите логику старта новой эпохи в отдельный метод `_start_epoch()`.\n"
   ]
  }
 ],
 "metadata": {
  "kernelspec": {
   "display_name": ".venv (3.11.12)",
   "language": "python",
   "name": "python3"
  },
  "language_info": {
   "codemirror_mode": {
    "name": "ipython",
    "version": 3
   },
   "file_extension": ".py",
   "mimetype": "text/x-python",
   "name": "python",
   "nbconvert_exporter": "python",
   "pygments_lexer": "ipython3",
   "version": "3.11.12"
  }
 },
 "nbformat": 4,
 "nbformat_minor": 5
}
