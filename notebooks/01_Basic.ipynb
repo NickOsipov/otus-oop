{
 "cells": [
  {
   "cell_type": "markdown",
   "id": "5fc3e07d",
   "metadata": {},
   "source": [
    "# Основы ООП"
   ]
  },
  {
   "cell_type": "markdown",
   "id": "8cdbc1d1",
   "metadata": {},
   "source": [
    "## 1. Введение в ООП\n"
   ]
  },
  {
   "cell_type": "markdown",
   "id": "d62af48b",
   "metadata": {},
   "source": [
    "### 1.1 Что такое объектно-ориентированное программирование\n"
   ]
  },
  {
   "cell_type": "markdown",
   "id": "f3aea138",
   "metadata": {},
   "source": [
    "Объектно-ориентированное программирование (ООП) — это подход, в котором программа строится из **объектов**.  \n",
    "\n",
    "**Объект** = данные (состояние) + функции (поведение), объединённые в единую сущность.  \n",
    "\n",
    "Каждый объект создаётся по **классу** — шаблону, который определяет, *какие* данные и *какие* функции в нём будут.\n",
    "\n",
    "> 🔍 **Аналогия:** чертёж автомобиля — это класс, а каждый реальный автомобиль, со своим номером и пробегом, — объект."
   ]
  },
  {
   "cell_type": "markdown",
   "id": "f7540779",
   "metadata": {},
   "source": [
    "### 1.2 Почему ООП важно в контексте машинного обучения  "
   ]
  },
  {
   "cell_type": "markdown",
   "id": "a1dc4ac1",
   "metadata": {},
   "source": [
    "* **Инкапсуляция состояния модели.** После `fit()` модель хранит выученные параметры внутри объекта, и мы можем вызывать `predict()` без глобальных переменных.  \n",
    "* **Унифицированный API.** В том же Scikit-learn любая модель поддерживает методы `fit`, `predict`, `score` — благодаря единому базовому классу. Это облегчает эксперименты и автоматизацию.  \n",
    "* **Композиция.** Пайплайны (`Pipeline`, `ColumnTransformer`) собирают объекты-шаги в единый объект-процедуру обучения.  \n",
    "* **Расширяемость.** Нам легко добавить собственную модель, переопределив пару методов, вместо переписывания библиотеки.  "
   ]
  },
  {
   "cell_type": "markdown",
   "id": "79daf66c",
   "metadata": {},
   "source": [
    "### 1.3 Основные принципы ООП "
   ]
  },
  {
   "cell_type": "markdown",
   "id": "c84c476f",
   "metadata": {},
   "source": [
    "| Принцип | Идея в одном предложении | Пример из ML |\n",
    "|---------|--------------------------|--------------|\n",
    "| **Инкапсуляция** | Прячем внутреннее устройство объекта и открываем только нужный интерфейс. | `StandardScaler` скрывает формулы нормировки, показывая `fit` и `transform`. |\n",
    "| **Наследование** | Дочерний класс автоматически получает всё от родительского и может добавлять/менять поведение. | `LogisticRegression` → `SGDClassifier`, который расширяет обучение стохастическим градиентом. |\n",
    "| **Полиморфизм** | Разные классы можно использовать одинаковым образом, если у них общий интерфейс. | Функция `cross_val_score(model, X, y)` принимает любой объект с `fit/predict`. |\n",
    "| **Абстракция** | Выделяем главное, скрывая детали реализации. | Термин «модель» объединяет линейные, деревья, нейронные сети, - мы работаем с ними через одинаковые абстракции. |"
   ]
  },
  {
   "cell_type": "markdown",
   "id": "17e1e5a4",
   "metadata": {},
   "source": [
    "### 1.4 Абстракция — что это и зачем нужна  \n"
   ]
  },
  {
   "cell_type": "markdown",
   "id": "05e39692",
   "metadata": {},
   "source": [
    "Абстракция — это выбор **минимального, но достаточного** набора свойств и действий, который описывает объект с точки зрения текущей задачи.  \n",
    "Мы сознательно опускаем всё лишнее, чтобы:\n",
    "\n",
    "* работать с объектом, не вглядываясь в детали его реализации;\n",
    "* свободно изменять «то, что под капотом», не затрагивая внешний код, который этим объектом пользуется.\n",
    "\n",
    "Приложенный к объектам интерфейс (методы и публичные поля) служит «контрактом»: всё остальное остаётся скрытым.\n",
    "\n",
    "#### Пример — класс *DataScientist*  \n",
    "Для рабочего контекста дата-сайентиста достаточно атрибутов  \n",
    "\n",
    "```python\n",
    "stack = {\"Python\", \"SQL\", \"pandas\", \"scikit-learn\"}\n",
    "domain_knowledge = \"финтех\"\n",
    "experience_years = 3\n",
    "```\n",
    "\n",
    "Дополнительные детали вроде `размер_обуви` или `любимое_телешоу` не помогают решать аналитические задачи и потому остаются за рамками модели.  \n",
    "\n",
    "Таким образом, мы абстрагируемся, оставляя лишь характеристики, критичные для решения задач машинного обучения и анализа данных."
   ]
  },
  {
   "cell_type": "markdown",
   "id": "862e0ce8",
   "metadata": {},
   "source": [
    "## 2. Классы и объекты в Python  "
   ]
  },
  {
   "cell_type": "markdown",
   "id": "463e564a",
   "metadata": {},
   "source": [
    "### 2.0 **Классы и объекты**"
   ]
  },
  {
   "cell_type": "markdown",
   "id": "694b5d45",
   "metadata": {},
   "source": [
    "**Ключевая идея:**  \n",
    "> **Класс** — это шаблон (чертёж), в котором описывается, *что* умеют объекты и *какие* данные они могут хранить.  \n",
    "> **Объект** — это конкретный-конкретный экземпляр, «изготовленный» по этому чертежу."
   ]
  },
  {
   "cell_type": "markdown",
   "id": "24d434e4",
   "metadata": {},
   "source": [
    "### 2.1 Класс как шаблон  \n"
   ]
  },
  {
   "cell_type": "markdown",
   "id": "bd810934",
   "metadata": {},
   "source": [
    "\n",
    "* Определяет **имя** (новый «тип данных»).  \n",
    "* Описывает **атрибуты** (данные и поведение), которые появятся у каждого созданного объекта.  \n",
    "* Существует в единственном экземпляре в памяти программы.\n"
   ]
  },
  {
   "cell_type": "markdown",
   "id": "73c061e0",
   "metadata": {},
   "source": [
    "### 2.2 Объект как экземпляр  "
   ]
  },
  {
   "cell_type": "markdown",
   "id": "335ec6ff",
   "metadata": {},
   "source": [
    "\n",
    "* Создаётся вызовом класса, как функции: `obj = MyClass()`.  \n",
    "* Получает собственное, изолированное **состояние**.  \n",
    "* С ним можно работать привычными операциями «точка-нотация»: `obj.attribute`."
   ]
  },
  {
   "cell_type": "markdown",
   "id": "bebdc903",
   "metadata": {},
   "source": [
    "### 2.3 Синтаксис создания классов  "
   ]
  },
  {
   "cell_type": "code",
   "execution_count": 3,
   "id": "2255f0a1",
   "metadata": {},
   "outputs": [],
   "source": [
    "# Пустой класс-шаблон\n",
    "class Car:\n",
    "    pass        # пока ничего внутри\n",
    "\n",
    "# Создание объектов\n",
    "car_1 = Car()     # первый автомобиль\n",
    "car_2 = Car()     # второй автомобиль"
   ]
  },
  {
   "cell_type": "markdown",
   "id": "07a9be64",
   "metadata": {},
   "source": [
    "\n",
    "*Ключевые элементы*  \n",
    "1. `class` + ИмяКласса + `:` — объявление.  \n",
    "2. Внутри блока (отступы!) описываются атрибуты/методы.  \n",
    "3. Если пока нечего писать, используют `pass`.\n",
    "\n",
    "> После этой строки `Car` становится **новым типом** (как `int` или `str`), а `car1`, `car2` — его экземпляры."
   ]
  },
  {
   "cell_type": "markdown",
   "id": "a8b85d96",
   "metadata": {},
   "source": [
    "### 2.4 Простые примеры (без методов)"
   ]
  },
  {
   "cell_type": "markdown",
   "id": "dc8d3bba",
   "metadata": {},
   "source": [
    "#### Пример 1: общие (классовые) атрибуты  "
   ]
  },
  {
   "cell_type": "code",
   "execution_count": 6,
   "id": "b4149672",
   "metadata": {},
   "outputs": [
    {
     "name": "stdout",
     "output_type": "stream",
     "text": [
      "Milky Way\n",
      "Milky Way\n"
     ]
    }
   ],
   "source": [
    "class Planet:\n",
    "    galaxy = \"Milky Way\"      # атрибут класса (общий для всех объектов)\n",
    "\n",
    "earth = Planet()\n",
    "mars  = Planet()\n",
    "\n",
    "print(earth.galaxy)   # Milky Way\n",
    "print(mars.galaxy)    # Milky Way"
   ]
  },
  {
   "cell_type": "markdown",
   "id": "fb7d180b",
   "metadata": {},
   "source": [
    "Атрибут `galaxy` хранится один раз у класса; объекты читают его «по ссылке»."
   ]
  },
  {
   "cell_type": "markdown",
   "id": "ba27730b",
   "metadata": {},
   "source": [
    "#### Пример 2: добавляем уникальные атрибуты «на лету»  \n"
   ]
  },
  {
   "cell_type": "code",
   "execution_count": 7,
   "id": "6596367e",
   "metadata": {},
   "outputs": [
    {
     "name": "stdout",
     "output_type": "stream",
     "text": [
      "5\n"
     ]
    }
   ],
   "source": [
    "class Student:\n",
    "    pass                 # пока пустой\n",
    "\n",
    "nick = Student()\n",
    "nick.name  = \"Nick\"      # создаём поле только у nick\n",
    "nick.grade = 90\n",
    "\n",
    "kate = Student()\n",
    "kate.name  = \"Kate\"\n",
    "kate.grade = 95\n",
    "\n",
    "print(kate.grade - nick.grade)   # 5"
   ]
  },
  {
   "cell_type": "markdown",
   "id": "3d964d77",
   "metadata": {},
   "source": [
    "\n",
    "Так делать можно, но позже мы покажем более структурированный способ создавать\n",
    "и инициализировать объекты (нам понадобится специальный метод — о нём в пункте 4).\n"
   ]
  },
  {
   "cell_type": "markdown",
   "id": "d7445b00",
   "metadata": {},
   "source": [
    "### 2.5 Итоги раздела  \n"
   ]
  },
  {
   "cell_type": "markdown",
   "id": "958986d6",
   "metadata": {},
   "source": [
    "| Понятие | Коротко | Иллюстрация |\n",
    "|---------|---------|-------------|\n",
    "| **Класс** | Шаблон/чертёж | `class Car:` |\n",
    "| **Объект (экземпляр)** | Конкретный «предмет» | `my_car = Car()` |\n",
    "| **class-атрибут** | Общий для всех объектов | `Car.wheels = 4` |\n",
    "| **dot-нотация** | Доступ к атрибутам | `my_car.color = \"red\"` |"
   ]
  },
  {
   "cell_type": "markdown",
   "id": "4436c32e",
   "metadata": {},
   "source": [
    "## 3. Поля (атрибуты) и методы класса\n"
   ]
  },
  {
   "cell_type": "markdown",
   "id": "7389f013",
   "metadata": {},
   "source": [
    "### 3.1  Атрибуты (поля)"
   ]
  },
  {
   "cell_type": "markdown",
   "id": "fac83f51",
   "metadata": {},
   "source": [
    "\n",
    "| Где объявляем | Для кого действует | Когда появляется |\n",
    "|--------------|-------------------|------------------|\n",
    "| **Внутри тела класса** | для **всех** объектов сразу | при создании класса |\n",
    "| **Прямо у объекта** (через точку) или внутри метода | только для **данного** экземпляра | в момент присваивания |\n",
    "\n",
    "\n",
    "Пример:\n",
    "> Применительно к ML-темам: у «точек» координаты разные, но размерность (`dim = 2`) общая.\n"
   ]
  },
  {
   "cell_type": "markdown",
   "id": "92e52706",
   "metadata": {},
   "source": [
    "### 3.2  Методы"
   ]
  },
  {
   "cell_type": "markdown",
   "id": "9688e201",
   "metadata": {},
   "source": [
    "Метод — это функция, объявленная **внутри** класса.  \n",
    "Метод умеет обращаться к данным конкретного объекта."
   ]
  },
  {
   "cell_type": "markdown",
   "id": "31fe7d49",
   "metadata": {},
   "source": [
    "### 3.3  Роль параметра `self`  "
   ]
  },
  {
   "cell_type": "markdown",
   "id": "da24455a",
   "metadata": {},
   "source": [
    "\n",
    "* Первый параметр **каждого** метода экземпляра.  \n",
    "* Ссылается на **тот объект**, который вызвал метод.  \n",
    "* Позволяет читать/менять его атрибуты.  \n",
    "* Передаётся Python-ом автоматически — в вызове мы его не пишем.\n",
    "\n",
    "```python\n",
    "def move(self, dx, dy):   # self ← точка, от чьего имени вызван метод\n",
    "    ...\n",
    "```\n",
    "\n"
   ]
  },
  {
   "cell_type": "markdown",
   "id": "560caab9",
   "metadata": {},
   "source": [
    "### 3.4  Пример: создаём и используем \"точку\" - `Point`\n"
   ]
  },
  {
   "cell_type": "code",
   "execution_count": 10,
   "id": "ac6172a4",
   "metadata": {},
   "outputs": [],
   "source": [
    "# Создание класса с атрибутами и методами\n",
    "class Point:\n",
    "    dim = 2                    # атрибут класса (общий)\n",
    "\n",
    "    # метод, который «заводит» координаты\n",
    "    def set_coords(self, x, y):\n",
    "        self.x = x             # атрибуты объекта (индивидуальные)\n",
    "        self.y = y\n",
    "\n",
    "    # сдвиг точки\n",
    "    def move(self, dx, dy):\n",
    "        self.x += dx\n",
    "        self.y += dy\n",
    "\n",
    "    # вычисление расстояния до начала координат\n",
    "    def distance_to_origin(self):\n",
    "        return (self.x**2 + self.y**2) ** 0.5"
   ]
  },
  {
   "cell_type": "code",
   "execution_count": 11,
   "id": "199349cc",
   "metadata": {},
   "outputs": [
    {
     "name": "stdout",
     "output_type": "stream",
     "text": [
      "5.0\n"
     ]
    }
   ],
   "source": [
    "# Работа с классом\n",
    "p1 = Point()                    # пока координат нет\n",
    "p1.set_coords(3, 4)             # создаём x и y\n",
    "print(p1.distance_to_origin())"
   ]
  },
  {
   "cell_type": "code",
   "execution_count": 12,
   "id": "95f8c70e",
   "metadata": {},
   "outputs": [
    {
     "name": "stdout",
     "output_type": "stream",
     "text": [
      "3 0\n"
     ]
    }
   ],
   "source": [
    "p2 = Point()\n",
    "p2.set_coords(-1, 2)\n",
    "p2.move(4, -2)\n",
    "print(p2.x, p2.y)"
   ]
  },
  {
   "cell_type": "code",
   "execution_count": 13,
   "id": "582e4871",
   "metadata": {},
   "outputs": [
    {
     "name": "stdout",
     "output_type": "stream",
     "text": [
      "2\n"
     ]
    }
   ],
   "source": [
    "print(Point.dim)           # 2  ← общий атрибут читается через класс"
   ]
  },
  {
   "cell_type": "code",
   "execution_count": 14,
   "id": "f7a390cb",
   "metadata": {},
   "outputs": [
    {
     "data": {
      "text/plain": [
       "2"
      ]
     },
     "execution_count": 14,
     "metadata": {},
     "output_type": "execute_result"
    }
   ],
   "source": [
    "p1.dim"
   ]
  },
  {
   "cell_type": "code",
   "execution_count": 15,
   "id": "ba857de5",
   "metadata": {},
   "outputs": [
    {
     "name": "stdout",
     "output_type": "stream",
     "text": [
      "4 1\n"
     ]
    }
   ],
   "source": [
    "Point.move(p2, 1, 1)\n",
    "print(p2.x, p2.y)"
   ]
  },
  {
   "cell_type": "markdown",
   "id": "b4085da1",
   "metadata": {},
   "source": [
    "*Заметьте: координаты появляются только после вызова `set_coords`, а не сразу при создании объекта — автоматическую инициализацию мы введём позднее с помощью `__init__`.*"
   ]
  },
  {
   "cell_type": "markdown",
   "id": "b3285cfa",
   "metadata": {},
   "source": [
    "### 3.5  Итоги раздела"
   ]
  },
  {
   "cell_type": "markdown",
   "id": "d511b6a1",
   "metadata": {},
   "source": [
    "| Понятие | Как записываем | Пример |\n",
    "|---------|----------------|--------|\n",
    "| **Атрибут класса** | внутри тела класса | `dim = 2` |\n",
    "| **Атрибут объекта** | `self.имя` внутри метода **или** `obj.имя = …` снаружи | `self.x`, `p1.y` |\n",
    "| **Метод** | функция в классе, первый параметр `self` | `def move(self, dx, dy): …` |\n",
    "| **`self`** | ссылка на «текущий» объект | `self.x += dx` |"
   ]
  },
  {
   "cell_type": "markdown",
   "id": "11416e43",
   "metadata": {},
   "source": [
    "## 4. Магические (dunder) методы в Python  "
   ]
  },
  {
   "cell_type": "markdown",
   "id": "48b78d2c",
   "metadata": {},
   "source": [
    "> **Магический метод** — это метод, имя которого окружено двойным подчёркиванием (`__name__`).  \n",
    "\n",
    "Python вызывает их **автоматически**, когда объект участвует в определённой операции: создание, печать, сложение, сравнение и т.д.  \n",
    "Благодаря им класс «ведёт себя» как встроенные типы.\n",
    "\n",
    "Dunder-методы — это не просто «магия», а **интерфейсы** для взаимодействия с объектами.  \n",
    "\n",
    "Dunder - **double underscore**.\n",
    "\n"
   ]
  },
  {
   "cell_type": "markdown",
   "id": "a5330592",
   "metadata": {},
   "source": [
    "### 4.1  `__init__(…)` — инициализация объекта  \n",
    "\n"
   ]
  },
  {
   "cell_type": "code",
   "execution_count": 16,
   "id": "f2072584",
   "metadata": {},
   "outputs": [],
   "source": [
    "class Point:\n",
    "    dim = 2                        # общий атрибут\n",
    "\n",
    "    def __init__(self, x: float, y: float):\n",
    "        self.x = x                 # уникальные атрибуты\n",
    "        self.y = y"
   ]
  },
  {
   "cell_type": "markdown",
   "id": "3e6a4d07",
   "metadata": {},
   "source": [
    "\n",
    "*Что происходит?*  \n",
    "1. Python резервирует память под новый `Point`.  \n",
    "2. Сразу после этого вызывает `__init__`, передавая свежесозданный объект в `self`.  \n",
    "3. Мы заполняем внутреннее состояние (`x`, `y`).  \n",
    "\n"
   ]
  },
  {
   "cell_type": "code",
   "execution_count": 17,
   "id": "49470c2c",
   "metadata": {},
   "outputs": [],
   "source": [
    "p = Point(3, 4)        # координаты готовы сразу\n"
   ]
  },
  {
   "cell_type": "code",
   "execution_count": 18,
   "id": "c64c6dd6",
   "metadata": {},
   "outputs": [
    {
     "data": {
      "text/plain": [
       "3"
      ]
     },
     "execution_count": 18,
     "metadata": {},
     "output_type": "execute_result"
    }
   ],
   "source": [
    "p.x"
   ]
  },
  {
   "cell_type": "code",
   "execution_count": 19,
   "id": "ffd1b7f4",
   "metadata": {},
   "outputs": [
    {
     "data": {
      "text/plain": [
       "4"
      ]
     },
     "execution_count": 19,
     "metadata": {},
     "output_type": "execute_result"
    }
   ],
   "source": [
    "p.y"
   ]
  },
  {
   "cell_type": "markdown",
   "id": "f2137771",
   "metadata": {},
   "source": [
    "### 4.2  `__str__` и `__repr__` — человеко-читаемое представление  \n"
   ]
  },
  {
   "cell_type": "markdown",
   "id": "8ae495f9",
   "metadata": {},
   "source": [
    "| Метод | Когда вызывается | Цель |\n",
    "|-------|------------------|------|\n",
    "| `__str__(self)` | print(obj), str(obj) | «Красиво» показать пользователю |\n",
    "| `__repr__(self)` | repr(obj), интерактивная консоль | Однозначное, отладочное представление |"
   ]
  },
  {
   "cell_type": "code",
   "execution_count": 30,
   "id": "a4929452",
   "metadata": {},
   "outputs": [],
   "source": [
    "class Point:\n",
    "    dim = 2\n",
    "\n",
    "    def __init__(self, x, y):\n",
    "        self.x, self.y = x, y\n",
    "\n",
    "    def __repr__(self):\n",
    "        return f\"Point({self.x}; {self.y})\"\n",
    "    \n",
    "    def __str__(self):\n",
    "        return f\"({self.x}, {self.y})\"\n",
    "\n",
    "p = Point(3, 4)\n"
   ]
  },
  {
   "cell_type": "code",
   "execution_count": 31,
   "id": "4ab5572b",
   "metadata": {},
   "outputs": [
    {
     "name": "stdout",
     "output_type": "stream",
     "text": [
      "(3, 4)\n"
     ]
    }
   ],
   "source": [
    "print(p)        # (3; 4)        __str__"
   ]
  },
  {
   "cell_type": "code",
   "execution_count": 32,
   "id": "79eebfe4",
   "metadata": {},
   "outputs": [
    {
     "data": {
      "text/plain": [
       "Point(3; 4)"
      ]
     },
     "execution_count": 32,
     "metadata": {},
     "output_type": "execute_result"
    }
   ],
   "source": [
    "p               # Point(3, 4)   __repr__"
   ]
  },
  {
   "cell_type": "markdown",
   "id": "c2b6ee00",
   "metadata": {},
   "source": [
    "\n",
    "### 4.3  Другие часто-используемые магические методы  *(нужно знать «в лицо» — писать при необходимости)*  \n",
    "\n",
    "| Метод | Триггер | Тип полезной операции для `Point` |\n",
    "|-------|---------|-----------------------------------|\n",
    "| `__len__(self)`        | `len(obj)` | размерность (могли бы вернуть `2`) |\n",
    "\n",
    "* Математические операции которые мы пройдем на следующем занятии: `__add__`, `__sub__`, `__mul__` — для сложения, вычитания, умножения и т.д. \n",
    "\n"
   ]
  },
  {
   "cell_type": "markdown",
   "id": "ea50cea1",
   "metadata": {},
   "source": [
    "## 5. Инкапсуляция  \n"
   ]
  },
  {
   "cell_type": "markdown",
   "id": "5a2279b9",
   "metadata": {},
   "source": [
    "\n",
    "\n",
    "> **Инкапсуляция** — это принцип ООП, который отделяет «как объект устроен внутри» от того «как им пользоваться».  \n",
    "\n",
    "Пользователь видит *интерфейс* (методы / поля, которые можно трогать), а детали «под капотом» прячутся, чтобы:\n",
    "  \n",
    "* не дать случайно сломать состояние объекта;  \n",
    "* сохранить единый способ работы, даже если реализация поменяется.\n",
    "* упростить использование, не нагружая лишними деталями.\n"
   ]
  },
  {
   "cell_type": "markdown",
   "id": "e15b44fe",
   "metadata": {},
   "source": [
    "### 5.1  Зачем это нужно в ML-коде  "
   ]
  },
  {
   "cell_type": "markdown",
   "id": "4dfedc42",
   "metadata": {},
   "source": [
    "* После `fit()` модель хранит обученные параметры; внешнему коду не нужно (и опасно) менять их напрямую.  \n",
    "* У трансформеров (например, `StandardScaler`) статистика (`mean_`, `var_`) доступна только «на чтение»; изменение допустимо лишь через новые вызовы `fit`.  \n"
   ]
  },
  {
   "cell_type": "markdown",
   "id": "24390c53",
   "metadata": {},
   "source": [
    "### 5.2  Уровни «видимости» по договорённости Python  \n"
   ]
  },
  {
   "cell_type": "markdown",
   "id": "f69d0f43",
   "metadata": {},
   "source": [
    "\n",
    "| Запись | Как трактуется | Можно ли обратиться снаружи? | Пример (класс `Point`) |\n",
    "|--------|---------------|------------------------------|------------------------|\n",
    "| `attribute` | **Public** (общедоступный) | Да, свободно. | `p.x`, `p.y` |\n",
    "| `_attribute` | **Protected** (для внутреннего пользования) | Можно, но «на свой страх и риск»; имя подчёркивает, что трогать *не рекомендуется*. | `_cached_norm` |\n",
    "| `__attribute` | **Private** (скрытый) | Прямого доступа нет — Python *переименовывает* это поле в `_ClassName__attribute` (name mangling). | `__id` |\n",
    "\n",
    "🔎 Замечание: \n",
    ">Это **конвенции**, а не строгие правила. Но их придерживаются все крупные библиотеки (включая scikit-learn, PyTorch, TensorFlow).\n",
    "\n"
   ]
  },
  {
   "cell_type": "markdown",
   "id": "a325052d",
   "metadata": {},
   "source": [
    "### 5.3  Пример  \n"
   ]
  },
  {
   "cell_type": "code",
   "execution_count": 34,
   "id": "bce3e22f",
   "metadata": {},
   "outputs": [],
   "source": [
    "class Point:\n",
    "    dim = 2\n",
    "\n",
    "    def __init__(self, x, y):\n",
    "        self.x = x                  # public\n",
    "        self.y = y\n",
    "        self._cached_norm = None    # protected\n",
    "        self.__id = id(self)        # private\n",
    "\n",
    "    def norm(self):\n",
    "        \"\"\"Евклидова норма. Кэшируем результат в _cached_norm.\"\"\"\n",
    "        if self._cached_norm is None:\n",
    "            self._cached_norm = (self.x**2 + self.y**2) ** 0.5\n",
    "        return self._cached_norm\n"
   ]
  },
  {
   "cell_type": "code",
   "execution_count": 36,
   "id": "79f787b2",
   "metadata": {},
   "outputs": [
    {
     "name": "stdout",
     "output_type": "stream",
     "text": [
      "5.0\n"
     ]
    }
   ],
   "source": [
    "p = Point(3, 4)\n",
    "print(p.norm())        # 5.0"
   ]
  },
  {
   "cell_type": "code",
   "execution_count": 37,
   "id": "9eefa6c0",
   "metadata": {},
   "outputs": [
    {
     "name": "stdout",
     "output_type": "stream",
     "text": [
      "3\n"
     ]
    }
   ],
   "source": [
    "print(p.x)             # 3  ← public: ok"
   ]
  },
  {
   "cell_type": "code",
   "execution_count": 38,
   "id": "c4f43f57",
   "metadata": {},
   "outputs": [
    {
     "name": "stdout",
     "output_type": "stream",
     "text": [
      "5.0\n"
     ]
    }
   ],
   "source": [
    "print(p._cached_norm)  # 5.0 ← возможно, но по соглашению «не трогать»"
   ]
  },
  {
   "cell_type": "code",
   "execution_count": 39,
   "id": "5228d50a",
   "metadata": {},
   "outputs": [
    {
     "ename": "AttributeError",
     "evalue": "'Point' object has no attribute '__id'",
     "output_type": "error",
     "traceback": [
      "\u001b[31m---------------------------------------------------------------------------\u001b[39m",
      "\u001b[31mAttributeError\u001b[39m                            Traceback (most recent call last)",
      "\u001b[36mCell\u001b[39m\u001b[36m \u001b[39m\u001b[32mIn[39]\u001b[39m\u001b[32m, line 1\u001b[39m\n\u001b[32m----> \u001b[39m\u001b[32m1\u001b[39m \u001b[38;5;28mprint\u001b[39m(\u001b[43mp\u001b[49m\u001b[43m.\u001b[49m\u001b[43m__id\u001b[49m)        \u001b[38;5;66;03m# AttributeError!\u001b[39;00m\n",
      "\u001b[31mAttributeError\u001b[39m: 'Point' object has no attribute '__id'"
     ]
    }
   ],
   "source": [
    "print(p.__id)        # AttributeError!"
   ]
  },
  {
   "cell_type": "code",
   "execution_count": 40,
   "id": "3106adbc",
   "metadata": {},
   "outputs": [
    {
     "name": "stdout",
     "output_type": "stream",
     "text": [
      "140378860239184\n"
     ]
    }
   ],
   "source": [
    "print(p._Point__id)    # доступ только через «mangled name» (_Point__id) — делать так не стоит"
   ]
  },
  {
   "cell_type": "markdown",
   "id": "f2a16068",
   "metadata": {},
   "source": [
    "### 5.4  Итоги раздела  \n"
   ]
  },
  {
   "cell_type": "markdown",
   "id": "593fc735",
   "metadata": {},
   "source": [
    "\n",
    "\n",
    "* Инкапсуляция помогает защитить внутреннее состояние и поддерживать стабильный интерфейс.  \n",
    "* В Python её обеспечивают **именовые соглашения**:  \n",
    "  * без подчёркиваний → public;  \n",
    "  * один `_` → protected (используйте лишь внутри класса/подкласса);  \n",
    "  * два `__` → private (скрытие через name mangling).  \n",
    "* Даже если «достать» скрытое поле технически возможно, хорошим стилем считается работать только с тем, что класс явно открывает наружу.\n"
   ]
  },
  {
   "cell_type": "markdown",
   "id": "4f8a9440",
   "metadata": {},
   "source": [
    "## 6. Наследование  "
   ]
  },
  {
   "cell_type": "markdown",
   "id": "51c33d10",
   "metadata": {},
   "source": [
    "### 6.1 Концепция  \n"
   ]
  },
  {
   "cell_type": "markdown",
   "id": "c457d88d",
   "metadata": {},
   "source": [
    "> **Наследование** — механизм, позволяющий объявить новый класс (**дочерний, child**) на основе уже существующего (**родительского, base/parent**).  \n",
    "\n",
    "* Дочерний класс **наследует** все поля и методы родителя - не нужно писать их заново.  \n",
    "* При желании он **добавляет** новые возможности или **переопределяет** (заменяет) унаследованные методы.\n",
    "\n",
    "Уточнение:  \n",
    "📌 В ML-библиотеках это даёт единый интерфейс: все модели получают `fit/predict/score`, переопределяя только то, что специфично."
   ]
  },
  {
   "cell_type": "markdown",
   "id": "e11d607b",
   "metadata": {},
   "source": [
    "### 6.2 Синтаксис в Python  \n"
   ]
  },
  {
   "cell_type": "markdown",
   "id": "f70a55a6",
   "metadata": {},
   "source": [
    "\n",
    "```python\n",
    "class Parent:\n",
    "    ...\n",
    "\n",
    "class Child(Parent):          # в скобках имя(я) родительских классов\n",
    "    ...\n",
    "```\n",
    "\n",
    "* Родитель может быть один (обычно) или несколько (множественное наследование).  \n",
    "* Если у класса в скобках ничего не указать, он наследует неявно от `object`."
   ]
  },
  {
   "cell_type": "markdown",
   "id": "ead936a1",
   "metadata": {},
   "source": [
    "### 6.3 `super()` — доступ к родителю  \n",
    "\n"
   ]
  },
  {
   "cell_type": "markdown",
   "id": "42445edc",
   "metadata": {},
   "source": [
    "\n",
    "* Внутри метода дочернего класса вызываем `super().method(...)`, чтобы использовать реализацию родителя и **расширить** её, а не дублировать.  \n",
    "* Особенно важно в `__init__`, чтобы базовый конструктор инициализировал свою часть полей.\n",
    "\n",
    "```python\n",
    "class Child(Parent):\n",
    "    def __init__(self, extra):\n",
    "        super().__init__()     # инициализация Parent\n",
    "        self.extra = extra     # добавляем своё\n",
    "```\n"
   ]
  },
  {
   "cell_type": "markdown",
   "id": "01fa3b15",
   "metadata": {},
   "source": [
    "### 6.4 Мини-иерархии\n"
   ]
  },
  {
   "cell_type": "markdown",
   "id": "89ce7f0c",
   "metadata": {},
   "source": [
    "\n",
    "| Родитель | Дочерний | Что добавили / изменили |\n",
    "|----------|----------|-------------------------|\n",
    "| **`Point`** | `Point3D` | ещё одна координата `z`; переопределяем `distance_to_origin()` |\n",
    "| **`BaseScaler`** | `MinMaxScaler`, `StandardScaler` | каждая реализует свой `transform()`, а общий `fit()` хранит `min_`, `max_`, `mean_`, `std_` |\n",
    "| **`BaseModel`** | `LinearModel`, `KNNModel` | наследуют `score()`; каждая переопределяет `fit/predict` |\n"
   ]
  },
  {
   "cell_type": "markdown",
   "id": "df93a1d5",
   "metadata": {},
   "source": [
    "### 6.5 Примеры"
   ]
  },
  {
   "cell_type": "markdown",
   "id": "abe29386",
   "metadata": {},
   "source": [
    "#### 2-D → 3-D точка  "
   ]
  },
  {
   "cell_type": "code",
   "execution_count": 41,
   "id": "1f175f2f",
   "metadata": {},
   "outputs": [],
   "source": [
    "class Point:\n",
    "    def __init__(self, x, y):\n",
    "        self.x, self.y = x, y\n",
    "\n",
    "    def distance_to_origin(self):\n",
    "        return (self.x**2 + self.y**2) ** 0.5\n",
    "\n",
    "class Point3D(Point):\n",
    "    def __init__(self, x, y, z):\n",
    "        super().__init__(x, y)     # инициализируем x, y через родителя\n",
    "        self.z = z                 # своё поле\n",
    "        \n",
    "    def distance_to_origin(self):  # переопределяем\n",
    "        return (self.x**2 + self.y**2 + self.z**2) ** 0.5\n"
   ]
  },
  {
   "cell_type": "code",
   "execution_count": 42,
   "id": "703c612e",
   "metadata": {},
   "outputs": [
    {
     "name": "stdout",
     "output_type": "stream",
     "text": [
      "5.0\n",
      "13.0\n"
     ]
    }
   ],
   "source": [
    "p2d = Point(3, 4)\n",
    "p3d = Point3D(3, 4, 12)\n",
    "print(p2d.distance_to_origin())   # 5.0\n",
    "print(p3d.distance_to_origin())   # 13.0"
   ]
  },
  {
   "cell_type": "markdown",
   "id": "b9f674f3",
   "metadata": {},
   "source": [
    "#### Базовый скейлер "
   ]
  },
  {
   "cell_type": "code",
   "execution_count": 43,
   "id": "05d75570",
   "metadata": {},
   "outputs": [],
   "source": [
    "class BaseScaler:\n",
    "    def fit(self, data):\n",
    "        raise NotImplementedError  # обязан переопределить потомок\n",
    "    \n",
    "    def transform(self, data):\n",
    "        raise NotImplementedError\n",
    "\n",
    "class MinMaxScaler(BaseScaler):\n",
    "    def fit(self, data):\n",
    "        self.min_, self.max_ = min(data), max(data)\n",
    "        return self\n",
    "    \n",
    "    def transform(self, data):\n",
    "        rng = self.max_ - self.min_\n",
    "        return [(x - self.min_) / rng for x in data]"
   ]
  },
  {
   "cell_type": "code",
   "execution_count": null,
   "id": "71000fb0",
   "metadata": {},
   "outputs": [
    {
     "name": "stdout",
     "output_type": "stream",
     "text": [
      "[0.0, 0.25, 0.5, 0.75, 1.0]\n"
     ]
    }
   ],
   "source": [
    "scaler = MinMaxScaler()\n",
    "data = [1, 2, 3, 4, 5]\n",
    "scaler.fit(data)\n",
    "print(scaler.transform(data))"
   ]
  },
  {
   "cell_type": "markdown",
   "id": "42fa4f8b",
   "metadata": {},
   "source": [
    "*Теперь любая функция, принимающая `BaseScaler`, может работать с `MinMaxScaler` или `StandardScaler`, не заботясь о деталях реализации.*\n"
   ]
  },
  {
   "cell_type": "markdown",
   "id": "a52dbbad",
   "metadata": {},
   "source": [
    "### 6.5 Итоги раздела  "
   ]
  },
  {
   "cell_type": "markdown",
   "id": "178bba39",
   "metadata": {},
   "source": [
    "1. **Наследование** = повторное использование кода + расширяемость.  \n",
    "2. `Child(Parent)` — объявление; `super()` — способ вызвать логику родителя.  \n",
    "3. Часто применяем в ML-коде, чтобы создавать иерархии моделей, трансформеров, коллбэков."
   ]
  },
  {
   "cell_type": "markdown",
   "id": "d3a4ce3b",
   "metadata": {},
   "source": [
    "## 7. Полиморфизм  "
   ]
  },
  {
   "cell_type": "markdown",
   "id": "0fde4744",
   "metadata": {},
   "source": [
    "### 7.1 Идея  "
   ]
  },
  {
   "cell_type": "markdown",
   "id": "b4926949",
   "metadata": {},
   "source": [
    "> **Полиморфизм** («много форм») — возможность обращаться к объектам **разных классов** одинаковым способом, если у них совпадает интерфейс.\n",
    "\n",
    "В Python это основывается не на типах, а на *поведении*: «если у объекта есть метод `predict`, значит, его можно обучить и вызвать предсказание». Такой подход называют **duck typing**.\n"
   ]
  },
  {
   "cell_type": "markdown",
   "id": "7546fd22",
   "metadata": {},
   "source": [
    "### 7.2 Переопределение (override) методов  "
   ]
  },
  {
   "cell_type": "markdown",
   "id": "25dfc8cf",
   "metadata": {},
   "source": [
    "Когда дочерний класс определяет метод **с тем же именем**, что и у родителя, версия родителя *скрывается*, и вызывается новая реализация:\n",
    "\n",
    "```python\n",
    "class Point:\n",
    "    def distance_to_origin(self):\n",
    "        ...\n",
    "class Point3D(Point):\n",
    "    def distance_to_origin(self):        # переопределяем\n",
    "        ...\n",
    "```\n",
    "\n",
    "При обращении `obj.distance_to_origin()` Python смотрит на **фактический** класс объекта и вызывает соответствующее определение.\n",
    "\n",
    "\n"
   ]
  },
  {
   "cell_type": "markdown",
   "id": "64df5729",
   "metadata": {},
   "source": [
    "### 7.3 Мини-пример: расстояние для 2-D и 3-D точек  "
   ]
  },
  {
   "cell_type": "code",
   "execution_count": 45,
   "id": "57b8a295",
   "metadata": {},
   "outputs": [
    {
     "name": "stdout",
     "output_type": "stream",
     "text": [
      "5.0\n",
      "13.0\n"
     ]
    }
   ],
   "source": [
    "def norm(point):\n",
    "    \"\"\"Принимает ЛЮБОЙ объект с методом distance_to_origin().\"\"\"\n",
    "    return point.distance_to_origin()\n",
    "\n",
    "p2 = Point(3, 4)\n",
    "p3 = Point3D(3, 4, 12)\n",
    "\n",
    "for p in (p2, p3):\n",
    "    print(norm(p))          # 5.0  и  13.0"
   ]
  },
  {
   "cell_type": "markdown",
   "id": "397473e4",
   "metadata": {},
   "source": [
    "*Функция ничего не знает о классе объекта — важно лишь, что у него есть нужный метод.*  "
   ]
  },
  {
   "cell_type": "markdown",
   "id": "dd97363b",
   "metadata": {},
   "source": [
    "### 7.4 Пример из ML-контекста: скейлеры  "
   ]
  },
  {
   "cell_type": "code",
   "execution_count": 46,
   "id": "19fbc8f9",
   "metadata": {},
   "outputs": [],
   "source": [
    "class BaseScaler:\n",
    "    def fit(self, data): ...\n",
    "    def transform(self, data): ...\n",
    "\n",
    "class MinMaxScaler(BaseScaler):\n",
    "    ...    # собственная реализация\n",
    "\n",
    "class StandardScaler(BaseScaler):\n",
    "    ...    # своя формула\n"
   ]
  },
  {
   "cell_type": "code",
   "execution_count": 47,
   "id": "bff7aca0",
   "metadata": {},
   "outputs": [],
   "source": [
    "def scale_dataset(data, scaler: BaseScaler):\n",
    "    # работает с любым наследником BaseScaler\n",
    "    return scaler.fit(data).transform(data)"
   ]
  },
  {
   "cell_type": "code",
   "execution_count": 48,
   "id": "77b2c4b7",
   "metadata": {},
   "outputs": [
    {
     "ename": "AttributeError",
     "evalue": "'NoneType' object has no attribute 'transform'",
     "output_type": "error",
     "traceback": [
      "\u001b[31m---------------------------------------------------------------------------\u001b[39m",
      "\u001b[31mAttributeError\u001b[39m                            Traceback (most recent call last)",
      "\u001b[36mCell\u001b[39m\u001b[36m \u001b[39m\u001b[32mIn[48]\u001b[39m\u001b[32m, line 3\u001b[39m\n\u001b[32m      1\u001b[39m raw = [\u001b[32m1\u001b[39m, \u001b[32m2\u001b[39m, \u001b[32m3\u001b[39m, \u001b[32m4\u001b[39m, \u001b[32m5\u001b[39m, ...]\n\u001b[32m----> \u001b[39m\u001b[32m3\u001b[39m data_norm = \u001b[43mscale_dataset\u001b[49m\u001b[43m(\u001b[49m\u001b[43mraw\u001b[49m\u001b[43m,\u001b[49m\u001b[43m \u001b[49m\u001b[43mMinMaxScaler\u001b[49m\u001b[43m(\u001b[49m\u001b[43m)\u001b[49m\u001b[43m)\u001b[49m\n\u001b[32m      4\u001b[39m data_std  = scale_dataset(raw, StandardScaler())\n",
      "\u001b[36mCell\u001b[39m\u001b[36m \u001b[39m\u001b[32mIn[47]\u001b[39m\u001b[32m, line 3\u001b[39m, in \u001b[36mscale_dataset\u001b[39m\u001b[34m(data, scaler)\u001b[39m\n\u001b[32m      1\u001b[39m \u001b[38;5;28;01mdef\u001b[39;00m\u001b[38;5;250m \u001b[39m\u001b[34mscale_dataset\u001b[39m(data, scaler: BaseScaler):\n\u001b[32m      2\u001b[39m     \u001b[38;5;66;03m# работает с любым наследником BaseScaler\u001b[39;00m\n\u001b[32m----> \u001b[39m\u001b[32m3\u001b[39m     \u001b[38;5;28;01mreturn\u001b[39;00m \u001b[43mscaler\u001b[49m\u001b[43m.\u001b[49m\u001b[43mfit\u001b[49m\u001b[43m(\u001b[49m\u001b[43mdata\u001b[49m\u001b[43m)\u001b[49m\u001b[43m.\u001b[49m\u001b[43mtransform\u001b[49m(data)\n",
      "\u001b[31mAttributeError\u001b[39m: 'NoneType' object has no attribute 'transform'"
     ]
    }
   ],
   "source": [
    "raw = [1, 2, 3, 4, 5, ...]\n",
    "\n",
    "data_norm = scale_dataset(raw, MinMaxScaler())\n",
    "data_std  = scale_dataset(raw, StandardScaler())"
   ]
  },
  {
   "cell_type": "markdown",
   "id": "7868def8",
   "metadata": {},
   "source": [
    "Функция `scale_dataset` **полиморфна**: одинаковый код служит для двух разных классов-скейлеров."
   ]
  },
  {
   "cell_type": "markdown",
   "id": "af2b884b",
   "metadata": {},
   "source": [
    "### 7.5 Встроённые примеры полиморфизма в Python  \n"
   ]
  },
  {
   "cell_type": "markdown",
   "id": "7c2c7868",
   "metadata": {},
   "source": [
    "\n",
    "* `len()` работает с `list`, `dict`, `str`, `numpy.array` — каждый тип реализует собственный `__len__`.  \n",
    "* Операция `+` действует по-разному для чисел, строк, списков — за счёт разных `__add__` внутри классов.\n"
   ]
  },
  {
   "cell_type": "markdown",
   "id": "2bca7317",
   "metadata": {},
   "source": [
    "### 7.6 Важные моменты  "
   ]
  },
  {
   "cell_type": "markdown",
   "id": "841444bc",
   "metadata": {},
   "source": [
    "1. **Полиморфизм = единый интерфейс для разных реализаций.**  \n",
    "2. В Python он достигается переопределением методов и duck typing.  \n",
    "3. В ML-коде это даёт свободу: функции `train`, `evaluate`, пайплайн-менеджеры и т.п. принимают «что угодно», если там есть `fit`/`predict`.  "
   ]
  },
  {
   "cell_type": "markdown",
   "id": "964b35d6",
   "metadata": {},
   "source": [
    "## 8. Практические примеры ООП в контексте машинного обучения  "
   ]
  },
  {
   "cell_type": "markdown",
   "id": "47f1bd91",
   "metadata": {},
   "source": [
    "### 8.1 Мини-иерархия «своих» моделей ML  "
   ]
  },
  {
   "cell_type": "markdown",
   "id": "4be21a2f",
   "metadata": {},
   "source": [
    "Посмотрим, как **наследование** + **полиморфизм** позволяют писать общий код обучения / оценки, не заботясь о конкретном алгоритме."
   ]
  },
  {
   "cell_type": "code",
   "execution_count": 49,
   "id": "41ded4a5",
   "metadata": {},
   "outputs": [],
   "source": [
    "class BaseModel:                      # единый интерфейс\n",
    "    def fit(self, X, y):\n",
    "        raise NotImplementedError     # «контракт» для потомков\n",
    "    def predict(self, X):\n",
    "        raise NotImplementedError\n",
    "    \n",
    "\n",
    "class MeanRegressor(BaseModel):       # ➜ ŷ = среднее train-целей\n",
    "    def fit(self, X, y):\n",
    "        self.mean_ = sum(y) / len(y)\n",
    "        return self\n",
    "    \n",
    "    def predict(self, X):\n",
    "        return [self.mean_] * len(X)\n",
    "    \n",
    "\n",
    "class MajorityClassifier(BaseModel):  # ➜ класс-мода\n",
    "    def fit(self, X, y):\n",
    "        self.majority_ = max(set(y), key=y.count)\n",
    "        return self\n",
    "    \n",
    "    def predict(self, X):\n",
    "        return [self.majority_] * len(X)"
   ]
  },
  {
   "cell_type": "code",
   "execution_count": 50,
   "id": "d88f10c4",
   "metadata": {},
   "outputs": [
    {
     "name": "stdout",
     "output_type": "stream",
     "text": [
      "0.2\n",
      "0.6\n"
     ]
    }
   ],
   "source": [
    "def evaluate(model: BaseModel, X, y):\n",
    "    model.fit(X, y)\n",
    "    preds = model.predict(X)\n",
    "    return sum(int(a == b) for a, b in zip(preds, y)) / len(y)\n",
    "\n",
    "X = [1, 2, 3, 4, 5]\n",
    "y_reg = [1, 2, 3, 4, 5]\n",
    "y_clf = [1, 2, 2, 2, 3]\n",
    "\n",
    "score_1 = evaluate(MeanRegressor(),  X, y_reg)\n",
    "score_2 = evaluate(MajorityClassifier(), X, y_clf)\n",
    "\n",
    "print(score_1)\n",
    "print(score_2)"
   ]
  },
  {
   "cell_type": "markdown",
   "id": "9f372174",
   "metadata": {},
   "source": [
    "\n",
    "*Функция `evaluate` «не знает», какая именно модель придёт — важно лишь, что у неё есть `fit` и `predict`.*  \n"
   ]
  },
  {
   "cell_type": "markdown",
   "id": "d853ac4d",
   "metadata": {},
   "source": [
    "### 8.2 Как это повторяется в реальных библиотеках  \n"
   ]
  },
  {
   "cell_type": "markdown",
   "id": "569253d1",
   "metadata": {},
   "source": [
    "| Библиотека | Базовый класс | Что наследуют | Примеры наследников |\n",
    "|------------|---------------|---------------|---------------------|\n",
    "| **scikit-learn** | `BaseEstimator` | все модели, скейлеры, пайплайны | `LogisticRegression`, `RandomForestClassifier`, `StandardScaler`, `Pipeline` |\n",
    "| **PyTorch** | `torch.nn.Module` | любые нейронные сети и их блоки | `Linear`, `Conv2d`, `TransformerEncoder` |\n",
    "| **TensorFlow/Keras** | `tf.keras.Model`, `tf.keras.layers.Layer` | модели и слои | `Dense`, `LSTM`, `Sequential` |\n",
    "| **XGBoost / LightGBM** | собственные классы-обёртки с `fit`/`predict` | бустинговые модели | `XGBClassifier`, `LGBMRegressor` |\n",
    "\n",
    "*Во всех случаях используется один и тот же принцип:*  \n",
    "1. **Наследуем** базовый класс, чтобы получить «обязательные» методы.  \n",
    "2. **Переопределяем** логику (`forward`, `fit`, `transform` …).  \n",
    "3. Любой внешний код (GridSearch, cross-validation, автологер, пайплайн) ждёт **только** этот интерфейс и работает «вслепую» с любым конкретным классом."
   ]
  },
  {
   "cell_type": "markdown",
   "id": "825db8ca",
   "metadata": {},
   "source": [
    "### 8.3 ООП-принципы в действии  \n"
   ]
  },
  {
   "cell_type": "markdown",
   "id": "793cff8b",
   "metadata": {},
   "source": [
    "\n",
    "| Принцип | Как проявляется в ML-коде |\n",
    "|---------|--------------------------|\n",
    "| **Инкапсуляция** | Параметры модели (`coef_`, `mean_`, веса сети) спрятаны внутри; внешнему коду открываются безопасные методы `fit` / `predict`. |\n",
    "| **Наследование** | `StandardScaler` и `MinMaxScaler` наследуют общий «скелет» `BaseEstimator`; все модели PyTorch наследуют `nn.Module`. |\n",
    "| **Полиморфизм** | Функции `cross_val_score`, `Pipeline`, `Trainer` принимают *любой* объект, если у него есть нужные методы. |\n",
    "| **Абстракция** | Термины «модель», «трансформер», «optimizer» описывают идеи, а не детали реализации. |\n",
    "\n"
   ]
  },
  {
   "cell_type": "markdown",
   "id": "fc566d54",
   "metadata": {},
   "source": [
    "## 9. Итоги занятия"
   ]
  },
  {
   "cell_type": "markdown",
   "id": "baba5157",
   "metadata": {},
   "source": [
    "* **Объектно-ориентированное программирование** — это способ организовать код, чтобы он был удобен в использовании и расширении.\n",
    "* **Классы** — это шаблоны, которые описывают, *что* умеют объекты и *какие* данные они могут хранить.\n",
    "* **Объекты** — это конкретные экземпляры классов, которые хранят своё состояние и поведение.\n",
    "* **Методы** — это функции, которые работают с данными объекта и могут изменять его состояние.\n"
   ]
  },
  {
   "cell_type": "markdown",
   "id": "29527697",
   "metadata": {},
   "source": [
    "* **Инкапсуляция** — это принцип, который отделяет внутреннее устройство объекта от его интерфейса.\n",
    "* **Наследование** — это механизм, позволяющий создавать новые классы на основе уже существующих.\n",
    "* **Полиморфизм** — это возможность обращаться к объектам разных классов одинаковым образом, если у них совпадает интерфейс.\n",
    "* **Абстракция** — это выделение главного, скрывая детали реализации."
   ]
  },
  {
   "cell_type": "markdown",
   "id": "766a00e6",
   "metadata": {},
   "source": [
    "* **Магические методы** — это специальные методы, которые позволяют объектам вести себя как встроенные типы (например, `__init__`, `__str__`, `__add__`).\n",
    "* **Python** использует соглашения для инкапсуляции: `public`, `_protected`, `__private`.\n",
    "* **В ML-коде** ООП помогает организовать модели, трансформеры и пайплайны, чтобы они были удобны в использовании и расширении.\n",
    "* **Библиотеки** (scikit-learn, PyTorch, TensorFlow) используют ООП для создания моделей и трансформеров с единым интерфейсом. "
   ]
  },
  {
   "cell_type": "markdown",
   "id": "84479c40",
   "metadata": {},
   "source": [
    "* **Принципы ООП** позволяют писать общий код для обучения и оценки моделей, не заботясь о конкретных алгоритмах."
   ]
  },
  {
   "cell_type": "markdown",
   "id": "b8042262",
   "metadata": {},
   "source": [
    "## 10. Домашнее задание\n"
   ]
  },
  {
   "cell_type": "markdown",
   "id": "b4fd73f3",
   "metadata": {},
   "source": [
    "Цель — укрепить понимание классов, наследования и полиморфизма на маленьких, но живых примерах, связанных c ML-контекстом.  \n",
    "\n",
    "| № | Тема | Постановка задачи | Ключевые проверки |\n",
    "|---|------|------------------|-------------------|\n",
    "| **1** | **Создание простого класса** | **`Rectangle`**<br>1. Конструктор принимает `width`, `height`.<br>2. Метод `area()` возвращает площадь.<br>3. Метод `scale(k)` умножает обе стороны на `k`. | ✔ Поля хранятся в объекте.<br>✔ `area` даёт правильное число.<br>✔ `scale` меняет состояние. |\n",
    "| **2** | **Наследование** | **`Square`**<br>1. Наследуется от `Rectangle`.<br>2. Принимает один параметр `side` и вызывает `super().__init__(side, side)`.<br>3. Метод `area()` переопределять **не нужно** — наследуется. | ✔ Используется `super()`.<br>✔ `Square(4).area()` = 16. |\n",
    "| **3** | **Полиморфизм, часть 1** | Напишите функцию `surface(shape)` — принимает **любой** объект, у которого есть метод `area()`. Проверьте с `Rectangle` и `Square`. | ✔ Функция работает для обоих классов без `isinstance`. |\n"
   ]
  },
  {
   "cell_type": "markdown",
   "id": "6c24ee20",
   "metadata": {},
   "source": [
    "4 номер - Полиморфизм (мини-ML) со зввёздочкой\n",
    "\n",
    "| Шаг | Требование | Подсказки для проверки |\n",
    "|-----|------------|------------------------|\n",
    "| **1** | **Базовый класс**<br>Создайте `BaseModel` с абстрактными методами<br>`fit(self, X, y)` и `predict(self, X)`.<br>Методы должны выбрасывать `NotImplementedError`. | В конструкторе ничего хранить не нужно. |\n",
    "| **2a** | **MedianRegressor** ― регрессия-«по-медиане»<br>• В `fit` сохраните медиану `y` (`statistics.median`).<br>• В `predict` верните список из этой медианы той же длины, что и `X`. | Проверка: `MedianRegressor().fit(X, [1,2,10]).predict(X)` → `[2,2,…]` |\n",
    "| **2b** | **PriorProbClassifier** ― максимально простой классификатор с априорным распределением.<br>• В `fit` посчитайте частоты классов и сохраните их как словарь `{label: prob}`.<br>• В `predict` для *каждого* объекта случайно выберите класс **по тем же вероятностям** (см. `random.choices`) | Проверка: частота предсказаний примерно совпадает с обучающей. |\n",
    "| **3** | **evaluate(model, X, y, task='reg')**<br>• Вызывает `fit` → `predict`.<br>• Если `task='reg'`, считает **MAE** (ср. абсолютная ошибка).<br>• Если `task='clf'`, считает **accuracy**. | Для теста вызовите:<br>`evaluate(MedianRegressor(), X, y_reg, task='reg')`<br>`evaluate(PriorProbClassifier(), X, y_clf, task='clf')` |\n",
    "| **4** | **Полиморфизм**<br>Убедитесь, что функция `evaluate` корректно работает с обоими классами **без изменений** своего кода. | Отсутствуют условные проверки типа `isinstance(model, …)` |\n",
    "\n",
    "#### Подсказки по реализации\n",
    "\n",
    "* **MedianRegressor** — классический «baseline» для MAE-метрик; медиану трудно «побить» по средней абсолютной ошибке.\n",
    "* **PriorProbClassifier** — «честный» случайный базис, который учитывает несбалансированность классов и даёт интуитивный ориентир: если accuracy близка к частоте самого популярного класса, модель почти ничему не научилась.\n",
    "\n",
    "> **Совет:** используйте стандартные модули `statistics` и `random`, чтобы не тянуть внешние зависимости."
   ]
  }
 ],
 "metadata": {
  "kernelspec": {
   "display_name": ".venv (3.11.12)",
   "language": "python",
   "name": "python3"
  },
  "language_info": {
   "codemirror_mode": {
    "name": "ipython",
    "version": 3
   },
   "file_extension": ".py",
   "mimetype": "text/x-python",
   "name": "python",
   "nbconvert_exporter": "python",
   "pygments_lexer": "ipython3",
   "version": "3.11.12"
  }
 },
 "nbformat": 4,
 "nbformat_minor": 5
}
