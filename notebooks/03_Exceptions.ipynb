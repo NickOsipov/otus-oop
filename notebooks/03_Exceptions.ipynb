{
 "cells": [
  {
   "cell_type": "markdown",
   "metadata": {
    "id": "Atcm-7__clCX"
   },
   "source": [
    "# Продвинутый ООП. Исключения \n",
    "\n",
    "## План занятия в ноутбуке\n",
    "\n",
    "- Познакомиться с продвинутыми концепциями объектно-ориентированного программирования в Python\n",
    "- Изучить специальные методы классов: `staticmethod`, `classmethod` и `property`\n",
    "- Научиться работать с исключениями и обрабатывать ошибки через механизм `try-except`\n",
    "\n",
    "## Почему важно изучать продвинутый ООП?\n",
    "\n",
    "Объектно-ориентированное программирование (ООП) - один из фундаментальных подходов в современной разработке программного обеспечения. В контексте машинного обучения и анализа данных, ООП позволяет:\n",
    "\n",
    "1. **Структурировать код**: Создавать модульные, многоразовые компоненты для обработки данных и моделирования\n",
    "2. **Обеспечивать абстракцию**: Скрывать сложные детали реализации за простыми интерфейсами\n",
    "3. **Улучшать читаемость**: Делать код более понятным и поддерживаемым\n",
    "4. **Организовывать совместную работу**: Упрощать разработку в команде благодаря четким границам модулей\n",
    "\n",
    "## Связь с машинным обучением\n",
    "\n",
    "Многие библиотеки для машинного обучения в Python, такие как scikit-learn, PyTorch и TensorFlow, активно используют принципы ООП:\n",
    "\n",
    "```python\n",
    "# Пример использования ООП в scikit-learn\n",
    "from sklearn.linear_model import LinearRegression\n",
    "\n",
    "# Создание экземпляра класса\n",
    "model = LinearRegression()\n",
    "\n",
    "# Обучение модели\n",
    "model.fit(X_train, y_train)\n",
    "\n",
    "# Получение предсказаний\n",
    "predictions = model.predict(X_test)\n",
    "```\n",
    "\n",
    "## Что мы изучим на этом занятии?\n",
    "\n",
    "1. **Специальные методы класса**:\n",
    "   - `staticmethod`: методы, не зависящие от экземпляра или класса\n",
    "   - `classmethod`: методы, работающие с классом, а не с экземпляром\n",
    "\n",
    "2. **Работа с атрибутами через property**:\n",
    "   - Геттеры и сеттеры в Python\n",
    "   - Контроль доступа к атрибутам\n",
    "\n",
    "3. **Исключения и обработка ошибок**:\n",
    "   - Механизм исключений в Python\n",
    "   - Блоки `try-except` для обработки ошибок\n",
    "\n",
    "## Почему эти темы важны для ML Engineer?\n",
    "\n",
    "- **Создание собственных преобразований данных** с использованием парадигмы ООП\n",
    "- **Безопасная обработка ошибок** при работе с большими объемами данных\n",
    "- **Создание сложных конвейеров обработки данных** с использованием инкапсуляции\n",
    "- **Разработка воспроизводимых экспериментов** с помощью классов и объектов\n"
   ]
  },
  {
   "cell_type": "markdown",
   "metadata": {
    "id": "_t_qDU3Wc5PU"
   },
   "source": [
    "# Специальные методы классов: staticmethod\n",
    "\n",
    "## Что такое `staticmethod`?\n",
    "\n",
    "`staticmethod` — это декоратор в Python, который превращает обычный метод класса в статический метод. \n",
    "\n",
    "Статические методы не привязаны к экземпляру класса или к самому классу. Они работают как обычные функции, но находятся в пространстве имен класса.\n",
    "\n",
    "## Особенности статических методов\n",
    "\n",
    "1. **Не принимают обязательных параметров `self`**\n",
    "2. **Не имеют доступа к атрибутам экземпляра или класса напрямую**\n",
    "3. **Могут вызываться как через класс, так и через экземпляр класса**\n",
    "4. **Не могут изменять состояние объекта или класса**\n",
    "\n"
   ]
  },
  {
   "cell_type": "markdown",
   "metadata": {
    "id": "_-DYIo4W3jUj"
   },
   "source": [
    "## Синтаксис"
   ]
  },
  {
   "cell_type": "code",
   "execution_count": null,
   "metadata": {
    "id": "YRLGvka2ceQk"
   },
   "outputs": [],
   "source": [
    "class MyClass:\n",
    "    @staticmethod\n",
    "    def static_method(param_1, param_2):\n",
    "        # Реализация метода\n",
    "        pass"
   ]
  },
  {
   "cell_type": "markdown",
   "metadata": {
    "id": "lPKoKlQ03H9Q"
   },
   "source": [
    "## Пример 1: Базовое использование"
   ]
  },
  {
   "cell_type": "code",
   "execution_count": 50,
   "metadata": {
    "id": "p21t3u5GdjjP"
   },
   "outputs": [],
   "source": [
    "# Рассмотрим простой пример класса `MathHelper` с несколькими статическими методами:\n",
    "\n",
    "class MathHelper:\n",
    "    @staticmethod\n",
    "    def add(a, b):\n",
    "        return a + b\n",
    "\n",
    "    @staticmethod\n",
    "    def multiply(a, b):\n",
    "        return a * b\n"
   ]
  },
  {
   "cell_type": "code",
   "execution_count": 51,
   "metadata": {},
   "outputs": [
    {
     "name": "stdout",
     "output_type": "stream",
     "text": [
      "8\n",
      "8\n"
     ]
    }
   ],
   "source": [
    "# Использование статических методов\n",
    "print(MathHelper.add(5, 3))  # Вызов через класс\n",
    "print(MathHelper.multiply(4, 2))  # Вызов через класс"
   ]
  },
  {
   "cell_type": "markdown",
   "metadata": {
    "id": "oq29X3o5d8uz"
   },
   "source": [
    "В этом примере:\n",
    "- Методы в классе являются статическими\n",
    "- Они не имеют доступа к состоянию объекта\n",
    "- Их можно вызывать напрямую через класс, без создания экземпляра"
   ]
  },
  {
   "cell_type": "markdown",
   "metadata": {},
   "source": [
    "## Пример 2: Статические методы для валидации данных"
   ]
  },
  {
   "cell_type": "code",
   "execution_count": null,
   "metadata": {},
   "outputs": [],
   "source": [
    "## Статические методы часто используются для валидации входных данных:\n",
    "\n",
    "class DataProcessor:\n",
    "    def __init__(self, data):\n",
    "        if not DataProcessor.is_valid_data(data):\n",
    "            raise ValueError(\"Invalid data format\")\n",
    "        self.data = data\n",
    "\n",
    "    @staticmethod\n",
    "    def is_valid_data(data):\n",
    "        \"\"\"Проверяет, соответствуют ли данные ожидаемому формату.\"\"\"\n",
    "        if not isinstance(data, list):\n",
    "            return False\n",
    "        return all(isinstance(item, (int, float)) for item in data)"
   ]
  },
  {
   "cell_type": "code",
   "execution_count": null,
   "metadata": {},
   "outputs": [
    {
     "name": "stdout",
     "output_type": "stream",
     "text": [
      "Original data: [1, 2, 3, 4, 5]\n"
     ]
    }
   ],
   "source": [
    "# Пример использования\n",
    "# Валидные данные\n",
    "processor = DataProcessor([1, 2, 3, 4, 5])\n",
    "print(\"Original data:\", processor.data)"
   ]
  },
  {
   "cell_type": "code",
   "execution_count": 58,
   "metadata": {},
   "outputs": [
    {
     "ename": "ValueError",
     "evalue": "Invalid data format",
     "output_type": "error",
     "traceback": [
      "\u001b[31m---------------------------------------------------------------------------\u001b[39m",
      "\u001b[31mValueError\u001b[39m                                Traceback (most recent call last)",
      "\u001b[36mCell\u001b[39m\u001b[36m \u001b[39m\u001b[32mIn[58]\u001b[39m\u001b[32m, line 2\u001b[39m\n\u001b[32m      1\u001b[39m \u001b[38;5;66;03m# Невалидные данные\u001b[39;00m\n\u001b[32m----> \u001b[39m\u001b[32m2\u001b[39m invalid_processor = \u001b[43mDataProcessor\u001b[49m\u001b[43m(\u001b[49m\u001b[43m[\u001b[49m\u001b[32;43m1\u001b[39;49m\u001b[43m,\u001b[49m\u001b[43m \u001b[49m\u001b[32;43m2\u001b[39;49m\u001b[43m,\u001b[49m\u001b[43m \u001b[49m\u001b[33;43m\"\u001b[39;49m\u001b[33;43mc\u001b[39;49m\u001b[33;43m\"\u001b[39;49m\u001b[43m]\u001b[49m\u001b[43m)\u001b[49m\n",
      "\u001b[36mCell\u001b[39m\u001b[36m \u001b[39m\u001b[32mIn[55]\u001b[39m\u001b[32m, line 6\u001b[39m, in \u001b[36mDataProcessor.__init__\u001b[39m\u001b[34m(self, data)\u001b[39m\n\u001b[32m      4\u001b[39m \u001b[38;5;28;01mdef\u001b[39;00m\u001b[38;5;250m \u001b[39m\u001b[34m__init__\u001b[39m(\u001b[38;5;28mself\u001b[39m, data):\n\u001b[32m      5\u001b[39m     \u001b[38;5;28;01mif\u001b[39;00m \u001b[38;5;129;01mnot\u001b[39;00m DataProcessor.is_valid_data(data):\n\u001b[32m----> \u001b[39m\u001b[32m6\u001b[39m         \u001b[38;5;28;01mraise\u001b[39;00m \u001b[38;5;167;01mValueError\u001b[39;00m(\u001b[33m\"\u001b[39m\u001b[33mInvalid data format\u001b[39m\u001b[33m\"\u001b[39m)\n\u001b[32m      7\u001b[39m     \u001b[38;5;28mself\u001b[39m.data = data\n",
      "\u001b[31mValueError\u001b[39m: Invalid data format"
     ]
    }
   ],
   "source": [
    "# Невалидные данные\n",
    "invalid_processor = DataProcessor([1, 2, \"c\"])"
   ]
  },
  {
   "cell_type": "markdown",
   "metadata": {
    "id": "pchkmt6JdYt9"
   },
   "source": [
    "\n",
    "## Когда использовать статические методы?\n",
    "\n",
    "Статические методы лучше всего использовать, когда:\n",
    "\n",
    "1. **Функциональность связана с классом, но не требует доступа к его атрибутам**\n",
    "2. **Логика не зависит от состояния объекта**\n",
    "3. **Вы хотите сгруппировать вспомогательные функции в соответствующем классе**\n",
    "4. **Метод используется в нескольких других методах класса**\n",
    "\n",
    "\n",
    "## Преимущества использования staticmethod\n",
    "\n",
    "1. **Организация кода**: Логически связанные функции можно группировать внутри соответствующего класса\n",
    "2. **Читаемость**: Ясно указывает, что метод не зависит от состояния объекта\n",
    "3. **Пространство имен**: Избегает загрязнения глобального пространства имен\n",
    "4. **Повторное использование**: Статические методы можно использовать без создания экземпляра класса\n",
    "\n",
    "## Когда НЕ использовать staticmethod\n",
    "\n",
    "1. Когда метод нуждается в доступе к состоянию объекта (используйте обычные методы)\n",
    "2. Когда метод нуждается в доступе к атрибутам класса (используйте classmethod)\n",
    "3. Если функция не имеет логической связи с классом (используйте обычную функцию)"
   ]
  },
  {
   "cell_type": "markdown",
   "metadata": {
    "id": "quP324eBgMUS"
   },
   "source": [
    "# Специальные методы классов: classmethod\n",
    "\n",
    "## Что такое `classmethod`?\n",
    "\n",
    "`classmethod` — это декоратор в Python, который превращает обычный метод класса в метод класса (class method). В отличие от статических методов, методы класса получают ссылку на класс в качестве первого аргумента.\n",
    "\n",
    "## Особенности методов класса\n",
    "\n",
    "1. **Принимают ссылку на класс (`cls`) в качестве первого параметра**\n",
    "2. **Имеют доступ к атрибутам и методам класса**\n",
    "3. **Не имеют прямого доступа к атрибутам экземпляра класса**\n",
    "4. **Могут использоваться для создания альтернативных конструкторов**\n",
    "5. **Могут вызываться как через класс, так и через экземпляр класса**\n"
   ]
  },
  {
   "cell_type": "markdown",
   "metadata": {},
   "source": [
    "## Синтаксис"
   ]
  },
  {
   "cell_type": "code",
   "execution_count": null,
   "metadata": {},
   "outputs": [],
   "source": [
    "class MyClass:\n",
    "    @classmethod\n",
    "    def class_method(cls, param1, param2):\n",
    "        # Реализация метода\n",
    "        pass"
   ]
  },
  {
   "cell_type": "markdown",
   "metadata": {},
   "source": [
    "## Пример 1: Базовое использование"
   ]
  },
  {
   "cell_type": "code",
   "execution_count": null,
   "metadata": {},
   "outputs": [],
   "source": [
    "# Рассмотрим пример с классом, представляющим дату:\n",
    "import datetime\n",
    "\n",
    "class Date:\n",
    "    def __init__(self, day, month, year):\n",
    "        self.day = day\n",
    "        self.month = month\n",
    "        self.year = year\n",
    "\n",
    "    def __str__(self):\n",
    "        return f\"{self.day:02d}/{self.month:02d}/{self.year}\"\n",
    "\n",
    "    @classmethod\n",
    "    def from_string(cls, date_string, sep=\"-\"):\n",
    "        \"\"\"Создает объект Date из строки формата DD-MM-YYYY.\"\"\"\n",
    "        day, month, year = map(int, date_string.split(sep))\n",
    "        # Обратите внимание, как мы используем cls вместо явного имени класса\n",
    "        return cls(day, month, year)\n",
    "\n",
    "    @classmethod\n",
    "    def today(cls):\n",
    "        \"\"\"Возвращает текущую дату.\"\"\"\n",
    "        now = datetime.datetime.now()\n",
    "        return cls(now.day, now.month, now.year)\n"
   ]
  },
  {
   "cell_type": "code",
   "execution_count": 66,
   "metadata": {},
   "outputs": [
    {
     "name": "stdout",
     "output_type": "stream",
     "text": [
      "15/10/2023\n"
     ]
    }
   ],
   "source": [
    "# Обычное создание объекта\n",
    "date_1 = Date(15, 10, 2023)\n",
    "print(date_1)  # 15/10/2023"
   ]
  },
  {
   "cell_type": "code",
   "execution_count": 73,
   "metadata": {},
   "outputs": [
    {
     "name": "stdout",
     "output_type": "stream",
     "text": [
      "25/12/2023\n"
     ]
    }
   ],
   "source": [
    "# Создание объекта с помощью classmethod\n",
    "date_2 = Date.from_string(\"25/12/2023\", \"/\")\n",
    "print(date_2)  # 25/12/2023"
   ]
  },
  {
   "cell_type": "code",
   "execution_count": 75,
   "metadata": {},
   "outputs": [
    {
     "name": "stdout",
     "output_type": "stream",
     "text": [
      "06/05/2025\n"
     ]
    }
   ],
   "source": [
    "# Получение текущей даты\n",
    "today = Date.today()\n",
    "print(today)  # Текущая дата в формате DD/MM/YYYY"
   ]
  },
  {
   "cell_type": "markdown",
   "metadata": {
    "id": "VtLalw2fhtbj"
   },
   "source": [
    "\n",
    "В этом примере:\n",
    "- `from_string` и `today` являются методами класса\n",
    "- Они используют `cls` вместо явного имени класса `Date`\n",
    "- Это позволяет им создавать новые экземпляры класса"
   ]
  },
  {
   "cell_type": "markdown",
   "metadata": {},
   "source": [
    "# Пример 2: Работа с атрибутами класса"
   ]
  },
  {
   "cell_type": "code",
   "execution_count": 76,
   "metadata": {},
   "outputs": [],
   "source": [
    "class DataScientist:\n",
    "    count = 0  # Атрибут класса — количество специалистов\n",
    "\n",
    "    def __init__(self, name, salary):\n",
    "        self.name = name\n",
    "        self.salary = salary\n",
    "        DataScientist.count += 1  # Увеличиваем счетчик при создании объекта\n",
    "\n",
    "    def __str__(self):\n",
    "        return f\"{self.name}: {self.salary}\"\n",
    "\n",
    "    @classmethod\n",
    "    def get_count(cls):\n",
    "        \"\"\"Возвращает количество специалистов.\"\"\"\n",
    "        return cls.count\n",
    "\n",
    "    @classmethod\n",
    "    def get_average_salary(cls, scientists):\n",
    "        \"\"\"Вычисляет среднюю зарплату среди специалистов.\"\"\"\n",
    "        if not scientists:\n",
    "            return 0\n",
    "        total = sum(ds.salary for ds in scientists)\n",
    "        return total / len(scientists)\n",
    "\n",
    "    @classmethod\n",
    "    def reset_count(cls):\n",
    "        \"\"\"Сбрасывает счетчик специалистов.\"\"\"\n",
    "        cls.count = 0\n"
   ]
  },
  {
   "cell_type": "code",
   "execution_count": 77,
   "metadata": {},
   "outputs": [],
   "source": [
    "# Создаем специалистов\n",
    "ds_1 = DataScientist(\"Анна\", 300000)\n",
    "ds_2 = DataScientist(\"Иван\", 160000)\n",
    "ds_3 = DataScientist(\"Антон\", 250000)\n"
   ]
  },
  {
   "cell_type": "code",
   "execution_count": 78,
   "metadata": {},
   "outputs": [
    {
     "name": "stdout",
     "output_type": "stream",
     "text": [
      "Всего специалистов: 3\n"
     ]
    }
   ],
   "source": [
    "# Используем методы класса\n",
    "print(f\"Всего специалистов: {DataScientist.get_count()}\")  # Всего специалистов: 3\n"
   ]
  },
  {
   "cell_type": "code",
   "execution_count": 79,
   "metadata": {},
   "outputs": [
    {
     "name": "stdout",
     "output_type": "stream",
     "text": [
      "Средняя зарплата: 236666.67\n"
     ]
    }
   ],
   "source": [
    "ds_lst = [ds_1, ds_2, ds_3]\n",
    "average_salary = DataScientist.get_average_salary(ds_lst)\n",
    "print(f\"Средняя зарплата: {average_salary:.2f}\")  # Средняя зарплата"
   ]
  },
  {
   "cell_type": "code",
   "execution_count": 80,
   "metadata": {},
   "outputs": [
    {
     "name": "stdout",
     "output_type": "stream",
     "text": [
      "После сброса: 0\n"
     ]
    }
   ],
   "source": [
    "# Сбрасываем счетчик\n",
    "DataScientist.reset_count()\n",
    "print(f\"После сброса: {DataScientist.get_count()}\")  # После сброса: 0"
   ]
  },
  {
   "cell_type": "code",
   "execution_count": 81,
   "metadata": {},
   "outputs": [
    {
     "name": "stdout",
     "output_type": "stream",
     "text": [
      "Всего специалистов: 1\n"
     ]
    }
   ],
   "source": [
    "ds_4 = DataScientist(\"Елена\", 200000)\n",
    "print(f\"Всего специалистов: {DataScientist.get_count()}\")  # Всего специалистов: 1"
   ]
  },
  {
   "cell_type": "markdown",
   "metadata": {},
   "source": [
    "## Когда использовать методы класса?\n",
    "\n",
    "Методы класса лучше всего использовать, когда:\n",
    "\n",
    "1. **Нужен доступ к атрибутам класса (но не экземпляра)**\n",
    "2. **Требуется создать альтернативный способ создания экземпляров класса**\n",
    "3. **Метод логически связан с классом, но не с конкретным экземпляром**\n",
    "4. **Нужно создать метод, который может изменять класс**"
   ]
  },
  {
   "cell_type": "markdown",
   "metadata": {
    "id": "0nTN9Uyy4ogL"
   },
   "source": [
    "## Сравнение обычных методов, staticmethod и classmethod\n",
    "\n",
    "### Для лучшего понимания разницы между типами методов, рассмотрим все три типа в одном классе:"
   ]
  },
  {
   "cell_type": "code",
   "execution_count": 1,
   "metadata": {
    "id": "ByV2w7R_hFjx"
   },
   "outputs": [],
   "source": [
    "class MyClass:\n",
    "    class_variable = \"переменная класса\"\n",
    "\n",
    "    def __init__(self, instance_variable):\n",
    "        self.instance_variable = instance_variable\n",
    "\n",
    "    # Обычный метод — имеет доступ к self\n",
    "    def regular_method(self):\n",
    "        print(f\"Обычный метод имеет доступ к:\")\n",
    "        print(f\"- Переменным экземпляра: {self.instance_variable}\")\n",
    "        print(f\"- Переменным класса: {self.class_variable}\")\n",
    "        print(f\"- Имя класса: {self.__class__.__name__}\")\n",
    "\n",
    "    # Метод класса — имеет доступ к cls\n",
    "    @classmethod\n",
    "    def class_method(cls):\n",
    "        print(f\"Метод класса имеет доступ к:\")\n",
    "        print(f\"- Переменным класса: {cls.class_variable}\")\n",
    "        print(f\"- Имя класса: {cls.__name__}\")\n",
    "        print(f\"- Переменным экземпляра: {cls.instance_variable}\")  # Ошибка!\n",
    "\n",
    "    # Статический метод — не имеет доступа к self или cls\n",
    "    @staticmethod\n",
    "    def static_method():\n",
    "        print(f\"Статический метод не имеет доступа к:\")\n",
    "        print(f\"- Переменным экземпляра\")\n",
    "        # Можно получить доступ к переменным класса, только явно указав имя класса\n",
    "        print(f\"- Переменным класса (только явно): {MyClass.class_variable}\")\n"
   ]
  },
  {
   "cell_type": "code",
   "execution_count": 2,
   "metadata": {
    "id": "BwMlKAaP4kcI"
   },
   "outputs": [],
   "source": [
    "# Создаем экземпляр\n",
    "obj = MyClass(\"Я переменная экземпляра\")"
   ]
  },
  {
   "cell_type": "code",
   "execution_count": 3,
   "metadata": {},
   "outputs": [
    {
     "name": "stdout",
     "output_type": "stream",
     "text": [
      "1. Вызов через экземпляр:\n",
      "Обычный метод имеет доступ к:\n",
      "- Переменным экземпляра: Я переменная экземпляра\n",
      "- Переменным класса: переменная класса\n",
      "- Имя класса: MyClass\n"
     ]
    }
   ],
   "source": [
    "# Вызываем методы\n",
    "print(\"1. Вызов через экземпляр:\")\n",
    "obj.regular_method()\n"
   ]
  },
  {
   "cell_type": "code",
   "execution_count": 4,
   "metadata": {},
   "outputs": [
    {
     "name": "stdout",
     "output_type": "stream",
     "text": [
      "\n",
      "2. Вызов через экземпляр:\n",
      "Метод класса имеет доступ к:\n",
      "- Переменным класса: переменная класса\n",
      "- Имя класса: MyClass\n"
     ]
    },
    {
     "ename": "AttributeError",
     "evalue": "type object 'MyClass' has no attribute 'instance_variable'",
     "output_type": "error",
     "traceback": [
      "\u001b[31m---------------------------------------------------------------------------\u001b[39m",
      "\u001b[31mAttributeError\u001b[39m                            Traceback (most recent call last)",
      "\u001b[36mCell\u001b[39m\u001b[36m \u001b[39m\u001b[32mIn[4]\u001b[39m\u001b[32m, line 2\u001b[39m\n\u001b[32m      1\u001b[39m \u001b[38;5;28mprint\u001b[39m(\u001b[33m\"\u001b[39m\u001b[38;5;130;01m\\n\u001b[39;00m\u001b[33m2. Вызов через экземпляр:\u001b[39m\u001b[33m\"\u001b[39m)\n\u001b[32m----> \u001b[39m\u001b[32m2\u001b[39m \u001b[43mobj\u001b[49m\u001b[43m.\u001b[49m\u001b[43mclass_method\u001b[49m\u001b[43m(\u001b[49m\u001b[43m)\u001b[49m\n",
      "\u001b[36mCell\u001b[39m\u001b[36m \u001b[39m\u001b[32mIn[1]\u001b[39m\u001b[32m, line 20\u001b[39m, in \u001b[36mMyClass.class_method\u001b[39m\u001b[34m(cls)\u001b[39m\n\u001b[32m     18\u001b[39m \u001b[38;5;28mprint\u001b[39m(\u001b[33mf\u001b[39m\u001b[33m\"\u001b[39m\u001b[33m- Переменным класса: \u001b[39m\u001b[38;5;132;01m{\u001b[39;00m\u001b[38;5;28mcls\u001b[39m.class_variable\u001b[38;5;132;01m}\u001b[39;00m\u001b[33m\"\u001b[39m)\n\u001b[32m     19\u001b[39m \u001b[38;5;28mprint\u001b[39m(\u001b[33mf\u001b[39m\u001b[33m\"\u001b[39m\u001b[33m- Имя класса: \u001b[39m\u001b[38;5;132;01m{\u001b[39;00m\u001b[38;5;28mcls\u001b[39m.\u001b[34m__name__\u001b[39m\u001b[38;5;132;01m}\u001b[39;00m\u001b[33m\"\u001b[39m)\n\u001b[32m---> \u001b[39m\u001b[32m20\u001b[39m \u001b[38;5;28mprint\u001b[39m(\u001b[33mf\u001b[39m\u001b[33m\"\u001b[39m\u001b[33m- Переменным экземпляра: \u001b[39m\u001b[38;5;132;01m{\u001b[39;00m\u001b[38;5;28;43mcls\u001b[39;49m\u001b[43m.\u001b[49m\u001b[43minstance_variable\u001b[49m\u001b[38;5;132;01m}\u001b[39;00m\u001b[33m\"\u001b[39m)\n",
      "\u001b[31mAttributeError\u001b[39m: type object 'MyClass' has no attribute 'instance_variable'"
     ]
    }
   ],
   "source": [
    "print(\"\\n2. Вызов через экземпляр:\")\n",
    "obj.class_method()"
   ]
  },
  {
   "cell_type": "code",
   "execution_count": 5,
   "metadata": {},
   "outputs": [
    {
     "name": "stdout",
     "output_type": "stream",
     "text": [
      "\n",
      "3. Вызов через экземпляр:\n",
      "Статический метод не имеет доступа к:\n",
      "- Переменным экземпляра\n",
      "- Переменным класса (только явно): переменная класса\n"
     ]
    }
   ],
   "source": [
    "print(\"\\n3. Вызов через экземпляр:\")\n",
    "obj.static_method()"
   ]
  },
  {
   "cell_type": "code",
   "execution_count": 6,
   "metadata": {},
   "outputs": [
    {
     "name": "stdout",
     "output_type": "stream",
     "text": [
      "\n",
      "4. Вызов через класс:\n"
     ]
    },
    {
     "ename": "TypeError",
     "evalue": "MyClass.regular_method() missing 1 required positional argument: 'self'",
     "output_type": "error",
     "traceback": [
      "\u001b[31m---------------------------------------------------------------------------\u001b[39m",
      "\u001b[31mTypeError\u001b[39m                                 Traceback (most recent call last)",
      "\u001b[36mCell\u001b[39m\u001b[36m \u001b[39m\u001b[32mIn[6]\u001b[39m\u001b[32m, line 2\u001b[39m\n\u001b[32m      1\u001b[39m \u001b[38;5;28mprint\u001b[39m(\u001b[33m\"\u001b[39m\u001b[38;5;130;01m\\n\u001b[39;00m\u001b[33m4. Вызов через класс:\u001b[39m\u001b[33m\"\u001b[39m)\n\u001b[32m----> \u001b[39m\u001b[32m2\u001b[39m \u001b[43mMyClass\u001b[49m\u001b[43m.\u001b[49m\u001b[43mregular_method\u001b[49m\u001b[43m(\u001b[49m\u001b[43m)\u001b[49m  \u001b[38;5;66;03m# Ошибка! Нужен экземпляр\u001b[39;00m\n",
      "\u001b[31mTypeError\u001b[39m: MyClass.regular_method() missing 1 required positional argument: 'self'"
     ]
    }
   ],
   "source": [
    "print(\"\\n4. Вызов через класс:\")\n",
    "MyClass.regular_method()  # Ошибка! Нужен экземпляр"
   ]
  },
  {
   "cell_type": "code",
   "execution_count": 7,
   "metadata": {},
   "outputs": [
    {
     "name": "stdout",
     "output_type": "stream",
     "text": [
      "\n",
      "5. Вызов через класс:\n",
      "Метод класса имеет доступ к:\n",
      "- Переменным класса: переменная класса\n",
      "- Имя класса: MyClass\n"
     ]
    },
    {
     "ename": "AttributeError",
     "evalue": "type object 'MyClass' has no attribute 'instance_variable'",
     "output_type": "error",
     "traceback": [
      "\u001b[31m---------------------------------------------------------------------------\u001b[39m",
      "\u001b[31mAttributeError\u001b[39m                            Traceback (most recent call last)",
      "\u001b[36mCell\u001b[39m\u001b[36m \u001b[39m\u001b[32mIn[7]\u001b[39m\u001b[32m, line 2\u001b[39m\n\u001b[32m      1\u001b[39m \u001b[38;5;28mprint\u001b[39m(\u001b[33m\"\u001b[39m\u001b[38;5;130;01m\\n\u001b[39;00m\u001b[33m5. Вызов через класс:\u001b[39m\u001b[33m\"\u001b[39m)\n\u001b[32m----> \u001b[39m\u001b[32m2\u001b[39m \u001b[43mMyClass\u001b[49m\u001b[43m.\u001b[49m\u001b[43mclass_method\u001b[49m\u001b[43m(\u001b[49m\u001b[43m)\u001b[49m\n",
      "\u001b[36mCell\u001b[39m\u001b[36m \u001b[39m\u001b[32mIn[1]\u001b[39m\u001b[32m, line 20\u001b[39m, in \u001b[36mMyClass.class_method\u001b[39m\u001b[34m(cls)\u001b[39m\n\u001b[32m     18\u001b[39m \u001b[38;5;28mprint\u001b[39m(\u001b[33mf\u001b[39m\u001b[33m\"\u001b[39m\u001b[33m- Переменным класса: \u001b[39m\u001b[38;5;132;01m{\u001b[39;00m\u001b[38;5;28mcls\u001b[39m.class_variable\u001b[38;5;132;01m}\u001b[39;00m\u001b[33m\"\u001b[39m)\n\u001b[32m     19\u001b[39m \u001b[38;5;28mprint\u001b[39m(\u001b[33mf\u001b[39m\u001b[33m\"\u001b[39m\u001b[33m- Имя класса: \u001b[39m\u001b[38;5;132;01m{\u001b[39;00m\u001b[38;5;28mcls\u001b[39m.\u001b[34m__name__\u001b[39m\u001b[38;5;132;01m}\u001b[39;00m\u001b[33m\"\u001b[39m)\n\u001b[32m---> \u001b[39m\u001b[32m20\u001b[39m \u001b[38;5;28mprint\u001b[39m(\u001b[33mf\u001b[39m\u001b[33m\"\u001b[39m\u001b[33m- Переменным экземпляра: \u001b[39m\u001b[38;5;132;01m{\u001b[39;00m\u001b[38;5;28;43mcls\u001b[39;49m\u001b[43m.\u001b[49m\u001b[43minstance_variable\u001b[49m\u001b[38;5;132;01m}\u001b[39;00m\u001b[33m\"\u001b[39m)\n",
      "\u001b[31mAttributeError\u001b[39m: type object 'MyClass' has no attribute 'instance_variable'"
     ]
    }
   ],
   "source": [
    "print(\"\\n5. Вызов через класс:\")\n",
    "MyClass.class_method()"
   ]
  },
  {
   "cell_type": "code",
   "execution_count": 8,
   "metadata": {},
   "outputs": [
    {
     "name": "stdout",
     "output_type": "stream",
     "text": [
      "\n",
      "6. Вызов через класс:\n",
      "Статический метод не имеет доступа к:\n",
      "- Переменным экземпляра\n",
      "- Переменным класса (только явно): переменная класса\n"
     ]
    }
   ],
   "source": [
    "print(\"\\n6. Вызов через класс:\")\n",
    "MyClass.static_method()"
   ]
  },
  {
   "cell_type": "markdown",
   "metadata": {
    "id": "xsTQPMxbhRig"
   },
   "source": [
    "\n",
    "## Преимущества использования classmethod\n",
    "\n",
    "1. **Полиморфизм**: Позволяет подклассам переопределять поведение класса\n",
    "2. **Альтернативные конструкторы**: Предоставляет разные способы создания объектов\n",
    "3. **Доступ к атрибутам класса**: Позволяет работать с атрибутами класса без создания экземпляра\n",
    "4. **Работа с метаклассами**: Полезно при создании метаклассов и фабрик классов\n",
    "\n",
    "## Когда использовать classmethod, а когда staticmethod?\n",
    "\n",
    "- **Используйте `classmethod`, когда**:\n",
    "  - Метод нуждается в доступе к атрибутам класса\n",
    "  - Метод должен создавать экземпляры класса\n",
    "  - Метод должен работать правильно с подклассами\n",
    "\n",
    "- **Используйте `staticmethod`, когда**:\n",
    "  - Метод не нуждается в доступе ни к атрибутам класса, ни к атрибутам экземпляра\n",
    "  - Метод логически связан с классом, но функционально независим\n",
    "  - Нужно организовать вспомогательные функции в пространстве имен класса\n",
    "\n",
    "## Применение в разработке ML-систем\n",
    "\n",
    "В контексте разработки систем машинного обучения методы класса (`classmethod`) особенно полезны для:\n",
    "\n",
    "1. **Создания моделей разными способами**: Например, загрузка предобученной модели из файла\n",
    "2. **Внутренней статистики обучающих процессов**: Отслеживание количества созданных моделей или использованных ресурсов\n",
    "3. **Фабричных методов**: Создание различных типов моделей на основе входных данных\n",
    "4. **Настройки поведения всего класса**: Установка глобальных параметров для всех экземпляров"
   ]
  },
  {
   "cell_type": "markdown",
   "metadata": {
    "id": "AWUkEfTYuNZ4"
   },
   "source": [
    "# Property, геттеры и сеттеры\n",
    "\n",
    "## Концепция инкапсуляции\n",
    "\n",
    "**Инкапсуляция** — один из основных принципов объектно-ориентированного программирования, который позволяет:\n",
    "\n",
    "1. **Скрывать внутреннее состояние объекта** от прямого доступа извне\n",
    "2. **Контролировать доступ к данным**, обеспечивая их валидацию\n",
    "3. **Изменять внутреннюю реализацию**, не затрагивая внешний интерфейс\n",
    "4. **Защищать данные** от случайных изменений\n",
    "\n",
    "В Python инкапсуляция реализуется с помощью:\n",
    "- **Соглашений об именовании** (`_переменная` для \"защищенных\" и `__переменная` для \"приватных\" атрибутов)\n",
    "- **Свойств (properties)** для контролируемого доступа к атрибутам\n",
    "- **Методов-геттеров и сеттеров** для чтения и изменения атрибутов\n",
    "\n",
    "## Декоратор `@property`\n",
    "\n",
    "Декоратор `@property` позволяет определить метод, который будет вызываться при обращении к атрибуту. Это позволяет:\n",
    "\n",
    "1. **Контролировать доступ к атрибутам** (только для чтения, валидация при записи)\n",
    "2. **Вычислять значения на лету** (динамические свойства)\n",
    "3. **Поддерживать совместимость интерфейса** при изменении внутренней реализации\n",
    "\n",
    "### Базовый синтаксис:\n",
    "\n",
    "\n",
    "\n"
   ]
  },
  {
   "cell_type": "code",
   "execution_count": 9,
   "metadata": {
    "id": "S20Y0ISr4u3B"
   },
   "outputs": [],
   "source": [
    "class MyClass:\n",
    "    def __init__(self, value):\n",
    "        self._value = value\n",
    "\n",
    "    @property\n",
    "    def value(self):\n",
    "        \"\"\"Геттер для value.\"\"\"\n",
    "        return self._value"
   ]
  },
  {
   "cell_type": "code",
   "execution_count": 13,
   "metadata": {
    "id": "4u_c8TJZ5HSb"
   },
   "outputs": [
    {
     "name": "stdout",
     "output_type": "stream",
     "text": [
      "10\n"
     ]
    }
   ],
   "source": [
    "obj = MyClass(10)\n",
    "print(obj._value)  # 10"
   ]
  },
  {
   "cell_type": "code",
   "execution_count": 17,
   "metadata": {},
   "outputs": [],
   "source": [
    "obj._value = 20  # Изменяем значение напрямую"
   ]
  },
  {
   "cell_type": "markdown",
   "metadata": {
    "id": "TY24WNlw5LOX"
   },
   "source": [
    "## Соглашения об именовании в Python\n",
    "\n",
    "Python не имеет строгих модификаторов доступа (как `private`, `protected` в Java), но использует соглашения:\n"
   ]
  },
  {
   "cell_type": "code",
   "execution_count": 28,
   "metadata": {
    "id": "vVqGAFZKhgdV"
   },
   "outputs": [
    {
     "name": "stdout",
     "output_type": "stream",
     "text": [
      "Анна\n",
      "30\n",
      "0\n"
     ]
    }
   ],
   "source": [
    "class Person:\n",
    "    def __init__(self, name, age):\n",
    "        self.name = name        # Публичный атрибут\n",
    "        self._age = age         # \"Защищенный\" атрибут (соглашение)\n",
    "        self.__salary = 0       # \"Приватный\" атрибут (механизм name mangling)\n",
    "\n",
    "    def display(self):\n",
    "        print(f\"Name: {self.name}, Age: {self._age}, Salary: {self.__salary}\")\n",
    "\n",
    "person = Person(\"Анна\", 30)\n",
    "print(person.name)       # Доступ к публичному атрибуту - OK\n",
    "print(person._age)       # Доступ к \"защищенному\" - технически возможен, но не рекомендуется\n",
    "# print(person.__salary)  # Ошибка! Прямой доступ невозможен\n",
    "\n",
    "# На самом деле, можно получить доступ к \"приватным\" атрибутам через name mangling\n",
    "print(person._Person__salary)  # Это работает, но так делать не следует"
   ]
  },
  {
   "cell_type": "markdown",
   "metadata": {
    "id": "-nKW7iLEuRPJ"
   },
   "source": [
    "## Геттеры и сеттеры"
   ]
  },
  {
   "cell_type": "markdown",
   "metadata": {},
   "source": [
    "В Python геттеры и сеттеры реализуются с помощью декораторов `@property`, `@имя.setter` и `@имя.deleter`. Это позволяет:\n",
    "1. **Создавать контролируемый доступ к атрибутам**\n",
    "2. **Изменять внутреннюю реализацию без изменения интерфейса**\n",
    "3. **Добавлять валидацию при установке значений**\n",
    "4. **Удалять атрибуты с помощью `@имя.deleter`**\n"
   ]
  },
  {
   "cell_type": "code",
   "execution_count": 37,
   "metadata": {
    "colab": {
     "base_uri": "https://localhost:8080/"
    },
    "executionInfo": {
     "elapsed": 28,
     "status": "ok",
     "timestamp": 1741624413363,
     "user": {
      "displayName": "Nick Osipov",
      "userId": "17245529527264073567"
     },
     "user_tz": -180
    },
    "id": "dp3NRqqtt_AW",
    "outputId": "8937e6e6-0d4a-446b-b20e-5a72f304345c"
   },
   "outputs": [],
   "source": [
    "class Person:\n",
    "    def __init__(self, first_name, last_name, age):\n",
    "        self._first_name = first_name\n",
    "        self._last_name = last_name\n",
    "        self._age = age\n",
    "\n",
    "    # Геттер для full_name\n",
    "    @property\n",
    "    def full_name(self):\n",
    "        return f\"{self._first_name} {self._last_name}\"\n",
    "\n",
    "    # Сеттер для full_name\n",
    "    @full_name.setter\n",
    "    def full_name(self, name):\n",
    "        first, last = name.split()\n",
    "        self._first_name = first\n",
    "        self._last_name = last\n",
    "\n",
    "    # Геттер для age\n",
    "    @property\n",
    "    def age(self):\n",
    "        return self._age\n",
    "\n",
    "    # Сеттер для age с валидацией\n",
    "    @age.setter\n",
    "    def age(self, value):\n",
    "        if not isinstance(value, int):\n",
    "            raise TypeError(\"Age must be an integer\")\n",
    "        if value < 0 or value > 120:\n",
    "            raise ValueError(\"Age must be between 0 and 120\")\n",
    "        self._age = value\n",
    "\n",
    "    # Делитер (редко используется, но возможен)\n",
    "    @age.deleter\n",
    "    def age(self):\n",
    "        print(f\"Удаление атрибута age для {self.full_name}\")\n",
    "        self._age = None\n"
   ]
  },
  {
   "cell_type": "code",
   "execution_count": 38,
   "metadata": {},
   "outputs": [],
   "source": [
    "# Создаем экземпляр\n",
    "person = Person(\"Иван\", \"Иванов\", 30)"
   ]
  },
  {
   "cell_type": "code",
   "execution_count": 22,
   "metadata": {},
   "outputs": [
    {
     "name": "stdout",
     "output_type": "stream",
     "text": [
      "Иван Иванов\n"
     ]
    }
   ],
   "source": [
    "# Используем свойства\n",
    "print(person.full_name)  # Иван Иванов - использование геттера"
   ]
  },
  {
   "cell_type": "code",
   "execution_count": 23,
   "metadata": {},
   "outputs": [],
   "source": [
    "person.full_name = \"Петр Петров\"  # Использование сеттера"
   ]
  },
  {
   "cell_type": "code",
   "execution_count": 24,
   "metadata": {},
   "outputs": [
    {
     "name": "stdout",
     "output_type": "stream",
     "text": [
      "Петр Петров\n"
     ]
    }
   ],
   "source": [
    "print(person.full_name)  # Петр Петров"
   ]
  },
  {
   "cell_type": "code",
   "execution_count": 25,
   "metadata": {},
   "outputs": [
    {
     "name": "stdout",
     "output_type": "stream",
     "text": [
      "30\n"
     ]
    }
   ],
   "source": [
    "print(person.age)  # 30 - использование геттера"
   ]
  },
  {
   "cell_type": "code",
   "execution_count": 27,
   "metadata": {},
   "outputs": [
    {
     "name": "stdout",
     "output_type": "stream",
     "text": [
      "35\n"
     ]
    }
   ],
   "source": [
    "person.age = 35  # Использование сеттера\n",
    "print(person.age)  # 35"
   ]
  },
  {
   "cell_type": "code",
   "execution_count": 39,
   "metadata": {},
   "outputs": [
    {
     "name": "stdout",
     "output_type": "stream",
     "text": [
      "Ошибка: Age must be between 0 and 120\n"
     ]
    }
   ],
   "source": [
    "try:\n",
    "    person.age = -5  # Ошибка валидации\n",
    "except ValueError as e:\n",
    "    print(f\"Ошибка: {e}\")"
   ]
  },
  {
   "cell_type": "code",
   "execution_count": 40,
   "metadata": {},
   "outputs": [
    {
     "name": "stdout",
     "output_type": "stream",
     "text": [
      "Ошибка: Age must be an integer\n"
     ]
    }
   ],
   "source": [
    "try:\n",
    "    person.age = \"тридцать\"  # Ошибка типа\n",
    "except TypeError as e:\n",
    "    print(f\"Ошибка: {e}\")"
   ]
  },
  {
   "cell_type": "code",
   "execution_count": 41,
   "metadata": {},
   "outputs": [
    {
     "name": "stdout",
     "output_type": "stream",
     "text": [
      "Удаление атрибута age для Иван Иванов\n",
      "None\n"
     ]
    }
   ],
   "source": [
    "# Удаление атрибута\n",
    "del person.age  # Вызовет делитер\n",
    "print(person.age)  # None"
   ]
  },
  {
   "cell_type": "markdown",
   "metadata": {},
   "source": [
    "# Пример: Circle"
   ]
  },
  {
   "cell_type": "code",
   "execution_count": null,
   "metadata": {
    "colab": {
     "base_uri": "https://localhost:8080/"
    },
    "executionInfo": {
     "elapsed": 1497,
     "status": "ok",
     "timestamp": 1741624737650,
     "user": {
      "displayName": "Nick Osipov",
      "userId": "17245529527264073567"
     },
     "user_tz": -180
    },
    "id": "W7E9TaC664-M",
    "outputId": "99e0dcea-7bef-4d6f-913c-55dd147dcbc5"
   },
   "outputs": [],
   "source": [
    "import math\n",
    "import time\n",
    "\n",
    "class Circle:\n",
    "    def __init__(self, radius):\n",
    "        self._radius = radius\n",
    "        self._area = None  # Для кэширования\n",
    "\n",
    "    @property\n",
    "    def radius(self):\n",
    "        return self._radius\n",
    "\n",
    "    @radius.setter\n",
    "    def radius(self, value):\n",
    "        if value < 0:\n",
    "            raise ValueError(\"Радиус не может быть отрицательным\")\n",
    "        # При изменении радиуса сбрасываем кэш площади\n",
    "        self._radius = value\n",
    "        self._area = None\n",
    "\n",
    "    @property\n",
    "    def area(self):\n",
    "        # Демонстрация кэширования вычислений\n",
    "        if self._area is None:\n",
    "            print(\"Вычисление площади...\")\n",
    "            # Имитация сложных вычислений\n",
    "            time.sleep(0.5)\n",
    "            self._area = math.pi * self._radius ** 2\n",
    "        return self._area\n",
    "\n",
    "    @property\n",
    "    def diameter(self):\n",
    "        return self._radius * 2\n",
    "\n",
    "    @diameter.setter\n",
    "    def diameter(self, value):\n",
    "        self.radius = value / 2\n"
   ]
  },
  {
   "cell_type": "code",
   "execution_count": null,
   "metadata": {},
   "outputs": [],
   "source": [
    "# Создаем круг\n",
    "circle = Circle(5)"
   ]
  },
  {
   "cell_type": "code",
   "execution_count": null,
   "metadata": {},
   "outputs": [],
   "source": [
    "# Первый доступ - вычисление будет выполнено\n",
    "print(f\"Площадь: {circle.area:.2f}\")"
   ]
  },
  {
   "cell_type": "code",
   "execution_count": null,
   "metadata": {},
   "outputs": [],
   "source": [
    "# Второй доступ - используется кэшированное значение\n",
    "print(f\"Площадь (повторный доступ): {circle.area:.2f}\")"
   ]
  },
  {
   "cell_type": "code",
   "execution_count": null,
   "metadata": {},
   "outputs": [],
   "source": [
    "# Изменяем радиус - кэш сбрасывается\n",
    "circle.radius = 10\n",
    "print(f\"Диаметр: {circle.diameter}\")"
   ]
  },
  {
   "cell_type": "code",
   "execution_count": null,
   "metadata": {},
   "outputs": [],
   "source": [
    "# Площадь вычисляется заново\n",
    "print(f\"Новая площадь: {circle.area:.2f}\")"
   ]
  },
  {
   "cell_type": "code",
   "execution_count": null,
   "metadata": {},
   "outputs": [],
   "source": [
    "# Изменяем диаметр\n",
    "circle.diameter = 30\n",
    "print(f\"Радиус: {circle.radius}\")\n",
    "print(f\"Новая площадь: {circle.area:.2f}\")"
   ]
  },
  {
   "cell_type": "markdown",
   "metadata": {},
   "source": [
    "## Пример 3: Property для валидации данных в ML-контексте"
   ]
  },
  {
   "cell_type": "code",
   "execution_count": 42,
   "metadata": {},
   "outputs": [],
   "source": [
    "class DataFeature:\n",
    "    def __init__(self, name, values=None):\n",
    "        self.name = name\n",
    "        self._values = values or []\n",
    "        self._normalized = None\n",
    "\n",
    "    @property\n",
    "    def values(self):\n",
    "        return self._values\n",
    "\n",
    "    @values.setter\n",
    "    def values(self, new_values):\n",
    "        if not isinstance(new_values, list):\n",
    "            raise TypeError(\"Values must be a list\")\n",
    "\n",
    "        # Проверяем, что все значения - числа\n",
    "        for val in new_values:\n",
    "            if not isinstance(val, (int, float)):\n",
    "                raise ValueError(f\"All values must be numeric, got {type(val)}\")\n",
    "\n",
    "        self._values = new_values\n",
    "        # Сбрасываем нормализованные значения, так как входные данные изменились\n",
    "        self._normalized = None\n",
    "\n",
    "    @property\n",
    "    def normalized(self):\n",
    "        \"\"\"Возвращает нормализованные значения (от 0 до 1).\"\"\"\n",
    "        if not self._values:\n",
    "            return []\n",
    "\n",
    "        if self._normalized is None:\n",
    "            min_val = min(self._values)\n",
    "            max_val = max(self._values)\n",
    "\n",
    "            if max_val == min_val:\n",
    "                # Избегаем деления на ноль\n",
    "                self._normalized = [0.5 for _ in self._values]\n",
    "            else:\n",
    "                # Масштабируем значения от 0 до 1\n",
    "                self._normalized = [(v - min_val) / (max_val - min_val) for v in self._values]\n",
    "\n",
    "        return self._normalized\n",
    "\n",
    "    @property\n",
    "    def mean(self):\n",
    "        \"\"\"Возвращает среднее значение признака.\"\"\"\n",
    "        if not self._values:\n",
    "            return None\n",
    "        return sum(self._values) / len(self._values)\n",
    "\n",
    "    @property\n",
    "    def is_valid(self):\n",
    "        \"\"\"Проверяет, содержит ли признак допустимые данные.\"\"\"\n",
    "        return bool(self._values) and all(isinstance(v, (int, float)) for v in self._values)\n"
   ]
  },
  {
   "cell_type": "code",
   "execution_count": 43,
   "metadata": {},
   "outputs": [
    {
     "name": "stdout",
     "output_type": "stream",
     "text": [
      "Признак: age\n",
      "Значения: [25, 30, 22, 40, 35]\n",
      "Среднее: 30.4\n",
      "Нормализованные значения: [0.16666666666666666, 0.4444444444444444, 0.0, 1.0, 0.7222222222222222]\n"
     ]
    }
   ],
   "source": [
    "feature = DataFeature(\"age\", [25, 30, 22, 40, 35])\n",
    "print(f\"Признак: {feature.name}\")\n",
    "print(f\"Значения: {feature.values}\")\n",
    "print(f\"Среднее: {feature.mean}\")\n",
    "print(f\"Нормализованные значения: {feature.normalized}\")"
   ]
  },
  {
   "cell_type": "code",
   "execution_count": 44,
   "metadata": {},
   "outputs": [
    {
     "name": "stdout",
     "output_type": "stream",
     "text": [
      "Новые значения: [10, 20, 30, 40, 50]\n",
      "Новое среднее: 30.0\n",
      "Новые нормализованные значения: [0.0, 0.25, 0.5, 0.75, 1.0]\n"
     ]
    }
   ],
   "source": [
    "# Меняем значения\n",
    "feature.values = [10, 20, 30, 40, 50]\n",
    "print(f\"Новые значения: {feature.values}\")\n",
    "print(f\"Новое среднее: {feature.mean}\")\n",
    "print(f\"Новые нормализованные значения: {feature.normalized}\")"
   ]
  },
  {
   "cell_type": "code",
   "execution_count": 45,
   "metadata": {},
   "outputs": [
    {
     "name": "stdout",
     "output_type": "stream",
     "text": [
      "Ошибка: All values must be numeric, got <class 'str'>\n"
     ]
    }
   ],
   "source": [
    "# Проверка валидации\n",
    "try:\n",
    "    feature.values = [10, \"20\", 30]  # Попытка добавить строку\n",
    "except ValueError as e:\n",
    "    print(f\"Ошибка: {e}\")\n"
   ]
  },
  {
   "cell_type": "code",
   "execution_count": null,
   "metadata": {},
   "outputs": [
    {
     "name": "stdout",
     "output_type": "stream",
     "text": [
      "Признак валиден: True\n"
     ]
    }
   ],
   "source": [
    "print(f\"Признак валиден: {feature.is_valid}\")"
   ]
  },
  {
   "cell_type": "markdown",
   "metadata": {
    "id": "eXBfKpn_6sIg"
   },
   "source": [
    "## Преимущества использования property\n",
    "\n",
    "1. **Инкапсуляция**: Скрытие внутренней реализации\n",
    "2. **Контроль доступа**: Валидация входных данных при изменении\n",
    "3. **Вычисляемые свойства**: Автоматический расчет значений на основе других атрибутов\n",
    "4. **Обратная совместимость**: Возможность изменять реализацию без изменения интерфейса\n",
    "5. **Удобство использования**: API в стиле доступа к атрибутам, без необходимости вызывать методы\n",
    "\n",
    "## Когда использовать property?\n",
    "\n",
    "1. **Для валидации данных**: Когда нужно проверять значения при их изменении\n",
    "2. **Для вычисляемых атрибутов**: Когда значение может быть рассчитано на основе других атрибутов\n",
    "3. **Для отложенных вычислений (ленивая загрузка)**: Когда вычисление ресурсоемкое и должно выполняться только при запросе\n",
    "4. **Для поддержания обратной совместимости**: Когда нужно изменить реализацию, но сохранить интерфейс\n",
    "5. **Для логирования доступа**: Когда нужно отслеживать чтение или изменение атрибутов\n",
    "\n",
    "## Применение в машинном обучении\n",
    "\n",
    "В контексте разработки ML-систем декоратор `@property` особенно полезен для:\n",
    "\n",
    "1. **Обработки и валидации данных**: Проверка размерностей и типов входных данных\n",
    "2. **Ленивой загрузки моделей**: Загрузка тяжелых моделей только при необходимости\n",
    "3. **Трансформации признаков**: Автоматическое преобразование данных при доступе\n",
    "4. **Кэширования результатов**: Сохранение результатов ресурсоемких вычислений\n",
    "5. **Абстракции**: Сокрытие сложной логики преобразования данных за простым интерфейсом"
   ]
  },
  {
   "cell_type": "markdown",
   "metadata": {},
   "source": [
    "---"
   ]
  },
  {
   "cell_type": "markdown",
   "metadata": {
    "id": "WXW6C3lfjRlJ"
   },
   "source": [
    "# Введение в исключения\n",
    "\n",
    "## Что такое исключения?\n",
    "\n",
    "**Исключения (exceptions)** — это объекты, которые представляют ошибки или необычные ситуации, возникающие во время выполнения программы. Они позволяют:\n",
    "\n",
    "1. **Обнаруживать ошибки** во время выполнения программы\n",
    "2. **Обрабатывать ошибки** элегантным способом, не прерывая программу\n",
    "3. **Разделять код обработки ошибок** от основного кода программы\n",
    "4. **Передавать информацию об ошибке** от места ее возникновения к месту обработки\n",
    "\n",
    "Когда в программе возникает ошибочная ситуация, Python \"выбрасывает\" (raises) или \"возбуждает\" исключение. Если это исключение не \"перехватывается\" (caught) специальным блоком кода, программа аварийно завершается с сообщением об ошибке.\n",
    "\n"
   ]
  },
  {
   "cell_type": "markdown",
   "metadata": {
    "id": "M7u-nl4I7Mns"
   },
   "source": [
    "### Пример возникновения исключения:\n",
    "\n",
    "Попытка деления на ноль вызывает исключение ZeroDivisionError"
   ]
  },
  {
   "cell_type": "code",
   "execution_count": 47,
   "metadata": {
    "colab": {
     "base_uri": "https://localhost:8080/",
     "height": 141
    },
    "executionInfo": {
     "elapsed": 39,
     "status": "error",
     "timestamp": 1741624766681,
     "user": {
      "displayName": "Nick Osipov",
      "userId": "17245529527264073567"
     },
     "user_tz": -180
    },
    "id": "OmAa7aqgvZAR",
    "outputId": "edf99722-df8a-400e-faa6-37f799979f70"
   },
   "outputs": [
    {
     "ename": "ZeroDivisionError",
     "evalue": "division by zero",
     "output_type": "error",
     "traceback": [
      "\u001b[31m---------------------------------------------------------------------------\u001b[39m",
      "\u001b[31mZeroDivisionError\u001b[39m                         Traceback (most recent call last)",
      "\u001b[36mCell\u001b[39m\u001b[36m \u001b[39m\u001b[32mIn[47]\u001b[39m\u001b[32m, line 1\u001b[39m\n\u001b[32m----> \u001b[39m\u001b[32m1\u001b[39m result = \u001b[32;43m10\u001b[39;49m\u001b[43m \u001b[49m\u001b[43m/\u001b[49m\u001b[43m \u001b[49m\u001b[32;43m0\u001b[39;49m\n",
      "\u001b[31mZeroDivisionError\u001b[39m: division by zero"
     ]
    }
   ],
   "source": [
    "result = 10 / 0"
   ]
  },
  {
   "cell_type": "markdown",
   "metadata": {
    "id": "5nAclQ4jvauM"
   },
   "source": [
    "При выполнении этого кода Python выдаст сообщение об ошибке:\n",
    "\n",
    "```traceback\n",
    "Traceback (most recent call last):\n",
    "  File \"<stdin>\", line 1, in <module>\n",
    "ZeroDivisionError: division by zero\n",
    "```"
   ]
  },
  {
   "cell_type": "markdown",
   "metadata": {
    "id": "xc9G4DY2vk4g"
   },
   "source": [
    "\n",
    "\n",
    "## Встроенные типы исключений в Python\n",
    "\n",
    "Python имеет множество встроенных типов исключений для различных ситуаций. Вот основные из них:\n",
    "\n",
    "### Ошибки синтаксиса и компиляции:\n",
    "- **SyntaxError**: Синтаксическая ошибка в коде\n",
    "- **IndentationError**: Неправильные отступы\n",
    "- **TabError**: Смешивание табуляций и пробелов\n",
    "\n",
    "### Ошибки во время выполнения:\n",
    "- **TypeError**: Неправильный тип данных для операции\n",
    "- **ValueError**: Правильный тип, но неверное значение\n",
    "- **NameError**: Использование несуществующей переменной\n",
    "- **AttributeError**: Попытка доступа к несуществующему атрибуту\n",
    "- **KeyError**: Попытка доступа к несуществующему ключу в словаре\n",
    "- **IndexError**: Попытка доступа к несуществующему индексу в последовательности\n",
    "\n",
    "### Математические ошибки:\n",
    "- **ZeroDivisionError**: Попытка деления на ноль\n",
    "- **OverflowError**: Слишком большое число для представления\n",
    "- **FloatingPointError**: Ошибка в операциях с плавающей точкой\n",
    "\n",
    "### Ошибки ввода-вывода:\n",
    "- **IOError**: Ошибка ввода-вывода (например, файл не найден)\n",
    "- **FileNotFoundError**: Файл не найден\n",
    "- **PermissionError**: Отказано в доступе к файлу\n",
    "\n",
    "### Системные ошибки:\n",
    "- **MemoryError**: Недостаточно памяти\n",
    "- **SystemError**: Внутренняя ошибка Python\n",
    "- **ImportError**: Ошибка при импорте модуля\n",
    "- **ModuleNotFoundError**: Модуль не найден\n",
    "\n",
    "### Прочие:\n",
    "- **Exception**: Базовый класс для всех исключений\n",
    "- **StopIteration**: Сигнализирует о конце итерации\n",
    "- **KeyboardInterrupt**: Нажатие Ctrl+C (прерывание выполнения)\n",
    "- **AssertionError**: Ошибка в условии assert"
   ]
  },
  {
   "cell_type": "markdown",
   "metadata": {
    "id": "qFqrcnKj_kL-"
   },
   "source": [
    "## Примеры возникновения различных исключений:"
   ]
  },
  {
   "cell_type": "code",
   "execution_count": 48,
   "metadata": {
    "id": "9JaYTydnvqY_"
   },
   "outputs": [
    {
     "ename": "TypeError",
     "evalue": "can only concatenate str (not \"int\") to str",
     "output_type": "error",
     "traceback": [
      "\u001b[31m---------------------------------------------------------------------------\u001b[39m",
      "\u001b[31mTypeError\u001b[39m                                 Traceback (most recent call last)",
      "\u001b[36mCell\u001b[39m\u001b[36m \u001b[39m\u001b[32mIn[48]\u001b[39m\u001b[32m, line 2\u001b[39m\n\u001b[32m      1\u001b[39m \u001b[38;5;66;03m# TypeError: неправильный тип операнда\u001b[39;00m\n\u001b[32m----> \u001b[39m\u001b[32m2\u001b[39m result = \u001b[33;43m\"\u001b[39;49m\u001b[33;43m42\u001b[39;49m\u001b[33;43m\"\u001b[39;49m\u001b[43m \u001b[49m\u001b[43m+\u001b[49m\u001b[43m \u001b[49m\u001b[32;43m42\u001b[39;49m\n",
      "\u001b[31mTypeError\u001b[39m: can only concatenate str (not \"int\") to str"
     ]
    }
   ],
   "source": [
    "# TypeError: неправильный тип операнда\n",
    "result = \"42\" + 42"
   ]
  },
  {
   "cell_type": "code",
   "execution_count": 49,
   "metadata": {},
   "outputs": [
    {
     "ename": "ValueError",
     "evalue": "invalid literal for int() with base 10: 'hello'",
     "output_type": "error",
     "traceback": [
      "\u001b[31m---------------------------------------------------------------------------\u001b[39m",
      "\u001b[31mValueError\u001b[39m                                Traceback (most recent call last)",
      "\u001b[36mCell\u001b[39m\u001b[36m \u001b[39m\u001b[32mIn[49]\u001b[39m\u001b[32m, line 2\u001b[39m\n\u001b[32m      1\u001b[39m \u001b[38;5;66;03m# ValueError: неправильное значение\u001b[39;00m\n\u001b[32m----> \u001b[39m\u001b[32m2\u001b[39m number = \u001b[38;5;28;43mint\u001b[39;49m\u001b[43m(\u001b[49m\u001b[33;43m\"\u001b[39;49m\u001b[33;43mhello\u001b[39;49m\u001b[33;43m\"\u001b[39;49m\u001b[43m)\u001b[49m\n",
      "\u001b[31mValueError\u001b[39m: invalid literal for int() with base 10: 'hello'"
     ]
    }
   ],
   "source": [
    "# ValueError: неправильное значение\n",
    "number = int(\"hello\")"
   ]
  },
  {
   "cell_type": "code",
   "execution_count": 50,
   "metadata": {},
   "outputs": [
    {
     "ename": "NameError",
     "evalue": "name 'undefined_variable' is not defined",
     "output_type": "error",
     "traceback": [
      "\u001b[31m---------------------------------------------------------------------------\u001b[39m",
      "\u001b[31mNameError\u001b[39m                                 Traceback (most recent call last)",
      "\u001b[36mCell\u001b[39m\u001b[36m \u001b[39m\u001b[32mIn[50]\u001b[39m\u001b[32m, line 2\u001b[39m\n\u001b[32m      1\u001b[39m \u001b[38;5;66;03m# NameError: имя не определено\u001b[39;00m\n\u001b[32m----> \u001b[39m\u001b[32m2\u001b[39m \u001b[38;5;28mprint\u001b[39m(\u001b[43mundefined_variable\u001b[49m)\n",
      "\u001b[31mNameError\u001b[39m: name 'undefined_variable' is not defined"
     ]
    }
   ],
   "source": [
    "# NameError: имя не определено\n",
    "print(undefined_variable)"
   ]
  },
  {
   "cell_type": "code",
   "execution_count": 51,
   "metadata": {},
   "outputs": [
    {
     "ename": "KeyError",
     "evalue": "'c'",
     "output_type": "error",
     "traceback": [
      "\u001b[31m---------------------------------------------------------------------------\u001b[39m",
      "\u001b[31mKeyError\u001b[39m                                  Traceback (most recent call last)",
      "\u001b[36mCell\u001b[39m\u001b[36m \u001b[39m\u001b[32mIn[51]\u001b[39m\u001b[32m, line 3\u001b[39m\n\u001b[32m      1\u001b[39m \u001b[38;5;66;03m# KeyError: ключ не существует\u001b[39;00m\n\u001b[32m      2\u001b[39m my_dict = {\u001b[33m\"\u001b[39m\u001b[33ma\u001b[39m\u001b[33m\"\u001b[39m: \u001b[32m1\u001b[39m, \u001b[33m\"\u001b[39m\u001b[33mb\u001b[39m\u001b[33m\"\u001b[39m: \u001b[32m2\u001b[39m}\n\u001b[32m----> \u001b[39m\u001b[32m3\u001b[39m value = \u001b[43mmy_dict\u001b[49m\u001b[43m[\u001b[49m\u001b[33;43m\"\u001b[39;49m\u001b[33;43mc\u001b[39;49m\u001b[33;43m\"\u001b[39;49m\u001b[43m]\u001b[49m\n",
      "\u001b[31mKeyError\u001b[39m: 'c'"
     ]
    }
   ],
   "source": [
    "# KeyError: ключ не существует\n",
    "my_dict = {\"a\": 1, \"b\": 2}\n",
    "value = my_dict[\"c\"]"
   ]
  },
  {
   "cell_type": "code",
   "execution_count": 52,
   "metadata": {},
   "outputs": [
    {
     "ename": "IndexError",
     "evalue": "list index out of range",
     "output_type": "error",
     "traceback": [
      "\u001b[31m---------------------------------------------------------------------------\u001b[39m",
      "\u001b[31mIndexError\u001b[39m                                Traceback (most recent call last)",
      "\u001b[36mCell\u001b[39m\u001b[36m \u001b[39m\u001b[32mIn[52]\u001b[39m\u001b[32m, line 3\u001b[39m\n\u001b[32m      1\u001b[39m \u001b[38;5;66;03m# IndexError: индекс вне диапазона\u001b[39;00m\n\u001b[32m      2\u001b[39m my_list = [\u001b[32m1\u001b[39m, \u001b[32m2\u001b[39m, \u001b[32m3\u001b[39m]\n\u001b[32m----> \u001b[39m\u001b[32m3\u001b[39m element = \u001b[43mmy_list\u001b[49m\u001b[43m[\u001b[49m\u001b[32;43m10\u001b[39;49m\u001b[43m]\u001b[49m\n",
      "\u001b[31mIndexError\u001b[39m: list index out of range"
     ]
    }
   ],
   "source": [
    "# IndexError: индекс вне диапазона\n",
    "my_list = [1, 2, 3]\n",
    "element = my_list[10]"
   ]
  },
  {
   "cell_type": "code",
   "execution_count": 53,
   "metadata": {},
   "outputs": [
    {
     "ename": "AttributeError",
     "evalue": "'str' object has no attribute 'nonexistent_method'",
     "output_type": "error",
     "traceback": [
      "\u001b[31m---------------------------------------------------------------------------\u001b[39m",
      "\u001b[31mAttributeError\u001b[39m                            Traceback (most recent call last)",
      "\u001b[36mCell\u001b[39m\u001b[36m \u001b[39m\u001b[32mIn[53]\u001b[39m\u001b[32m, line 2\u001b[39m\n\u001b[32m      1\u001b[39m \u001b[38;5;66;03m# AttributeError: атрибут не существует\u001b[39;00m\n\u001b[32m----> \u001b[39m\u001b[32m2\u001b[39m \u001b[33;43m\"\u001b[39;49m\u001b[33;43mhello\u001b[39;49m\u001b[33;43m\"\u001b[39;49m\u001b[43m.\u001b[49m\u001b[43mnonexistent_method\u001b[49m()\n",
      "\u001b[31mAttributeError\u001b[39m: 'str' object has no attribute 'nonexistent_method'"
     ]
    }
   ],
   "source": [
    "# AttributeError: атрибут не существует\n",
    "\"hello\".nonexistent_method()"
   ]
  },
  {
   "cell_type": "code",
   "execution_count": 54,
   "metadata": {},
   "outputs": [
    {
     "ename": "FileNotFoundError",
     "evalue": "[Errno 2] No such file or directory: 'nonexistent_file.txt'",
     "output_type": "error",
     "traceback": [
      "\u001b[31m---------------------------------------------------------------------------\u001b[39m",
      "\u001b[31mFileNotFoundError\u001b[39m                         Traceback (most recent call last)",
      "\u001b[36mCell\u001b[39m\u001b[36m \u001b[39m\u001b[32mIn[54]\u001b[39m\u001b[32m, line 2\u001b[39m\n\u001b[32m      1\u001b[39m \u001b[38;5;66;03m# FileNotFoundError: файл не найден\u001b[39;00m\n\u001b[32m----> \u001b[39m\u001b[32m2\u001b[39m \u001b[38;5;28;01mwith\u001b[39;00m \u001b[38;5;28;43mopen\u001b[39;49m\u001b[43m(\u001b[49m\u001b[33;43m\"\u001b[39;49m\u001b[33;43mnonexistent_file.txt\u001b[39;49m\u001b[33;43m\"\u001b[39;49m\u001b[43m,\u001b[49m\u001b[43m \u001b[49m\u001b[33;43m\"\u001b[39;49m\u001b[33;43mr\u001b[39;49m\u001b[33;43m\"\u001b[39;49m\u001b[43m)\u001b[49m \u001b[38;5;28;01mas\u001b[39;00m file:\n\u001b[32m      3\u001b[39m     content = file.read()\n",
      "\u001b[36mFile \u001b[39m\u001b[32m~/otus/ml-basic/otus-oop/.venv/lib/python3.11/site-packages/IPython/core/interactiveshell.py:326\u001b[39m, in \u001b[36m_modified_open\u001b[39m\u001b[34m(file, *args, **kwargs)\u001b[39m\n\u001b[32m    319\u001b[39m \u001b[38;5;28;01mif\u001b[39;00m file \u001b[38;5;129;01min\u001b[39;00m {\u001b[32m0\u001b[39m, \u001b[32m1\u001b[39m, \u001b[32m2\u001b[39m}:\n\u001b[32m    320\u001b[39m     \u001b[38;5;28;01mraise\u001b[39;00m \u001b[38;5;167;01mValueError\u001b[39;00m(\n\u001b[32m    321\u001b[39m         \u001b[33mf\u001b[39m\u001b[33m\"\u001b[39m\u001b[33mIPython won\u001b[39m\u001b[33m'\u001b[39m\u001b[33mt let you open fd=\u001b[39m\u001b[38;5;132;01m{\u001b[39;00mfile\u001b[38;5;132;01m}\u001b[39;00m\u001b[33m by default \u001b[39m\u001b[33m\"\u001b[39m\n\u001b[32m    322\u001b[39m         \u001b[33m\"\u001b[39m\u001b[33mas it is likely to crash IPython. If you know what you are doing, \u001b[39m\u001b[33m\"\u001b[39m\n\u001b[32m    323\u001b[39m         \u001b[33m\"\u001b[39m\u001b[33myou can use builtins\u001b[39m\u001b[33m'\u001b[39m\u001b[33m open.\u001b[39m\u001b[33m\"\u001b[39m\n\u001b[32m    324\u001b[39m     )\n\u001b[32m--> \u001b[39m\u001b[32m326\u001b[39m \u001b[38;5;28;01mreturn\u001b[39;00m \u001b[43mio_open\u001b[49m\u001b[43m(\u001b[49m\u001b[43mfile\u001b[49m\u001b[43m,\u001b[49m\u001b[43m \u001b[49m\u001b[43m*\u001b[49m\u001b[43margs\u001b[49m\u001b[43m,\u001b[49m\u001b[43m \u001b[49m\u001b[43m*\u001b[49m\u001b[43m*\u001b[49m\u001b[43mkwargs\u001b[49m\u001b[43m)\u001b[49m\n",
      "\u001b[31mFileNotFoundError\u001b[39m: [Errno 2] No such file or directory: 'nonexistent_file.txt'"
     ]
    }
   ],
   "source": [
    "# FileNotFoundError: файл не найден\n",
    "with open(\"nonexistent_file.txt\", \"r\") as file:\n",
    "    content = file.read()"
   ]
  },
  {
   "cell_type": "markdown",
   "metadata": {
    "id": "wqN_1C7jv8Lr"
   },
   "source": [
    "## Иерархия исключений\n",
    "\n",
    "Исключения в Python организованы в иерархию классов. Все исключения являются подклассами встроенного класса `BaseException`. Эта иерархия позволяет группировать связанные исключения и обрабатывать их вместе.\n",
    "\n",
    "### Базовые классы:\n",
    "\n",
    "```\n",
    "BaseException\n",
    " ├── SystemExit                  # вызывается функцией sys.exit()\n",
    " ├── KeyboardInterrupt           # нажатие Ctrl+C\n",
    " ├── GeneratorExit               # вызов метода close() генератора\n",
    " └── Exception                   # базовый класс для большинства исключений\n",
    "      ├── StopIteration          # сигнал о завершении итерации\n",
    "      ├── ArithmeticError        # базовый класс для арифметических ошибок\n",
    "      │    ├── FloatingPointError\n",
    "      │    ├── OverflowError\n",
    "      │    └── ZeroDivisionError\n",
    "      ├── LookupError            # базовый класс для ошибок доступа\n",
    "      │    ├── IndexError\n",
    "      │    └── KeyError\n",
    "      ├── AssertionError         # оператор assert\n",
    "      ├── AttributeError         # несуществующий атрибут\n",
    "      ├── EOFError               # конец файла\n",
    "      ├── ImportError            # импорт модуля\n",
    "      │    └── ModuleNotFoundError\n",
    "      ├── MemoryError            # нехватка памяти\n",
    "      ├── NameError              # несуществующая переменная\n",
    "      │    └── UnboundLocalError\n",
    "      ├── OSError                # ошибки, связанные с ОС\n",
    "      │    ├── FileExistsError\n",
    "      │    ├── FileNotFoundError\n",
    "      │    ├── PermissionError\n",
    "      │    └── ...\n",
    "      ├── SyntaxError            # ошибка синтаксиса\n",
    "      │    └── IndentationError\n",
    "      │         └── TabError\n",
    "      ├── TypeError              # неправильный тип\n",
    "      ├── ValueError             # неправильное значение\n",
    "      │    └── UnicodeError\n",
    "      └── ...\n",
    "```\n",
    "\n",
    "Эта иерархия позволяет обрабатывать разные типы исключений различными способами. Например, можно перехватить все ошибки доступа (`LookupError`), или только конкретный тип, например, `KeyError`.\n",
    "\n",
    "## Исключения и механизм поиска обработчика\n",
    "\n",
    "Когда возникает исключение, Python ищет обработчик для него в следующем порядке:\n",
    "\n",
    "1. **Текущий блок**: Ищется блок `try-except`, который может обработать исключение\n",
    "2. **Вызывающие функции**: Если текущий блок не содержит подходящего обработчика, исключение \"всплывает\" (propagates) в вызывающую функцию\n",
    "3. **Глобальный уровень**: Если ни одна функция не обрабатывает исключение, оно достигает глобального уровня\n",
    "4. **Завершение программы**: Если глобальный уровень не обрабатывает исключение, программа завершается с сообщением об ошибке"
   ]
  },
  {
   "cell_type": "code",
   "execution_count": 57,
   "metadata": {
    "colab": {
     "base_uri": "https://localhost:8080/"
    },
    "executionInfo": {
     "elapsed": 23,
     "status": "ok",
     "timestamp": 1741621851799,
     "user": {
      "displayName": "Nick Osipov",
      "userId": "17245529527264073567"
     },
     "user_tz": -180
    },
    "id": "z72C5UvawFFz",
    "outputId": "3d3105d6-9586-4183-ed4c-9859cab90525"
   },
   "outputs": [
    {
     "name": "stdout",
     "output_type": "stream",
     "text": [
      "Ошибка: деление на ноль!\n"
     ]
    }
   ],
   "source": [
    "## Пример \"всплытия\" исключения:\n",
    "\n",
    "def divide(a, b):\n",
    "    return a / b  # Может вызвать ZeroDivisionError\n",
    "\n",
    "def calculate():\n",
    "    result = divide(10, 0)  # Исключение возникает здесь\n",
    "    return result\n",
    "\n",
    "try:\n",
    "    value = calculate()  # Исключение \"всплывает\" до этого уровня\n",
    "    print(f\"Результат: {value}\")\n",
    "except ZeroDivisionError:\n",
    "    print(\"Ошибка: деление на ноль!\")"
   ]
  },
  {
   "cell_type": "markdown",
   "metadata": {
    "id": "Idp6ie8yyD-C"
   },
   "source": [
    "В этом примере:\n",
    "1. Исключение `ZeroDivisionError` возникает в функции `divide`\n",
    "2. Функция `divide` не обрабатывает его, поэтому исключение \"всплывает\" в функцию `calculate`\n",
    "3. Функция `calculate` также не обрабатывает исключение, поэтому оно \"всплывает\" дальше\n",
    "4. На глобальном уровне есть блок `try-except`, который перехватывает и обрабатывает это исключение"
   ]
  },
  {
   "cell_type": "markdown",
   "metadata": {
    "id": "p15U4rbPyHYi"
   },
   "source": [
    "## Пример сравнения с кодами ошибок"
   ]
  },
  {
   "cell_type": "code",
   "execution_count": 58,
   "metadata": {
    "colab": {
     "base_uri": "https://localhost:8080/"
    },
    "executionInfo": {
     "elapsed": 31,
     "status": "ok",
     "timestamp": 1741622385658,
     "user": {
      "displayName": "Nick Osipov",
      "userId": "17245529527264073567"
     },
     "user_tz": -180
    },
    "id": "QxYgmg1Xx4A1",
    "outputId": "f729b778-14d0-4590-ea99-5ab3efcd4b4a"
   },
   "outputs": [
    {
     "name": "stdout",
     "output_type": "stream",
     "text": [
      "Результат: 5.0\n",
      "Ошибка: division by zero\n"
     ]
    }
   ],
   "source": [
    "### Подход с кодами ошибок:\n",
    "\n",
    "def divide(a, b):\n",
    "    if b == 0:\n",
    "        return None, \"division by zero\"\n",
    "    return a / b, None\n",
    "\n",
    "# Использование\n",
    "result, error = divide(10, 2)\n",
    "if error:\n",
    "    print(f\"Ошибка: {error}\")\n",
    "else:\n",
    "    print(f\"Результат: {result}\")\n",
    "\n",
    "result, error = divide(10, 0)\n",
    "if error:\n",
    "    print(f\"Ошибка: {error}\")\n",
    "else:\n",
    "    print(f\"Результат: {result}\")"
   ]
  },
  {
   "cell_type": "code",
   "execution_count": 59,
   "metadata": {
    "colab": {
     "base_uri": "https://localhost:8080/"
    },
    "executionInfo": {
     "elapsed": 19,
     "status": "ok",
     "timestamp": 1741622389204,
     "user": {
      "displayName": "Nick Osipov",
      "userId": "17245529527264073567"
     },
     "user_tz": -180
    },
    "id": "0I-Njph7x7Xd",
    "outputId": "0f8473f7-4094-485f-b3a9-99565e049668"
   },
   "outputs": [
    {
     "name": "stdout",
     "output_type": "stream",
     "text": [
      "Результат: 5.0\n",
      "Ошибка: деление на ноль\n"
     ]
    }
   ],
   "source": [
    "### Подход с исключениями:\n",
    "\n",
    "def divide(a, b):\n",
    "    return a / b  # ZeroDivisionError будет выброшено автоматически\n",
    "\n",
    "# Использование\n",
    "try:\n",
    "    result = divide(10, 2)\n",
    "    print(f\"Результат: {result}\")\n",
    "except ZeroDivisionError:\n",
    "    print(\"Ошибка: деление на ноль\")\n",
    "\n",
    "try:\n",
    "    result = divide(10, 0)\n",
    "    print(f\"Результат: {result}\")\n",
    "except ZeroDivisionError:\n",
    "    print(\"Ошибка: деление на ноль\")"
   ]
  },
  {
   "cell_type": "markdown",
   "metadata": {
    "id": "QsYS-VfMx99-"
   },
   "source": [
    "Второй подход (с исключениями) более питонический и расширяемый."
   ]
  },
  {
   "cell_type": "markdown",
   "metadata": {
    "id": "kMlcgu60u3o2"
   },
   "source": [
    "\n",
    "## Почему исключения предпочтительнее кодов ошибок?\n",
    "\n",
    "В некоторых языках программирования используются коды ошибок вместо исключений. Однако исключения имеют несколько преимуществ:\n",
    "\n",
    "1. **Разделение обработки ошибок и основного кода**: Код становится чище и понятнее\n",
    "2. **Невозможность игнорировать ошибки**: Если исключение не обработано, программа завершится\n",
    "3. **Передача контекста ошибки**: Исключения могут содержать подробную информацию об ошибке\n",
    "4. **Иерархия исключений**: Можно обрабатывать группы связанных ошибок\n",
    "5. **Правильная деструкция объектов**: Блок `finally` обеспечивает корректное освобождение ресурсов\n",
    "\n",
    "## Исключения в контексте машинного обучения\n",
    "\n",
    "В разработке ML-систем исключения играют особенно важную роль:\n",
    "\n",
    "1. **Обработка ошибок данных**: Некорректные форматы, отсутствующие значения, несовместимые размерности\n",
    "2. **Проверка предусловий алгоритмов**: Например, положительные значения для алгоритмов, требующих этого\n",
    "3. **Обработка ошибок при обучении**: Расходимость градиентного спуска, ошибки в оптимизации\n",
    "4. **Проблемы с ресурсами**: Обработка случаев нехватки памяти при работе с большими данными\n",
    "\n",
    "Исключения в Python — это мощный механизм для обработки ошибок, который позволяет:\n",
    "- Отделить код обработки ошибок от основной логики программы\n",
    "- Централизованно обрабатывать ошибки разных типов\n",
    "- Передавать информацию об ошибках между частями программы\n",
    "- Обеспечивать корректное освобождение ресурсов даже при возникновении ошибок"
   ]
  },
  {
   "cell_type": "markdown",
   "metadata": {
    "id": "eDl892hMyU9d"
   },
   "source": [
    "# Обработка исключений\n",
    "\n",
    "## Конструкция `try-except`\n",
    "\n",
    "Для обработки исключений в Python используется конструкция `try-except`. Она позволяет перехватить исключение и выполнить альтернативный код вместо аварийного завершения программы.\n",
    "\n",
    "### Базовый синтаксис:"
   ]
  },
  {
   "cell_type": "code",
   "execution_count": null,
   "metadata": {},
   "outputs": [],
   "source": [
    "try:\n",
    "    # Код, который может вызвать исключение\n",
    "    # ...\n",
    "except:\n",
    "    # Код, который выполняется при возникновении любого исключения\n",
    "    # ..."
   ]
  },
  {
   "cell_type": "markdown",
   "metadata": {},
   "source": [
    "### Пример простого использования:"
   ]
  },
  {
   "cell_type": "code",
   "execution_count": 61,
   "metadata": {
    "id": "uvlwmFBryYn_"
   },
   "outputs": [
    {
     "name": "stdout",
     "output_type": "stream",
     "text": [
      "Ошибка! Необходимо ввести целое число.\n"
     ]
    }
   ],
   "source": [
    "try:\n",
    "    number = int(input(\"Введите число: \"))\n",
    "    print(f\"Вы ввели: {number}\")\n",
    "except:\n",
    "    print(\"Ошибка! Необходимо ввести целое число.\")"
   ]
  },
  {
   "cell_type": "markdown",
   "metadata": {
    "id": "nSxv0MdEysVS"
   },
   "source": [
    "В этом примере:\n",
    "- Блок `try` содержит код, который может вызвать исключение (преобразование строки в число)\n",
    "- Блок `except` содержит код, который выполнится, если произошла ошибка\n",
    "\n",
    "> **Важно**: Использование `except` без указания типа исключения перехватывает все типы исключений, что обычно не рекомендуется, так как может скрыть неожиданные ошибки."
   ]
  },
  {
   "cell_type": "markdown",
   "metadata": {
    "id": "Cxwx5VQry-3_"
   },
   "source": [
    "## Блоки `else` и `finally`\n",
    "\n",
    "Конструкция `try-except` может быть дополнена блоками `else` и `finally`, которые расширяют возможности обработки исключений.\n",
    "\n",
    "### Полный синтаксис:\n",
    "\n",
    "```python\n",
    "try:\n",
    "    # Код, который может вызвать исключение\n",
    "    # ...\n",
    "except Исключение1:\n",
    "    # Обработка исключения типа Исключение1\n",
    "    # ...\n",
    "except Исключение2:\n",
    "    # Обработка исключения типа Исключение2\n",
    "    # ...\n",
    "else:\n",
    "    # Выполняется, если в блоке try НЕ возникло исключений\n",
    "    # ...\n",
    "finally:\n",
    "    # Выполняется ВСЕГДА, независимо от того, было исключение или нет\n",
    "    # ...\n",
    "```\n",
    "\n"
   ]
  },
  {
   "cell_type": "markdown",
   "metadata": {
    "id": "jnC6Ksoc0A1b"
   },
   "source": [
    "### Блок `else`\n",
    "\n",
    "Блок `else` выполняется только если в блоке `try` не возникло исключений. Это полезно для отделения кода, который должен выполняться только при успешном выполнении блока `try`.\n",
    "\n"
   ]
  },
  {
   "cell_type": "code",
   "execution_count": 64,
   "metadata": {
    "id": "b6lNTGX7zGvy"
   },
   "outputs": [
    {
     "name": "stdout",
     "output_type": "stream",
     "text": [
      "Успешно! Вы ввели число 1\n"
     ]
    }
   ],
   "source": [
    "try:\n",
    "    number = int(input(\"Введите число: \"))\n",
    "except ValueError:\n",
    "    print(\"Ошибка! Введите целое число.\")\n",
    "else:\n",
    "    # Этот блок выполнится только если не было исключения\n",
    "    print(f\"Успешно! Вы ввели число {number}\")\n",
    "    # Здесь можно безопасно использовать переменную number\n"
   ]
  },
  {
   "cell_type": "markdown",
   "metadata": {
    "id": "LRNm8i_qzJ8C"
   },
   "source": [
    "### Блок `finally`\n",
    "\n",
    "Блок `finally` содержит код, который выполнится в любом случае, независимо от того, возникло исключение или нет. Этот блок обычно используется для освобождения ресурсов (закрытие файлов, соединений с базами данных и т.д.).\n",
    "\n"
   ]
  },
  {
   "cell_type": "code",
   "execution_count": 66,
   "metadata": {
    "colab": {
     "base_uri": "https://localhost:8080/"
    },
    "executionInfo": {
     "elapsed": 5,
     "status": "ok",
     "timestamp": 1741622852223,
     "user": {
      "displayName": "Nick Osipov",
      "userId": "17245529527264073567"
     },
     "user_tz": -180
    },
    "id": "Yzl8U6gKzLND",
    "outputId": "b42655bd-9c94-4f3c-9c07-707afa9d9c36"
   },
   "outputs": [
    {
     "name": "stdout",
     "output_type": "stream",
     "text": [
      "Файл закрыт.\n",
      "Все ресурсы освобождены.\n"
     ]
    }
   ],
   "source": [
    "try:\n",
    "    f = open(\"data.txt\", \"r\")\n",
    "    content = f.read()\n",
    "except FileNotFoundError:\n",
    "    print(\"Файл не найден!\")\n",
    "finally:\n",
    "    # Этот блок выполнится в любом случае\n",
    "    # Даже если файл не найден, переменная f будет существовать\n",
    "    # до этой строки кода, что позволит избежать ошибки NameError\n",
    "    if 'f' in locals():\n",
    "        f.close()\n",
    "        print(\"Файл закрыт.\")\n",
    "    print(\"Все ресурсы освобождены.\")"
   ]
  },
  {
   "cell_type": "markdown",
   "metadata": {
    "id": "ANIzvsg30Jzi"
   },
   "source": [
    "## Несколько блоков `except`\n",
    "\n",
    "Вы можете использовать несколько блоков `except` для обработки разных типов исключений по-разному:\n"
   ]
  },
  {
   "cell_type": "code",
   "execution_count": 69,
   "metadata": {
    "colab": {
     "base_uri": "https://localhost:8080/"
    },
    "executionInfo": {
     "elapsed": 4949,
     "status": "ok",
     "timestamp": 1741622935112,
     "user": {
      "displayName": "Nick Osipov",
      "userId": "17245529527264073567"
     },
     "user_tz": -180
    },
    "id": "CvEtQfhj0I4p",
    "outputId": "ae489832-3689-4dc4-8865-6b6652d7bdc6"
   },
   "outputs": [
    {
     "name": "stdout",
     "output_type": "stream",
     "text": [
      "Ошибка! Деление на ноль недопустимо.\n"
     ]
    }
   ],
   "source": [
    "try:\n",
    "    num1 = int(input(\"Введите первое число: \"))\n",
    "    num2 = int(input(\"Введите второе число: \"))\n",
    "    result = num1 / num2\n",
    "    print(f\"Результат деления: {result}\")\n",
    "except ValueError:\n",
    "    print(\"Ошибка! Введите целое число.\")\n",
    "except ZeroDivisionError:\n",
    "    print(\"Ошибка! Деление на ноль недопустимо.\")\n",
    "except Exception as e:\n",
    "    # Перехват всех других исключений\n",
    "    print(f\"Неожиданная ошибка: {e}\")"
   ]
  },
  {
   "cell_type": "markdown",
   "metadata": {
    "id": "sTTlVP_P0MxZ"
   },
   "source": [
    "\n",
    "В этом примере:\n",
    "- `ValueError` обрабатывает ошибки при преобразовании строки в число\n",
    "- `ZeroDivisionError` обрабатывает ошибки деления на ноль\n",
    "- `Exception` перехватывает все остальные исключения"
   ]
  },
  {
   "cell_type": "markdown",
   "metadata": {
    "id": "lE4HG-c40kRX"
   },
   "source": [
    "### Порядок блоков `except`\n",
    "\n",
    "Порядок блоков `except` важен! Python проверяет их сверху вниз и выполняет первый подходящий блок. Поэтому более специфические исключения должны идти перед более общими:\n"
   ]
  },
  {
   "cell_type": "code",
   "execution_count": null,
   "metadata": {},
   "outputs": [],
   "source": [
    "try:\n",
    "    # Какой-то код\n",
    "    pass\n",
    "except ValueError:  # Специфическое исключение\n",
    "    # Обработка ValueError\n",
    "    pass\n",
    "except Exception:  # Общее исключение\n",
    "    # Обработка всех других исключений\n",
    "    pass"
   ]
  },
  {
   "cell_type": "markdown",
   "metadata": {},
   "source": [
    "\n",
    "Неправильный порядок:\n"
   ]
  },
  {
   "cell_type": "code",
   "execution_count": null,
   "metadata": {},
   "outputs": [],
   "source": [
    "try:\n",
    "    # Какой-то код\n",
    "    pass\n",
    "except Exception:  # Общее исключение перехватит все!\n",
    "    # Обработка всех исключений\n",
    "    pass\n",
    "except ValueError:  # Этот блок никогда не выполнится!\n",
    "    # Обработка ValueError\n",
    "    pass"
   ]
  },
  {
   "cell_type": "markdown",
   "metadata": {},
   "source": [
    "## Перехват конкретных исключений\n",
    "\n",
    "### Перехват одного типа исключения\n"
   ]
  },
  {
   "cell_type": "code",
   "execution_count": 70,
   "metadata": {},
   "outputs": [],
   "source": [
    "try:\n",
    "    age = int(input(\"Введите ваш возраст: \"))\n",
    "except ValueError:\n",
    "    print(\"Ошибка! Возраст должен быть целым числом.\")"
   ]
  },
  {
   "cell_type": "markdown",
   "metadata": {},
   "source": [
    "### Перехват нескольких типов исключений в одном блоке\n",
    "\n",
    "Можно перехватывать несколько типов исключений в одном блоке `except`, указав их в кортеже:\n"
   ]
  },
  {
   "cell_type": "code",
   "execution_count": 73,
   "metadata": {},
   "outputs": [
    {
     "name": "stdout",
     "output_type": "stream",
     "text": [
      "Ошибка: ключ не найден или значение равно нулю\n"
     ]
    }
   ],
   "source": [
    "my_dict = {\"a\": 1, \"b\": 0}\n",
    "key = \"b\"\n",
    "\n",
    "try:\n",
    "    value = my_dict[key]\n",
    "    result = 10 / value\n",
    "except (KeyError, ZeroDivisionError):\n",
    "    print(\"Ошибка: ключ не найден или значение равно нулю\")"
   ]
  },
  {
   "cell_type": "markdown",
   "metadata": {
    "id": "NGg2SxtV0pyK"
   },
   "source": [
    "### Получение информации об исключении\n",
    "\n",
    "Вы можете получить доступ к объекту исключения с помощью конструкции `as`:\n",
    "\n"
   ]
  },
  {
   "cell_type": "code",
   "execution_count": 74,
   "metadata": {},
   "outputs": [
    {
     "name": "stdout",
     "output_type": "stream",
     "text": [
      "Произошла ошибка: invalid literal for int() with base 10: 'abc'\n",
      "Тип ошибки: ValueError\n"
     ]
    }
   ],
   "source": [
    "try:\n",
    "    number = int(\"abc\")\n",
    "except ValueError as e:\n",
    "    print(f\"Произошла ошибка: {e}\")  # Выведет: Произошла ошибка: invalid literal for int() with base 10: 'abc'\n",
    "    print(f\"Тип ошибки: {type(e).__name__}\")  # Выведет: Тип ошибки: ValueError\n"
   ]
  },
  {
   "cell_type": "markdown",
   "metadata": {
    "id": "f6U9mczY0tFd"
   },
   "source": [
    "Объект исключения содержит полезную информацию об ошибке, такую как сообщение и стек вызовов."
   ]
  },
  {
   "cell_type": "markdown",
   "metadata": {
    "id": "BoIjaHFa1Jue"
   },
   "source": [
    "## Пример комплексной обработки исключений\n",
    "\n",
    "Рассмотрим более сложный пример, демонстрирующий различные аспекты обработки исключений:"
   ]
  },
  {
   "cell_type": "code",
   "execution_count": null,
   "metadata": {
    "id": "fLnsYPfS1F0X"
   },
   "outputs": [],
   "source": [
    "def read_data_from_file(filename):\n",
    "    \"\"\"Читает данные из файла и возвращает список чисел.\"\"\"\n",
    "    try:\n",
    "        with open(filename, 'r') as file:\n",
    "            lines = file.readlines()\n",
    "\n",
    "            # Преобразуем строки в числа\n",
    "            numbers = []\n",
    "            for i, line in enumerate(lines, 1):\n",
    "                try:\n",
    "                    num = float(line.strip())\n",
    "                    numbers.append(num)\n",
    "                except ValueError:\n",
    "                    print(f\"Предупреждение: строка {i} содержит недопустимое число: '{line.strip()}'\")\n",
    "                    continue\n",
    "\n",
    "            return numbers\n",
    "    except FileNotFoundError as e:\n",
    "        print(f\"Ошибка: файл '{filename}' не найден.\")\n",
    "        print(f\"Подробности: {e}\")\n",
    "        return []\n",
    "    except PermissionError:\n",
    "        print(f\"Ошибка: нет прав доступа к файлу '{filename}'.\")\n",
    "        return []\n",
    "    except Exception as e:\n",
    "        print(f\"Неожиданная ошибка при чтении файла: {e}\")\n",
    "        return []\n",
    "\n",
    "def calculate_statistics(numbers):\n",
    "    \"\"\"Вычисляет статистику на основе списка чисел.\"\"\"\n",
    "    try:\n",
    "        if not numbers:\n",
    "            raise ValueError(\"Список чисел пуст\")\n",
    "\n",
    "        count = len(numbers)\n",
    "        total = sum(numbers)\n",
    "        mean = total / count\n",
    "\n",
    "        # Вычисляем дополнительную статистику\n",
    "        minimum = min(numbers)\n",
    "        maximum = max(numbers)\n",
    "\n",
    "        return {\n",
    "            \"count\": count,\n",
    "            \"total\": total,\n",
    "            \"mean\": mean,\n",
    "            \"min\": minimum,\n",
    "            \"max\": maximum\n",
    "        }\n",
    "    except ValueError as e:\n",
    "        print(f\"Ошибка при вычислении статистики: {e}\")\n",
    "        return None\n",
    "    \n",
    "    except TypeError as e:\n",
    "        print(f\"Ошибка: неверный тип данных в списке чисел: {e}\")\n",
    "        return None\n",
    "    \n",
    "    except Exception as e:\n",
    "        print(f\"Неожиданная ошибка при вычислении статистики: {e}\")\n",
    "        return None"
   ]
  },
  {
   "cell_type": "code",
   "execution_count": 83,
   "metadata": {},
   "outputs": [
    {
     "name": "stdout",
     "output_type": "stream",
     "text": [
      "Предупреждение: строка 2 содержит недопустимое число: 'a'\n",
      "Неожиданная ошибка при чтении файла: Ошибка преобразования строки 2 в число: 'a'\n",
      "Не удалось получить данные для анализа.\n"
     ]
    }
   ],
   "source": [
    "# Использование функций\n",
    "filename = input(\"Введите имя файла с данными: \")\n",
    "data = read_data_from_file(filename)\n",
    "\n",
    "if data:\n",
    "    print(f\"Прочитано {len(data)} чисел.\")\n",
    "    stats = calculate_statistics(data)\n",
    "\n",
    "    if stats:\n",
    "        print(\"\\nСтатистика:\")\n",
    "        for key, value in stats.items():\n",
    "            print(f\"{key}: {value}\")\n",
    "else:\n",
    "    print(\"Не удалось получить данные для анализа.\")"
   ]
  },
  {
   "cell_type": "markdown",
   "metadata": {},
   "source": [
    "Этот пример демонстрирует:\n",
    "1. Вложенные блоки `try-except`\n",
    "2. Обработку разных типов исключений\n",
    "3. Доступ к информации об исключениях\n",
    "4. Возврат значений по умолчанию при ошибках\n",
    "5. Собственное возбуждение исключений с помощью `raise`"
   ]
  },
  {
   "cell_type": "markdown",
   "metadata": {},
   "source": [
    "## Лучшие практики обработки исключений\n",
    "\n",
    "### 1. Перехватывайте конкретные исключения\n",
    "\n",
    "Не используйте `except:` без указания типа исключения. Перехватывайте только те исключения, которые можете обработать:\n",
    "\n"
   ]
  },
  {
   "cell_type": "code",
   "execution_count": null,
   "metadata": {},
   "outputs": [],
   "source": [
    "# Плохо\n",
    "try:\n",
    "    num = int(input(\"Введите число: \"))\n",
    "except:  # Перехватывает все, включая KeyboardInterrupt, SystemExit и т.д.\n",
    "    print(\"Ошибка\")"
   ]
  },
  {
   "cell_type": "code",
   "execution_count": null,
   "metadata": {},
   "outputs": [],
   "source": [
    "# Хорошо\n",
    "try:\n",
    "    num = int(input(\"Введите число: \"))\n",
    "except ValueError:  # Перехватывает только ошибки преобразования\n",
    "    print(\"Ошибка! Введите целое число.\")"
   ]
  },
  {
   "cell_type": "markdown",
   "metadata": {},
   "source": [
    "### 2. Обрабатывайте исключения на правильном уровне\n",
    "\n",
    "Обрабатывайте исключения как можно ближе к месту их возникновения, но только если вы знаете, как их обработать:\n",
    "\n"
   ]
  },
  {
   "cell_type": "code",
   "execution_count": null,
   "metadata": {},
   "outputs": [],
   "source": [
    "# Функция, которая может вызвать исключение\n",
    "def parse_data(data):\n",
    "    try:\n",
    "        processed_data = list(data)  # Преобразование данных\n",
    "        # Код, который может вызвать исключение\n",
    "        return processed_data\n",
    "    except SpecificError:\n",
    "        # Обработка только если мы знаем, что делать\n",
    "        return default_data\n",
    "    # Другие исключения пусть обрабатываются выше"
   ]
  },
  {
   "cell_type": "markdown",
   "metadata": {},
   "source": [
    "### 3. Не скрывайте исключения без обработки\n",
    "\n",
    "Избегайте пустых блоков `except` или блоков, которые только подавляют ошибку:\n"
   ]
  },
  {
   "cell_type": "code",
   "execution_count": null,
   "metadata": {},
   "outputs": [],
   "source": [
    "def process_data():\n",
    "    pass  # Код обработки данных\n",
    "\n",
    "def logger(message):\n",
    "    # Логирование сообщения\n",
    "    print(f\"LOG: {message}\")\n",
    "\n",
    "# Плохо\n",
    "try:\n",
    "    process_data()\n",
    "except Exception:\n",
    "    pass  # Подавляет все ошибки без обработки\n"
   ]
  },
  {
   "cell_type": "code",
   "execution_count": null,
   "metadata": {},
   "outputs": [],
   "source": [
    "# Хорошо\n",
    "try:\n",
    "    process_data()\n",
    "except Exception as e:\n",
    "    logger(e)  # Хотя бы логируем ошибку\n",
    "    raise  # При необходимости, продолжаем \"всплытие\" исключения"
   ]
  },
  {
   "cell_type": "markdown",
   "metadata": {},
   "source": [
    "### 4. Используйте блок `finally` для освобождения ресурсов\n",
    "\n",
    "Гарантируйте, что ресурсы всегда освобождаются:\n",
    "\n"
   ]
  },
  {
   "cell_type": "code",
   "execution_count": null,
   "metadata": {},
   "outputs": [],
   "source": [
    "def create_db_connection():\n",
    "    pass # Код для создания соединения с БД\n",
    "\n",
    "class DBConnectionError(Exception):\n",
    "    pass # Пользовательское исключение для ошибок соединения\n",
    "\n",
    "connection = None\n",
    "try:\n",
    "    connection = create_db_connection()\n",
    "    # Работа с базой данных\n",
    "except DBConnectionError:\n",
    "    # Обработка ошибки соединения\n",
    "    print(\"Не удалось подключиться к базе данных\")\n",
    "finally:\n",
    "    # Закрываем соединение, если оно было открыто\n",
    "    if connection:\n",
    "        connection.close()"
   ]
  },
  {
   "cell_type": "markdown",
   "metadata": {},
   "source": [
    "### 5. Используйте контекстные менеджеры (`with`)\n",
    "\n",
    "Когда возможно, используйте конструкцию `with` для автоматического управления ресурсами:\n",
    "\n"
   ]
  },
  {
   "cell_type": "code",
   "execution_count": null,
   "metadata": {},
   "outputs": [],
   "source": [
    "# Вместо try-finally\n",
    "try:\n",
    "    file = open(\"data.txt\", \"r\")\n",
    "    # Работа с файлом\n",
    "finally:\n",
    "    file.close()\n",
    "\n",
    "# Используйте with\n",
    "with open(\"data.txt\", \"r\") as file:\n",
    "    # Работа с файлом\n",
    "# Файл автоматически закрывается при выходе из блока with"
   ]
  },
  {
   "cell_type": "markdown",
   "metadata": {
    "id": "C6GDEcDp1eFg"
   },
   "source": [
    "\n",
    "## Применение обработки исключений в ML-проектах\n",
    "\n",
    "В контексте машинного обучения обработка исключений особенно важна:"
   ]
  },
  {
   "cell_type": "markdown",
   "metadata": {
    "id": "VnLjK_do1g0b"
   },
   "source": [
    "\n",
    "\n",
    "1. **Проверка входных данных**:"
   ]
  },
  {
   "cell_type": "code",
   "execution_count": null,
   "metadata": {
    "id": "CnaTy6eE1kEi"
   },
   "outputs": [],
   "source": [
    "class Model:\n",
    "    pass  # Код модели\n",
    "\n",
    "def create_model():\n",
    "    pass # Код для создания модели\n",
    "\n",
    "def train_model(data):\n",
    "    pass # Код для обучения модели\n",
    "\n",
    "def train(data):\n",
    "    try:\n",
    "        # Проверяем наличие необходимых столбцов\n",
    "        required_columns = [\"feature1\", \"feature2\", \"target\"]\n",
    "        for col in required_columns:\n",
    "            if col not in data.columns:\n",
    "                raise ValueError(f\"В данных отсутствует необходимый столбец: {col}\")\n",
    "\n",
    "        # Проверяем пропущенные значения\n",
    "        if data.isnull().any().any():\n",
    "            raise ValueError(\"Данные содержат пропущенные значения\")\n",
    "\n",
    "        # Продолжаем обучение модели\n",
    "        model = create_model()\n",
    "        model = train_model(data)\n",
    "        return model\n",
    "\n",
    "    except ValueError as e:\n",
    "        print(f\"Ошибка в данных: {e}\")\n",
    "        return None\n",
    "    except Exception as e:\n",
    "        print(f\"Неожиданная ошибка при обучении модели: {e}\")\n",
    "        return None"
   ]
  },
  {
   "cell_type": "markdown",
   "metadata": {
    "id": "fLy-d7Id1-i8"
   },
   "source": [
    "\n",
    "2. **Обработка ошибок при загрузке модели**:"
   ]
  },
  {
   "cell_type": "code",
   "execution_count": null,
   "metadata": {
    "id": "NpZae-J02AhJ"
   },
   "outputs": [],
   "source": [
    "def create_model():\n",
    "    pass # Код для создания модели\n",
    "\n",
    "def load_model_from_disk():\n",
    "    pass # Код для загрузки модели\n",
    "\n",
    "def load_model(model_path):\n",
    "    try:\n",
    "        model = load_model_from_disk(model_path)\n",
    "        return model\n",
    "    except FileNotFoundError:\n",
    "        print(f\"Модель не найдена по пути: {model_path}\")\n",
    "        print(\"Будет создана новая модель\")\n",
    "        return create_model()"
   ]
  },
  {
   "cell_type": "markdown",
   "metadata": {
    "id": "oi8HmKbd1U0q"
   },
   "source": [
    "3. **Обработка ошибок при предсказании**:\n"
   ]
  },
  {
   "cell_type": "code",
   "execution_count": null,
   "metadata": {
    "id": "SlDP4yz22cS6"
   },
   "outputs": [],
   "source": [
    "class Model:\n",
    "    def __init__(self):\n",
    "        pass  # Код инициализации модели\n",
    "\n",
    "    def predict(self, data):\n",
    "        # Код предсказания\n",
    "        pass\n",
    "\n",
    "def predict(model: Model, data: list):\n",
    "    try:\n",
    "        predictions = model.predict(data)\n",
    "        return predictions\n",
    "    except Exception as e:\n",
    "        print(f\"Ошибка при предсказании: {e}\")\n",
    "        # Возвращаем значения по умолчанию или None\n",
    "        return [None] * len(data)"
   ]
  },
  {
   "cell_type": "markdown",
   "metadata": {
    "id": "p3wLkqTP1Wzt"
   },
   "source": [
    "\n",
    "Хорошая стратегия обработки исключений помогает:\n",
    "\n",
    "1. **Делать код более устойчивым** к ошибкам и непредвиденным ситуациям\n",
    "2. **Улучшать пользовательский опыт**, предоставляя понятные сообщения об ошибках\n",
    "3. **Обеспечивать правильное освобождение ресурсов** даже при возникновении ошибок\n",
    "4. **Разделять код обычной логики** от кода обработки исключительных ситуаций"
   ]
  },
  {
   "cell_type": "markdown",
   "metadata": {},
   "source": [
    "# Доп материалы. Декораторы"
   ]
  },
  {
   "cell_type": "code",
   "execution_count": 41,
   "metadata": {},
   "outputs": [],
   "source": [
    "# декоратор timer\n",
    "\n",
    "import time\n",
    "from typing import Callable\n",
    "\n",
    "\n",
    "def timer(func: Callable) -> Callable:\n",
    "    def wrapper(*args, **kwargs):\n",
    "        start_time = time.time()\n",
    "        result = func(*args, **kwargs)\n",
    "        end_time = time.time()\n",
    "        print(f\"Время выполнения {func.__name__}: {end_time - start_time:.4f} секунд\")\n",
    "        return result\n",
    "    return wrapper\n",
    "\n"
   ]
  },
  {
   "cell_type": "code",
   "execution_count": 44,
   "metadata": {},
   "outputs": [
    {
     "data": {
      "text/plain": [
       "4"
      ]
     },
     "execution_count": 44,
     "metadata": {},
     "output_type": "execute_result"
    }
   ],
   "source": [
    "def function_1(a, b):\n",
    "    time.sleep(1)  # Имитация длительной операции\n",
    "    return a + b\n",
    "\n",
    "function_1(2, 2)"
   ]
  },
  {
   "cell_type": "code",
   "execution_count": 47,
   "metadata": {},
   "outputs": [
    {
     "name": "stdout",
     "output_type": "stream",
     "text": [
      "Время выполнения function_2: 2.0001 секунд\n"
     ]
    },
    {
     "data": {
      "text/plain": [
       "4"
      ]
     },
     "execution_count": 47,
     "metadata": {},
     "output_type": "execute_result"
    }
   ],
   "source": [
    "@timer\n",
    "def function_2(a, b):\n",
    "    time.sleep(2)  # Имитация длительной операции\n",
    "    return a * b\n",
    "\n",
    "function_2(2, 2)"
   ]
  },
  {
   "cell_type": "code",
   "execution_count": 46,
   "metadata": {},
   "outputs": [
    {
     "name": "stdout",
     "output_type": "stream",
     "text": [
      "Время выполнения function_1: 1.0001 секунд\n"
     ]
    },
    {
     "data": {
      "text/plain": [
       "4"
      ]
     },
     "execution_count": 46,
     "metadata": {},
     "output_type": "execute_result"
    }
   ],
   "source": [
    "timer(function_1)(2, 2)"
   ]
  }
 ],
 "metadata": {
  "colab": {
   "authorship_tag": "ABX9TyOvYfspGFeyK/O1qFMcqBIt",
   "provenance": []
  },
  "kernelspec": {
   "display_name": ".venv (3.11.12)",
   "language": "python",
   "name": "python3"
  },
  "language_info": {
   "codemirror_mode": {
    "name": "ipython",
    "version": 3
   },
   "file_extension": ".py",
   "mimetype": "text/x-python",
   "name": "python",
   "nbconvert_exporter": "python",
   "pygments_lexer": "ipython3",
   "version": "3.11.12"
  }
 },
 "nbformat": 4,
 "nbformat_minor": 0
}
